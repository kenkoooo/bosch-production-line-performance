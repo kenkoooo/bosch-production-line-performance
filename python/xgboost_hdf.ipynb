{
 "cells": [
  {
   "cell_type": "markdown",
   "metadata": {},
   "source": [
    "HDF5 版の XGBoost"
   ]
  },
  {
   "cell_type": "code",
   "execution_count": 1,
   "metadata": {
    "collapsed": false
   },
   "outputs": [
    {
     "name": "stderr",
     "output_type": "stream",
     "text": [
      "/usr/local/lib/python3.5/dist-packages/sklearn/cross_validation.py:44: DeprecationWarning: This module was deprecated in version 0.18 in favor of the model_selection module into which all the refactored classes and functions are moved. Also note that the interface of the new CV iterators are different from that of this module. This module will be removed in 0.20.\n",
      "  \"This module will be removed in 0.20.\", DeprecationWarning)\n"
     ]
    }
   ],
   "source": [
    "# ライブラリの皆さん\n",
    "import numpy as np\n",
    "import pandas as pd\n",
    "from xgboost import XGBClassifier\n",
    "from sklearn.metrics import matthews_corrcoef, roc_auc_score\n",
    "from sklearn.cross_validation import cross_val_score, StratifiedKFold\n",
    "import matplotlib.pyplot as plt\n",
    "import time\n",
    "import seaborn as sns\n",
    "%matplotlib inline"
   ]
  },
  {
   "cell_type": "code",
   "execution_count": 2,
   "metadata": {
    "collapsed": true
   },
   "outputs": [],
   "source": [
    "# 入力ファイルの皆さん\n",
    "TRAINS = [\n",
    "    \"../hdf/train_categorical.hdf\",\n",
    "    \"../hdf/train_numeric.hdf\",\n",
    "    \"../hdf/train_date_L0_normalized.hdf\",\n",
    "    \"../hdf/train_date_L1_normalized.hdf\",\n",
    "    \"../hdf/train_date_L2_normalized.hdf\",\n",
    "    \"../hdf/train_date_L3_normalized.hdf\",\n",
    "    \"../hdf/train_date_min_max.hdf\",\n",
    "    \"../hdf/train_date_L0_min_max.hdf\",\n",
    "    \"../hdf/train_date_L1_min_max.hdf\",\n",
    "    \"../hdf/train_date_L2_min_max.hdf\",\n",
    "    \"../hdf/train_date_L3_min_max.hdf\",\n",
    "    \"../hdf/train_categorical_L3_S32_F3854_decomposite.hdf\",\n",
    "    \"../hdf/train_numeric_L1_S24_F1844_extract.hdf\",\n",
    "    \"../hdf/train_numeric_L1_S24_F1723_-0.12.hdf\",\n",
    "    \"../hdf/train_numeric_L1_S24_F1723_extract.hdf\",\n",
    "    \"../hdf/train_S24_C_md5.hdf\"\n",
    "]\n",
    "TESTS = []\n",
    "for file in TRAINS:\n",
    "    TESTS.append(file.replace(\"train\", \"test\"))\n",
    "RESPONSE = \"../hdf/train_response.hdf\""
   ]
  },
  {
   "cell_type": "code",
   "execution_count": 3,
   "metadata": {
    "collapsed": false
   },
   "outputs": [
    {
     "name": "stdout",
     "output_type": "stream",
     "text": [
      "CPU times: user 24.5 s, sys: 8.98 s, total: 33.5 s\n",
      "Wall time: 33.5 s\n"
     ]
    }
   ],
   "source": [
    "%%time\n",
    "# 重要度を見てみる\n",
    "X = pd.concat((pd.read_hdf(filename) for filename in TRAINS), axis=1)\n",
    "columns = X.columns\n",
    "X = X.sample(frac=0.7)\n",
    "y = pd.read_hdf(RESPONSE).loc[X.index].values.ravel()\n",
    "X = X.values"
   ]
  },
  {
   "cell_type": "code",
   "execution_count": 4,
   "metadata": {
    "collapsed": false,
    "scrolled": true
   },
   "outputs": [
    {
     "name": "stdout",
     "output_type": "stream",
     "text": [
      "CPU times: user 24min 49s, sys: 7.05 s, total: 24min 56s\n",
      "Wall time: 1min 57s\n"
     ]
    },
    {
     "data": {
      "image/png": "[encoded data removed]",
      "text/plain": [
       "<matplotlib.figure.Figure at 0x7f28a3b02e80>"
      ]
     },
     "metadata": {},
     "output_type": "display_data"
    }
   ],
   "source": [
    "%%time\n",
    "clf = XGBClassifier(base_score=0.005)\n",
    "clf.fit(X, y)\n",
    "plt.hist(clf.feature_importances_[clf.feature_importances_>0])"
   ]
  },
  {
   "cell_type": "code",
   "execution_count": 5,
   "metadata": {
    "collapsed": false,
    "scrolled": true
   },
   "outputs": [
    {
     "data": {
      "text/plain": [
       "['L3_S32_F3854',\n",
       " 'L0_S0_F4',\n",
       " 'L0_S0_F12',\n",
       " 'L0_S0_F14',\n",
       " 'L0_S0_F20',\n",
       " 'L0_S0_F22',\n",
       " 'L0_S1_F24',\n",
       " 'L0_S1_F28',\n",
       " 'L0_S2_F44',\n",
       " 'L0_S2_F48',\n",
       " 'L0_S2_F56',\n",
       " 'L0_S2_F60',\n",
       " 'L0_S2_F64',\n",
       " 'L0_S3_F96',\n",
       " 'L0_S3_F100',\n",
       " 'L0_S4_F104',\n",
       " 'L0_S4_F109',\n",
       " 'L0_S5_F116',\n",
       " 'L0_S6_F122',\n",
       " 'L0_S6_F132',\n",
       " 'L0_S9_F170',\n",
       " 'L0_S10_F259',\n",
       " 'L0_S11_F282',\n",
       " 'L0_S11_F290',\n",
       " 'L0_S11_F310',\n",
       " 'L0_S11_F314',\n",
       " 'L0_S11_F318',\n",
       " 'L0_S11_F322',\n",
       " 'L0_S11_F326',\n",
       " 'L0_S12_F346',\n",
       " 'L0_S12_F348',\n",
       " 'L0_S12_F350',\n",
       " 'L0_S12_F352',\n",
       " 'L0_S13_F354',\n",
       " 'L0_S15_F397',\n",
       " 'L0_S15_F415',\n",
       " 'L0_S16_F426',\n",
       " 'L0_S17_F431',\n",
       " 'L0_S17_F433',\n",
       " 'L0_S19_F455',\n",
       " 'L0_S20_F461',\n",
       " 'L0_S23_F623',\n",
       " 'L1_S24_F839',\n",
       " 'L1_S24_F867',\n",
       " 'L1_S24_F930',\n",
       " 'L1_S24_F1036',\n",
       " 'L1_S24_F1102',\n",
       " 'L1_S24_F1118',\n",
       " 'L1_S24_F1122',\n",
       " 'L1_S24_F1130',\n",
       " 'L1_S24_F1145',\n",
       " 'L1_S24_F1207',\n",
       " 'L1_S24_F1212',\n",
       " 'L1_S24_F1298',\n",
       " 'L1_S24_F1406',\n",
       " 'L1_S24_F1426',\n",
       " 'L1_S24_F1467',\n",
       " 'L1_S24_F1494',\n",
       " 'L1_S24_F1498',\n",
       " 'L1_S24_F1512',\n",
       " 'L1_S24_F1520',\n",
       " 'L1_S24_F1565',\n",
       " 'L1_S24_F1567',\n",
       " 'L1_S24_F1571',\n",
       " 'L1_S24_F1573',\n",
       " 'L1_S24_F1575',\n",
       " 'L1_S24_F1581',\n",
       " 'L1_S24_F1604',\n",
       " 'L1_S24_F1609',\n",
       " 'L1_S24_F1632',\n",
       " 'L1_S24_F1657',\n",
       " 'L1_S24_F1690',\n",
       " 'L1_S24_F1723',\n",
       " 'L1_S24_F1758',\n",
       " 'L1_S24_F1808',\n",
       " 'L1_S24_F1818',\n",
       " 'L1_S24_F1822',\n",
       " 'L1_S24_F1824',\n",
       " 'L1_S24_F1842',\n",
       " 'L1_S24_F1844',\n",
       " 'L1_S24_F1846',\n",
       " 'L1_S24_F1850',\n",
       " 'L1_S25_F1958',\n",
       " 'L1_S25_F2126',\n",
       " 'L1_S25_F2241',\n",
       " 'L1_S25_F2346',\n",
       " 'L1_S25_F2385',\n",
       " 'L1_S25_F2390',\n",
       " 'L1_S25_F2449',\n",
       " 'L1_S25_F2456',\n",
       " 'L1_S25_F2460',\n",
       " 'L1_S25_F2767',\n",
       " 'L1_S25_F2770',\n",
       " 'L1_S25_F2960',\n",
       " 'L2_S26_F3036',\n",
       " 'L2_S26_F3040',\n",
       " 'L2_S26_F3047',\n",
       " 'L2_S26_F3069',\n",
       " 'L2_S26_F3073',\n",
       " 'L2_S26_F3106',\n",
       " 'L2_S26_F3113',\n",
       " 'L2_S26_F3117',\n",
       " 'L2_S26_F3121',\n",
       " 'L2_S26_F3125',\n",
       " 'L2_S27_F3129',\n",
       " 'L2_S27_F3133',\n",
       " 'L2_S27_F3144',\n",
       " 'L2_S27_F3155',\n",
       " 'L2_S27_F3166',\n",
       " 'L2_S27_F3199',\n",
       " 'L2_S27_F3210',\n",
       " 'L2_S27_F3214',\n",
       " 'L2_S28_F3303',\n",
       " 'L2_S28_F3307',\n",
       " 'L3_S29_F3321',\n",
       " 'L3_S29_F3324',\n",
       " 'L3_S29_F3327',\n",
       " 'L3_S29_F3330',\n",
       " 'L3_S29_F3336',\n",
       " 'L3_S29_F3339',\n",
       " 'L3_S29_F3342',\n",
       " 'L3_S29_F3345',\n",
       " 'L3_S29_F3348',\n",
       " 'L3_S29_F3351',\n",
       " 'L3_S29_F3357',\n",
       " 'L3_S29_F3373',\n",
       " 'L3_S29_F3376',\n",
       " 'L3_S29_F3379',\n",
       " 'L3_S29_F3382',\n",
       " 'L3_S29_F3407',\n",
       " 'L3_S29_F3433',\n",
       " 'L3_S29_F3436',\n",
       " 'L3_S29_F3461',\n",
       " 'L3_S29_F3473',\n",
       " 'L3_S29_F3476',\n",
       " 'L3_S29_F3479',\n",
       " 'L3_S29_F3488',\n",
       " 'L3_S30_F3494',\n",
       " 'L3_S30_F3509',\n",
       " 'L3_S30_F3514',\n",
       " 'L3_S30_F3534',\n",
       " 'L3_S30_F3544',\n",
       " 'L3_S30_F3554',\n",
       " 'L3_S30_F3574',\n",
       " 'L3_S30_F3579',\n",
       " 'L3_S30_F3589',\n",
       " 'L3_S30_F3604',\n",
       " 'L3_S30_F3609',\n",
       " 'L3_S30_F3629',\n",
       " 'L3_S30_F3634',\n",
       " 'L3_S30_F3639',\n",
       " 'L3_S30_F3644',\n",
       " 'L3_S30_F3684',\n",
       " 'L3_S30_F3689',\n",
       " 'L3_S30_F3704',\n",
       " 'L3_S30_F3709',\n",
       " 'L3_S30_F3744',\n",
       " 'L3_S30_F3749',\n",
       " 'L3_S30_F3754',\n",
       " 'L3_S30_F3759',\n",
       " 'L3_S30_F3764',\n",
       " 'L3_S30_F3769',\n",
       " 'L3_S30_F3774',\n",
       " 'L3_S30_F3799',\n",
       " 'L3_S30_F3804',\n",
       " 'L3_S30_F3809',\n",
       " 'L3_S30_F3819',\n",
       " 'L3_S30_F3829',\n",
       " 'L3_S31_F3834',\n",
       " 'L3_S31_F3842',\n",
       " 'L3_S32_F3850',\n",
       " 'L3_S33_F3855',\n",
       " 'L3_S33_F3857',\n",
       " 'L3_S33_F3859',\n",
       " 'L3_S33_F3865',\n",
       " 'L3_S34_F3876',\n",
       " 'L3_S34_F3882',\n",
       " 'L3_S35_F3889',\n",
       " 'L3_S35_F3896',\n",
       " 'L3_S36_F3918',\n",
       " 'L3_S36_F3920',\n",
       " 'L3_S36_F3930',\n",
       " 'L3_S38_F3952',\n",
       " 'L3_S38_F3956',\n",
       " 'L3_S38_F3960',\n",
       " 'L3_S40_F3982',\n",
       " 'L3_S40_F3986',\n",
       " 'L3_S44_F4118',\n",
       " 'L3_S48_F4196',\n",
       " 'L0_S6_D120_normalized',\n",
       " 'L0_S23_D617_normalized',\n",
       " 'L3_S30_D3496_normalized',\n",
       " 'L3_S33_D3856_normalized',\n",
       " 'L3_S34_D3875_normalized',\n",
       " 'L3_S36_D3919_normalized',\n",
       " 'L3_S37_D3942_normalized',\n",
       " 'L3_S38_D3953_normalized',\n",
       " 'min',\n",
       " 'max',\n",
       " 'min_max',\n",
       " 'L0_min',\n",
       " 'L0_min_max',\n",
       " 'L1_min',\n",
       " 'L1_max',\n",
       " 'L2_min',\n",
       " 'L3_min',\n",
       " 'L3_min_max',\n",
       " 'L3_S32_F3854_2',\n",
       " 'L3_S32_F3854_16',\n",
       " 'L3_S32_F3854_4',\n",
       " 'L3_S32_F3854_48']"
      ]
     },
     "execution_count": 5,
     "metadata": {},
     "output_type": "execute_result"
    }
   ],
   "source": [
    "important_indices = np.where(clf.feature_importances_>0.001)[0]\n",
    "important_columns = [columns[i] for i in important_indices]\n",
    "important_columns"
   ]
  },
  {
   "cell_type": "code",
   "execution_count": 6,
   "metadata": {
    "collapsed": false
   },
   "outputs": [],
   "source": [
    "X = pd.concat((pd.read_hdf(filename) for filename in TRAINS), axis=1)\n",
    "y = pd.read_hdf(RESPONSE)"
   ]
  },
  {
   "cell_type": "code",
   "execution_count": 7,
   "metadata": {
    "collapsed": true
   },
   "outputs": [],
   "source": [
    "X = X.loc[:, important_columns]"
   ]
  },
  {
   "cell_type": "code",
   "execution_count": 8,
   "metadata": {
    "collapsed": false
   },
   "outputs": [],
   "source": [
    "X = X.values\n",
    "y = y.values.ravel()"
   ]
  },
  {
   "cell_type": "code",
   "execution_count": 9,
   "metadata": {
    "collapsed": false
   },
   "outputs": [
    {
     "name": "stdout",
     "output_type": "stream",
     "text": [
      "fold 0, ROC AUC: 0.725\n",
      "fold 1, ROC AUC: 0.705\n",
      "fold 2, ROC AUC: 0.709\n",
      "0.712727259673\n",
      "CPU times: user 59min 43s, sys: 4.58 s, total: 59min 48s\n",
      "Wall time: 4min 5s\n"
     ]
    }
   ],
   "source": [
    "%%time\n",
    "# 予測して Cross Validation\n",
    "clf = XGBClassifier(max_depth=6, base_score=0.005)\n",
    "cv = StratifiedKFold(y, n_folds=3)\n",
    "predictions = np.ones(y.shape[0])\n",
    "for i, (train, test) in enumerate(cv):\n",
    "    predictions[test] = clf.fit(X[train], y[train]).predict_proba(X[test])[:, 1]\n",
    "    print(\"fold {}, ROC AUC: {:.3f}\".format(i, roc_auc_score(y[test], predictions[test])))\n",
    "print(roc_auc_score(y, predictions))"
   ]
  },
  {
   "cell_type": "code",
   "execution_count": 10,
   "metadata": {
    "collapsed": false
   },
   "outputs": [
    {
     "name": "stderr",
     "output_type": "stream",
     "text": [
      "/usr/local/lib/python3.5/dist-packages/sklearn/metrics/classification.py:516: RuntimeWarning: invalid value encountered in double_scalars\n",
      "  mcc = cov_ytyp / np.sqrt(var_yt * var_yp)\n"
     ]
    },
    {
     "name": "stdout",
     "output_type": "stream",
     "text": [
      "0.251814695361\n",
      "CPU times: user 26.5 s, sys: 16 ms, total: 26.5 s\n",
      "Wall time: 26.5 s\n"
     ]
    },
    {
     "data": {
      "image/png": "[encoded data removed]",
      "text/plain": [
       "<matplotlib.figure.Figure at 0x7f28929d8b70>"
      ]
     },
     "metadata": {},
     "output_type": "display_data"
    }
   ],
   "source": [
    "%%time\n",
    "# MCC 最適化\n",
    "thresholds = np.linspace(0.01, 0.99, 200)\n",
    "mcc = np.array([matthews_corrcoef(y, predictions > thr) for thr in thresholds])\n",
    "plt.plot(thresholds, mcc)\n",
    "best_threshold = thresholds[mcc.argmax()]\n",
    "print(mcc.max())"
   ]
  },
  {
   "cell_type": "code",
   "execution_count": 11,
   "metadata": {
    "collapsed": false
   },
   "outputs": [
    {
     "data": {
      "text/html": [
       "<div>\n",
       "<table border=\"1\" class=\"dataframe\">\n",
       "  <thead>\n",
       "    <tr style=\"text-align: right;\">\n",
       "      <th></th>\n",
       "      <th>Predict 1.0</th>\n",
       "      <th>Predict 0.0</th>\n",
       "    </tr>\n",
       "    <tr>\n",
       "      <th>Response</th>\n",
       "      <th></th>\n",
       "      <th></th>\n",
       "    </tr>\n",
       "  </thead>\n",
       "  <tbody>\n",
       "    <tr>\n",
       "      <th>0.0</th>\n",
       "      <td>1292</td>\n",
       "      <td>1175576</td>\n",
       "    </tr>\n",
       "    <tr>\n",
       "      <th>1.0</th>\n",
       "      <td>1012</td>\n",
       "      <td>5867</td>\n",
       "    </tr>\n",
       "  </tbody>\n",
       "</table>\n",
       "</div>"
      ],
      "text/plain": [
       "          Predict 1.0  Predict 0.0\n",
       "Response                          \n",
       "0.0              1292      1175576\n",
       "1.0              1012         5867"
      ]
     },
     "execution_count": 11,
     "metadata": {},
     "output_type": "execute_result"
    }
   ],
   "source": [
    "# この時点での当たり具合を出力\n",
    "tmp_threshold = best_threshold\n",
    "response = pd.read_hdf(RESPONSE)\n",
    "response[\"prediction\"] = predictions\n",
    "predicted_one = response[response[\"prediction\"] > tmp_threshold].groupby(\"Response\").count()\n",
    "predicted_one.rename(columns={\"prediction\":\"Predict 1.0\"}, inplace=True)\n",
    "predicted_zero = response[response[\"prediction\"] <= tmp_threshold].groupby(\"Response\").count()\n",
    "predicted_zero.rename(columns={\"prediction\":\"Predict 0.0\"}, inplace=True)\n",
    "pd.concat([predicted_one, predicted_zero], axis=1)"
   ]
  },
  {
   "cell_type": "markdown",
   "metadata": {},
   "source": [
    "提出用データを生成する"
   ]
  },
  {
   "cell_type": "code",
   "execution_count": null,
   "metadata": {
    "collapsed": false
   },
   "outputs": [],
   "source": [
    "# テストデータ読み込み\n",
    "X = pd.concat((pd.read_hdf(filename) for filename in TESTS), axis=1)\n",
    "X = X.loc[:, columns]\n",
    "index = X.index\n",
    "X = X.values\n",
    "# 0 or 1 に正規化\n",
    "predictions = (clf.predict_proba(X)[:, 1] > best_threshold).astype(np.int8)"
   ]
  },
  {
   "cell_type": "code",
   "execution_count": null,
   "metadata": {
    "collapsed": true
   },
   "outputs": [],
   "source": [
    "# 提出データを生成\n",
    "sub = pd.DataFrame(index=index.astype(np.int32), columns=[])\n",
    "sub[\"Response\"] = predictions\n",
    "sub.to_csv(\"submission.csv.gz\", compression=\"gzip\")"
   ]
  },
  {
   "cell_type": "code",
   "execution_count": null,
   "metadata": {
    "collapsed": true
   },
   "outputs": [],
   "source": []
  }
 ],
 "metadata": {
  "kernelspec": {
   "display_name": "Python 3",
   "language": "python",
   "name": "python3"
  },
  "language_info": {
   "codemirror_mode": {
    "name": "ipython",
    "version": 3
   },
   "file_extension": ".py",
   "mimetype": "text/x-python",
   "name": "python",
   "nbconvert_exporter": "python",
   "pygments_lexer": "ipython3",
   "version": "3.5.2"
  }
 },
 "nbformat": 4,
 "nbformat_minor": 1
}
