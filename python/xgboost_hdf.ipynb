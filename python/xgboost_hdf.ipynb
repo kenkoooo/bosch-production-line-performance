{
 "cells": [
  {
   "cell_type": "markdown",
   "metadata": {},
   "source": [
    "HDF5 版の XGBoost"
   ]
  },
  {
   "cell_type": "code",
   "execution_count": 1,
   "metadata": {
    "collapsed": false
   },
   "outputs": [
    {
     "name": "stderr",
     "output_type": "stream",
     "text": [
      "/usr/local/lib/python3.5/dist-packages/sklearn/cross_validation.py:44: DeprecationWarning: This module was deprecated in version 0.18 in favor of the model_selection module into which all the refactored classes and functions are moved. Also note that the interface of the new CV iterators are different from that of this module. This module will be removed in 0.20.\n",
      "  \"This module will be removed in 0.20.\", DeprecationWarning)\n"
     ]
    }
   ],
   "source": [
    "# ライブラリの皆さん\n",
    "import numpy as np\n",
    "import pandas as pd\n",
    "from xgboost import XGBClassifier\n",
    "from sklearn.metrics import matthews_corrcoef, roc_auc_score\n",
    "from sklearn.cross_validation import cross_val_score, StratifiedKFold\n",
    "import matplotlib.pyplot as plt\n",
    "import time\n",
    "import seaborn as sns\n",
    "%matplotlib inline"
   ]
  },
  {
   "cell_type": "code",
   "execution_count": 29,
   "metadata": {
    "collapsed": true
   },
   "outputs": [],
   "source": [
    "# 入力ファイルの皆さん\n",
    "TRAINS = [\n",
    "    \"../hdf/train_categorical.hdf\",\n",
    "    \"../hdf/train_numeric.hdf\",\n",
    "    \"../hdf/train_date_L0_normalized.hdf\",\n",
    "    \"../hdf/train_date_L1_normalized.hdf\",\n",
    "    \"../hdf/train_date_L2_normalized.hdf\",\n",
    "    \"../hdf/train_date_L3_normalized.hdf\",\n",
    "    \"../hdf/train_date_min_max.hdf\",\n",
    "    \"../hdf/train_date_L0_min_max.hdf\",\n",
    "    \"../hdf/train_date_L1_min_max.hdf\",\n",
    "    \"../hdf/train_date_L2_min_max.hdf\",\n",
    "    \"../hdf/train_date_L3_min_max.hdf\",\n",
    "    \"../hdf/train_categorical_L3_S32_F3854_decomposite.hdf\",\n",
    "]\n",
    "TESTS = []\n",
    "for file in TRAINS:\n",
    "    TESTS.append(file.replace(\"train\", \"test\"))\n",
    "RESPONSE = \"../hdf/train_response.hdf\""
   ]
  },
  {
   "cell_type": "code",
   "execution_count": 30,
   "metadata": {
    "collapsed": false
   },
   "outputs": [
    {
     "name": "stdout",
     "output_type": "stream",
     "text": [
      "CPU times: user 22.2 s, sys: 9.04 s, total: 31.3 s\n",
      "Wall time: 31.3 s\n"
     ]
    }
   ],
   "source": [
    "%%time\n",
    "# 重要度を見てみる\n",
    "X = pd.concat((pd.read_hdf(filename) for filename in TRAINS), axis=1)\n",
    "columns = X.columns\n",
    "X = X.sample(frac=0.5)\n",
    "y = pd.read_hdf(RESPONSE).loc[X.index].values.ravel()"
   ]
  },
  {
   "cell_type": "code",
   "execution_count": 31,
   "metadata": {
    "collapsed": false,
    "scrolled": true
   },
   "outputs": [
    {
     "name": "stdout",
     "output_type": "stream",
     "text": [
      "CPU times: user 17min 31s, sys: 6.46 s, total: 17min 38s\n",
      "Wall time: 1min 25s\n"
     ]
    },
    {
     "data": {
      "image/png": "[encoded data removed]",
      "text/plain": [
       "<matplotlib.figure.Figure at 0x7feb4b906cf8>"
      ]
     },
     "metadata": {},
     "output_type": "display_data"
    }
   ],
   "source": [
    "%%time\n",
    "clf = XGBClassifier(base_score=0.005)\n",
    "clf.fit(X.values, y)\n",
    "plt.hist(clf.feature_importances_[clf.feature_importances_>0])"
   ]
  },
  {
   "cell_type": "code",
   "execution_count": 32,
   "metadata": {
    "collapsed": false,
    "scrolled": true
   },
   "outputs": [
    {
     "name": "stdout",
     "output_type": "stream",
     "text": [
      "(0.03752039, 'L3_S32_F3854')\n",
      "(0.027732464, 'L0_min')\n",
      "(0.024469821, 'min_max')\n",
      "(0.022838499, 'min')\n",
      "(0.022838499, 'L3_min_max')\n",
      "(0.022838499, 'L1_S24_F1844')\n",
      "(0.021207178, 'L1_S24_F867')\n",
      "(0.021207178, 'L1_S24_F1846')\n",
      "(0.017944535, 'L2_min')\n",
      "(0.017944535, 'L1_S24_F1498')\n",
      "(0.016313214, 'L3_S38_F3952')\n",
      "(0.016313214, 'L3_S30_F3704')\n",
      "(0.013050571, 'L3_S33_F3865')\n",
      "(0.013050571, 'L3_S29_F3321')\n",
      "(0.01141925, 'L3_S30_F3804')\n",
      "(0.01141925, 'L3_S30_F3769')\n",
      "(0.01141925, 'L3_S30_F3754')\n",
      "(0.01141925, 'L3_S30_F3744')\n",
      "(0.01141925, 'L3_S29_F3339')\n",
      "(0.01141925, 'L1_S24_F1494')\n",
      "(0.0097879283, 'max')\n",
      "(0.0097879283, 'L3_S32_F3854_48')\n",
      "(0.0097879283, 'L3_S30_F3609')\n",
      "(0.0097879283, 'L1_S24_F1808')\n",
      "(0.0081566069, 'L3_S38_D3953_normalized')\n",
      "(0.0081566069, 'L3_S29_F3407')\n",
      "(0.0081566069, 'L2_S27_F3166')\n",
      "(0.0081566069, 'L1_S24_F1738')\n",
      "(0.0081566069, 'L1_S24_F1578')\n",
      "(0.0081566069, 'L1_S24_F1571')\n",
      "(0.0081566069, 'L1_S24_F1516')\n",
      "(0.0081566069, 'L0_S4_F104')\n",
      "(0.0065252855, 'L3_max')\n",
      "(0.0065252855, 'L3_S38_F3960')\n",
      "(0.0065252855, 'L3_S36_F3920')\n",
      "(0.0065252855, 'L3_S33_F3859')\n",
      "(0.0065252855, 'L3_S33_F3857')\n",
      "(0.0065252855, 'L3_S33_D3856_normalized')\n",
      "(0.0065252855, 'L3_S30_F3809')\n",
      "(0.0065252855, 'L3_S30_F3604')\n",
      "(0.0065252855, 'L3_S29_F3461')\n",
      "(0.0065252855, 'L3_S29_F3379')\n",
      "(0.0065252855, 'L3_S29_F3336')\n",
      "(0.0065252855, 'L3_S29_F3327')\n",
      "(0.0065252855, 'L2_S26_F3106')\n",
      "(0.0065252855, 'L2_S26_F3040')\n",
      "(0.0065252855, 'L1_max')\n",
      "(0.0065252855, 'L1_S24_F1723')\n",
      "(0.0065252855, 'L1_S24_F1604')\n",
      "(0.0065252855, 'L1_S24_F1174')\n",
      "(0.0065252855, 'L0_S9_F180')\n",
      "(0.0065252855, 'L0_S16_F426')\n"
     ]
    }
   ],
   "source": [
    "tuples = []\n",
    "for i in range(len(columns)):\n",
    "    fi = clf.feature_importances_[i]\n",
    "    if fi <= 0.005:\n",
    "        continue\n",
    "    tuples.append((fi, columns[i]))\n",
    "    \n",
    "tuples = sorted(tuples, reverse=True)\n",
    "for t in tuples:\n",
    "    print(t)"
   ]
  },
  {
   "cell_type": "code",
   "execution_count": 33,
   "metadata": {
    "collapsed": false
   },
   "outputs": [],
   "source": [
    "columns = [c[1] for c in tuples]\n",
    "X = pd.concat((pd.read_hdf(filename) for filename in TRAINS), axis=1)\n",
    "y = pd.read_hdf(RESPONSE)"
   ]
  },
  {
   "cell_type": "code",
   "execution_count": 34,
   "metadata": {
    "collapsed": false
   },
   "outputs": [],
   "source": [
    "X = X.loc[:, columns]\n",
    "X = X.values\n",
    "y = y.values.ravel()"
   ]
  },
  {
   "cell_type": "code",
   "execution_count": 35,
   "metadata": {
    "collapsed": false
   },
   "outputs": [
    {
     "name": "stdout",
     "output_type": "stream",
     "text": [
      "fold 0, ROC AUC: 0.730\n",
      "fold 1, ROC AUC: 0.714\n",
      "fold 2, ROC AUC: 0.704\n",
      "0.715591971953\n",
      "CPU times: user 20min 21s, sys: 1.62 s, total: 20min 23s\n",
      "Wall time: 1min 35s\n"
     ]
    }
   ],
   "source": [
    "%%time\n",
    "# 予測して Cross Validation\n",
    "clf = XGBClassifier(max_depth=6, base_score=0.005)\n",
    "cv = StratifiedKFold(y, n_folds=3)\n",
    "predictions = np.ones(y.shape[0])\n",
    "for i, (train, test) in enumerate(cv):\n",
    "    predictions[test] = clf.fit(X[train], y[train]).predict_proba(X[test])[:, 1]\n",
    "    print(\"fold {}, ROC AUC: {:.3f}\".format(i, roc_auc_score(y[test], predictions[test])))\n",
    "print(roc_auc_score(y, predictions))"
   ]
  },
  {
   "cell_type": "code",
   "execution_count": 36,
   "metadata": {
    "collapsed": false
   },
   "outputs": [
    {
     "name": "stderr",
     "output_type": "stream",
     "text": [
      "/usr/local/lib/python3.5/dist-packages/sklearn/metrics/classification.py:516: RuntimeWarning: invalid value encountered in double_scalars\n",
      "  mcc = cov_ytyp / np.sqrt(var_yt * var_yp)\n"
     ]
    },
    {
     "name": "stdout",
     "output_type": "stream",
     "text": [
      "0.256566662568\n",
      "CPU times: user 26.6 s, sys: 24 ms, total: 26.6 s\n",
      "Wall time: 26.6 s\n"
     ]
    },
    {
     "data": {
      "image/png": "[encoded data removed]",
      "text/plain": [
       "<matplotlib.figure.Figure at 0x7feb59a0ad68>"
      ]
     },
     "metadata": {},
     "output_type": "display_data"
    }
   ],
   "source": [
    "%%time\n",
    "# MCC 最適化\n",
    "thresholds = np.linspace(0.01, 0.99, 200)\n",
    "mcc = np.array([matthews_corrcoef(y, predictions > thr) for thr in thresholds])\n",
    "plt.plot(thresholds, mcc)\n",
    "best_threshold = thresholds[mcc.argmax()]\n",
    "print(mcc.max())"
   ]
  },
  {
   "cell_type": "code",
   "execution_count": 37,
   "metadata": {
    "collapsed": false
   },
   "outputs": [
    {
     "data": {
      "text/html": [
       "<div>\n",
       "<table border=\"1\" class=\"dataframe\">\n",
       "  <thead>\n",
       "    <tr style=\"text-align: right;\">\n",
       "      <th></th>\n",
       "      <th>Predict 1.0</th>\n",
       "      <th>Predict 0.0</th>\n",
       "    </tr>\n",
       "    <tr>\n",
       "      <th>Response</th>\n",
       "      <th></th>\n",
       "      <th></th>\n",
       "    </tr>\n",
       "  </thead>\n",
       "  <tbody>\n",
       "    <tr>\n",
       "      <th>0.0</th>\n",
       "      <td>1322</td>\n",
       "      <td>1175546</td>\n",
       "    </tr>\n",
       "    <tr>\n",
       "      <th>1.0</th>\n",
       "      <td>1045</td>\n",
       "      <td>5834</td>\n",
       "    </tr>\n",
       "  </tbody>\n",
       "</table>\n",
       "</div>"
      ],
      "text/plain": [
       "          Predict 1.0  Predict 0.0\n",
       "Response                          \n",
       "0.0              1322      1175546\n",
       "1.0              1045         5834"
      ]
     },
     "execution_count": 37,
     "metadata": {},
     "output_type": "execute_result"
    }
   ],
   "source": [
    "# この時点での当たり具合を出力\n",
    "tmp_threshold = best_threshold\n",
    "response = pd.read_hdf(RESPONSE)\n",
    "response[\"prediction\"] = predictions\n",
    "predicted_one = response[response[\"prediction\"] > tmp_threshold].groupby(\"Response\").count()\n",
    "predicted_one.rename(columns={\"prediction\":\"Predict 1.0\"}, inplace=True)\n",
    "predicted_zero = response[response[\"prediction\"] <= tmp_threshold].groupby(\"Response\").count()\n",
    "predicted_zero.rename(columns={\"prediction\":\"Predict 0.0\"}, inplace=True)\n",
    "pd.concat([predicted_one, predicted_zero], axis=1)"
   ]
  },
  {
   "cell_type": "markdown",
   "metadata": {},
   "source": [
    "提出用データを生成する"
   ]
  },
  {
   "cell_type": "code",
   "execution_count": 49,
   "metadata": {
    "collapsed": false
   },
   "outputs": [],
   "source": [
    "# テストデータ読み込み\n",
    "X = pd.concat((pd.read_hdf(filename) for filename in TESTS), axis=1)\n",
    "X = X.loc[:, columns]\n",
    "index = X.index\n",
    "X = X.values\n",
    "# 0 or 1 に正規化\n",
    "predictions = (clf.predict_proba(X)[:, 1] > best_threshold).astype(np.int8)"
   ]
  },
  {
   "cell_type": "code",
   "execution_count": 52,
   "metadata": {
    "collapsed": true
   },
   "outputs": [],
   "source": [
    "# 提出データを生成\n",
    "sub = pd.DataFrame(index=index.astype(np.int32), columns=[])\n",
    "sub[\"Response\"] = predictions\n",
    "sub.to_csv(\"submission.csv.gz\", compression=\"gzip\")"
   ]
  },
  {
   "cell_type": "code",
   "execution_count": null,
   "metadata": {
    "collapsed": true
   },
   "outputs": [],
   "source": []
  }
 ],
 "metadata": {
  "kernelspec": {
   "display_name": "Python 3",
   "language": "python",
   "name": "python3"
  },
  "language_info": {
   "codemirror_mode": {
    "name": "ipython",
    "version": 3
   },
   "file_extension": ".py",
   "mimetype": "text/x-python",
   "name": "python",
   "nbconvert_exporter": "python",
   "pygments_lexer": "ipython3",
   "version": "3.5.2"
  }
 },
 "nbformat": 4,
 "nbformat_minor": 1
}
