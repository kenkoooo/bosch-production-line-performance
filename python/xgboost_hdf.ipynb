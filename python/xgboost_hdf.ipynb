{
 "cells": [
  {
   "cell_type": "markdown",
   "metadata": {},
   "source": [
    "HDF5 版の XGBoost"
   ]
  },
  {
   "cell_type": "code",
   "execution_count": 1,
   "metadata": {
    "collapsed": false
   },
   "outputs": [
    {
     "name": "stderr",
     "output_type": "stream",
     "text": [
      "/usr/local/lib/python3.5/dist-packages/sklearn/cross_validation.py:44: DeprecationWarning: This module was deprecated in version 0.18 in favor of the model_selection module into which all the refactored classes and functions are moved. Also note that the interface of the new CV iterators are different from that of this module. This module will be removed in 0.20.\n",
      "  \"This module will be removed in 0.20.\", DeprecationWarning)\n"
     ]
    }
   ],
   "source": [
    "# ライブラリの皆さん\n",
    "import numpy as np\n",
    "import pandas as pd\n",
    "from xgboost import XGBClassifier\n",
    "from sklearn.metrics import matthews_corrcoef, roc_auc_score\n",
    "from sklearn.cross_validation import cross_val_score, StratifiedKFold\n",
    "import matplotlib.pyplot as plt\n",
    "import time\n",
    "import seaborn as sns\n",
    "from BoschUtils import sampled_data_set, general_df, use_cols_list, entire_data_set\n",
    "%matplotlib inline"
   ]
  },
  {
   "cell_type": "code",
   "execution_count": 20,
   "metadata": {
    "collapsed": true
   },
   "outputs": [],
   "source": [
    "# 入力ファイルの皆さん\n",
    "\n",
    "TRAINS = [\n",
    "    \"../hdf/train_date_reduced_L0_min_max.hdf\",\n",
    "    \"../hdf/train_date_reduced_L1_min_max.hdf\",\n",
    "    \"../hdf/train_date_reduced_L2_min_max.hdf\",\n",
    "    \"../hdf/train_date_reduced_L3_min_max.hdf\",\n",
    "    \"../hdf/train_date_reduced_min_max.hdf\",\n",
    "    \"../hdf/train_categorical_reduced.hdf\"\n",
    "]\n",
    "\n",
    "TESTS = []\n",
    "\n",
    "for file in TRAINS:\n",
    "    TESTS.append(file.replace(\"train\", \"test\"))\n",
    "    \n",
    "RESPONSE = \"../hdf/train_response.hdf\""
   ]
  },
  {
   "cell_type": "code",
   "execution_count": 27,
   "metadata": {
    "collapsed": false
   },
   "outputs": [
    {
     "name": "stdout",
     "output_type": "stream",
     "text": [
      "(0.18941979, 'min_max')\n",
      "(0.12627986, 'L3_min_max')\n",
      "(0.093856655, 'L0_min')\n",
      "(0.090443686, 'L0_min_max')\n",
      "(0.078498296, 'L3_min')\n",
      "(0.0665529, 'L2_min')\n",
      "(0.056313992, 'L3_S32_F3854')\n",
      "(0.042662118, 'min')\n",
      "(0.042662118, 'L1_min')\n",
      "(0.039249148, 'L3_max')\n",
      "(0.029010238, 'L1_max')\n",
      "(0.023890786, 'L0_max')\n",
      "(0.020477816, 'L1_min_max')\n",
      "(0.020477816, 'L1_S25_F1903')\n",
      "(0.015358361, 'L3_S29_F3475')\n",
      "(0.013651877, 'L3_S47_F4141')\n",
      "(0.013651877, 'L3_S29_F3317')\n",
      "(0.010238908, 'L2_S26_F3099')\n",
      "(0.0068259384, 'L2_S27_F3131')\n",
      "(0.0051194541, 'L1_S25_F1981')\n",
      "(0.0034129692, 'L1_S24_F1559')\n",
      "(0.0034129692, 'L1_S24_F1525')\n",
      "(0.0017064846, 'L3_S32_F3851')\n",
      "(0.0017064846, 'L1_S25_F2779')\n",
      "(0.0017064846, 'L1_S25_F1852')\n",
      "(0.0017064846, 'L1_S24_F675')\n",
      "(0.0017064846, 'L1_S24_F1584')\n"
     ]
    },
    {
     "data": {
      "image/png": "[encoded data removed]",
      "text/plain": [
       "<matplotlib.figure.Figure at 0x7f7958e49198>"
      ]
     },
     "metadata": {},
     "output_type": "display_data"
    }
   ],
   "source": [
    "# 重要度を見てみる\n",
    "X = pd.concat((pd.read_hdf(filename) for filename in TRAINS), axis=1)\n",
    "X = X.sample(frac=0.05)\n",
    "columns = X.columns\n",
    "y = pd.read_hdf(RESPONSE).loc[X.index].values.ravel()\n",
    "clf = XGBClassifier(base_score=0.005)\n",
    "clf.fit(X, y)\n",
    "plt.hist(clf.feature_importances_[clf.feature_importances_>0])\n",
    "\n",
    "tuples = []\n",
    "for i in range(len(columns)):\n",
    "    fi = clf.feature_importances_[i]\n",
    "    if fi <= 0.001:\n",
    "        continue\n",
    "    tuples.append((fi, columns[i]))\n",
    "    \n",
    "tuples = sorted(tuples, reverse=True)\n",
    "for t in tuples:\n",
    "    print(t)"
   ]
  },
  {
   "cell_type": "code",
   "execution_count": 8,
   "metadata": {
    "collapsed": false
   },
   "outputs": [],
   "source": [
    "X = pd.concat((pd.read_hdf(filename) for filename in TRAINS), axis=1)\n",
    "y = pd.read_hdf(RESPONSE)"
   ]
  },
  {
   "cell_type": "code",
   "execution_count": 9,
   "metadata": {
    "collapsed": false
   },
   "outputs": [],
   "source": [
    "X = X.values\n",
    "y = y.values.ravel()"
   ]
  },
  {
   "cell_type": "code",
   "execution_count": 10,
   "metadata": {
    "collapsed": false
   },
   "outputs": [
    {
     "name": "stdout",
     "output_type": "stream",
     "text": [
      "fold 0, ROC AUC: 0.694\n",
      "fold 1, ROC AUC: 0.689\n",
      "fold 2, ROC AUC: 0.674\n",
      "0.685482423355\n"
     ]
    }
   ],
   "source": [
    "# 予測して Cross Validation\n",
    "clf = XGBClassifier(max_depth=5, base_score=0.005)\n",
    "cv = StratifiedKFold(y, n_folds=3)\n",
    "predictions = np.ones(y.shape[0])\n",
    "for i, (train, test) in enumerate(cv):\n",
    "    predictions[test] = clf.fit(X[train], y[train]).predict_proba(X[test])[:, 1]\n",
    "    print(\"fold {}, ROC AUC: {:.3f}\".format(i, roc_auc_score(y[test], predictions[test])))\n",
    "print(roc_auc_score(y, predictions))"
   ]
  },
  {
   "cell_type": "code",
   "execution_count": 11,
   "metadata": {
    "collapsed": false
   },
   "outputs": [
    {
     "name": "stderr",
     "output_type": "stream",
     "text": [
      "/usr/local/lib/python3.5/dist-packages/sklearn/metrics/classification.py:516: RuntimeWarning: invalid value encountered in double_scalars\n",
      "  mcc = cov_ytyp / np.sqrt(var_yt * var_yp)\n"
     ]
    },
    {
     "name": "stdout",
     "output_type": "stream",
     "text": [
      "0.0611189518709\n"
     ]
    },
    {
     "data": {
      "image/png": "[encoded data removed]",
      "text/plain": [
       "<matplotlib.figure.Figure at 0x7f7959068eb8>"
      ]
     },
     "metadata": {},
     "output_type": "display_data"
    }
   ],
   "source": [
    "# MCC 最適化\n",
    "thresholds = np.linspace(0.01, 0.99, 200)\n",
    "mcc = np.array([matthews_corrcoef(y, predictions > thr) for thr in thresholds])\n",
    "plt.plot(thresholds, mcc)\n",
    "best_threshold = thresholds[mcc.argmax()]\n",
    "print(mcc.max())"
   ]
  },
  {
   "cell_type": "code",
   "execution_count": 13,
   "metadata": {
    "collapsed": false
   },
   "outputs": [
    {
     "data": {
      "text/html": [
       "<div>\n",
       "<table border=\"1\" class=\"dataframe\">\n",
       "  <thead>\n",
       "    <tr style=\"text-align: right;\">\n",
       "      <th></th>\n",
       "      <th>Predict 1.0</th>\n",
       "      <th>Predict 0.0</th>\n",
       "    </tr>\n",
       "    <tr>\n",
       "      <th>Response</th>\n",
       "      <th></th>\n",
       "      <th></th>\n",
       "    </tr>\n",
       "  </thead>\n",
       "  <tbody>\n",
       "    <tr>\n",
       "      <th>0.0</th>\n",
       "      <td>9</td>\n",
       "      <td>1176859</td>\n",
       "    </tr>\n",
       "    <tr>\n",
       "      <th>1.0</th>\n",
       "      <td>33</td>\n",
       "      <td>6846</td>\n",
       "    </tr>\n",
       "  </tbody>\n",
       "</table>\n",
       "</div>"
      ],
      "text/plain": [
       "          Predict 1.0  Predict 0.0\n",
       "Response                          \n",
       "0.0                 9      1176859\n",
       "1.0                33         6846"
      ]
     },
     "execution_count": 13,
     "metadata": {},
     "output_type": "execute_result"
    }
   ],
   "source": [
    "# この時点での当たり具合を出力\n",
    "tmp_threshold = best_threshold\n",
    "response = pd.read_hdf(RESPONSE)\n",
    "response[\"prediction\"] = predictions\n",
    "predicted_one = response[response[\"prediction\"] > tmp_threshold].groupby(\"Response\").count()\n",
    "predicted_one.rename(columns={\"prediction\":\"Predict 1.0\"}, inplace=True)\n",
    "predicted_zero = response[response[\"prediction\"] <= tmp_threshold].groupby(\"Response\").count()\n",
    "predicted_zero.rename(columns={\"prediction\":\"Predict 0.0\"}, inplace=True)\n",
    "pd.concat([predicted_one, predicted_zero], axis=1)"
   ]
  },
  {
   "cell_type": "markdown",
   "metadata": {},
   "source": [
    "提出用データを生成する"
   ]
  },
  {
   "cell_type": "code",
   "execution_count": 17,
   "metadata": {
    "collapsed": false
   },
   "outputs": [],
   "source": [
    "# テストデータ読み込み\n",
    "X = pd.concat((pd.read_hdf(filename) for filename in TESTS), axis=1)\n",
    "index = X.index\n",
    "X = X.values\n",
    "# 0 or 1 に正規化\n",
    "predictions = (clf.predict_proba(X)[:, 1] > best_threshold).astype(np.int8)\n",
    "\n",
    "# 提出データを生成\n",
    "sub = pd.DataFrame(index=index, columns=[])\n",
    "sub[\"Response\"] = predictions\n",
    "sub.to_csv(\"submission.csv.gz\", compression=\"gzip\")"
   ]
  }
 ],
 "metadata": {
  "kernelspec": {
   "display_name": "Python 3",
   "language": "python",
   "name": "python3"
  },
  "language_info": {
   "codemirror_mode": {
    "name": "ipython",
    "version": 3
   },
   "file_extension": ".py",
   "mimetype": "text/x-python",
   "name": "python",
   "nbconvert_exporter": "python",
   "pygments_lexer": "ipython3",
   "version": "3.5.2"
  }
 },
 "nbformat": 4,
 "nbformat_minor": 1
}
