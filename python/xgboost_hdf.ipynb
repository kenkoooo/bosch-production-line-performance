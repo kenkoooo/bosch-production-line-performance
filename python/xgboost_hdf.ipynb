{
 "cells": [
  {
   "cell_type": "markdown",
   "metadata": {},
   "source": [
    "HDF5 版の XGBoost"
   ]
  },
  {
   "cell_type": "code",
   "execution_count": 1,
   "metadata": {
    "collapsed": false
   },
   "outputs": [
    {
     "name": "stderr",
     "output_type": "stream",
     "text": [
      "/usr/local/lib/python3.5/dist-packages/sklearn/cross_validation.py:44: DeprecationWarning: This module was deprecated in version 0.18 in favor of the model_selection module into which all the refactored classes and functions are moved. Also note that the interface of the new CV iterators are different from that of this module. This module will be removed in 0.20.\n",
      "  \"This module will be removed in 0.20.\", DeprecationWarning)\n"
     ]
    }
   ],
   "source": [
    "# ライブラリの皆さん\n",
    "import numpy as np\n",
    "import pandas as pd\n",
    "from xgboost import XGBClassifier\n",
    "from sklearn.metrics import matthews_corrcoef, roc_auc_score\n",
    "from sklearn.cross_validation import cross_val_score, StratifiedKFold\n",
    "import matplotlib.pyplot as plt\n",
    "import time\n",
    "import seaborn as sns\n",
    "%matplotlib inline"
   ]
  },
  {
   "cell_type": "code",
   "execution_count": 2,
   "metadata": {
    "collapsed": true
   },
   "outputs": [],
   "source": [
    "# 入力ファイルの皆さん\n",
    "\n",
    "TRAINS = [\n",
    "    \"../hdf/train_categorical.hdf\",\n",
    "    \"../hdf/train_numeric.hdf\",\n",
    "    \"../hdf/train_date.hdf\"\n",
    "]\n",
    "\n",
    "TESTS = []\n",
    "\n",
    "for file in TRAINS:\n",
    "    TESTS.append(file.replace(\"train\", \"test\"))\n",
    "    \n",
    "RESPONSE = \"../hdf/train_response.hdf\""
   ]
  },
  {
   "cell_type": "code",
   "execution_count": 4,
   "metadata": {
    "collapsed": false
   },
   "outputs": [
    {
     "name": "stdout",
     "output_type": "stream",
     "text": [
      "data loaded\n"
     ]
    },
    {
     "data": {
      "text/plain": [
       "(array([ 166.,   16.,    4.,    3.,    1.,    0.,    1.,    0.,    0.,    1.]),\n",
       " array([ 0.00154321,  0.00864198,  0.01574074,  0.02283951,  0.02993827,\n",
       "         0.03703704,  0.0441358 ,  0.05123457,  0.05833333,  0.0654321 ,\n",
       "         0.07253087]),\n",
       " <a list of 10 Patch objects>)"
      ]
     },
     "execution_count": 4,
     "metadata": {},
     "output_type": "execute_result"
    },
    {
     "data": {
      "image/png": "[encoded data removed]",
      "text/plain": [
       "<matplotlib.figure.Figure at 0x7f0525c98ac8>"
      ]
     },
     "metadata": {},
     "output_type": "display_data"
    }
   ],
   "source": [
    "# 重要度を見てみる\n",
    "X = pd.concat((pd.read_hdf(filename) for filename in TRAINS), axis=1)\n",
    "columns = X.columns\n",
    "y = pd.read_hdf(RESPONSE).loc[X.index].values.ravel()\n",
    "X = X.values\n",
    "print(\"data loaded\")\n",
    "\n",
    "clf = XGBClassifier(base_score=0.005)\n",
    "clf.fit(X, y)\n",
    "plt.hist(clf.feature_importances_[clf.feature_importances_>0])"
   ]
  },
  {
   "cell_type": "code",
   "execution_count": 5,
   "metadata": {
    "collapsed": false,
    "scrolled": true
   },
   "outputs": [
    {
     "name": "stdout",
     "output_type": "stream",
     "text": [
      "(0.072530866, 'L3_S32_F3854')\n",
      "(0.044753086, 'L3_S33_D3856')\n",
      "(0.032407407, 'L1_S24_F1723')\n",
      "(0.026234567, 'L3_S38_F3952')\n",
      "(0.026234567, 'L3_S34_D3875')\n",
      "(0.023148147, 'L3_S38_D3953')\n",
      "(0.020061728, 'L3_S30_F3704')\n",
      "(0.018518519, 'L1_S24_F867')\n",
      "(0.016975308, 'L3_S33_F3865')\n",
      "(0.016975308, 'L3_S32_D3852')\n",
      "(0.015432099, 'L2_S26_D3037')\n",
      "(0.015432099, 'L1_S24_F1604')\n",
      "(0.013888889, 'L3_S33_F3859')\n",
      "(0.012345679, 'L1_S24_F1498')\n",
      "(0.010802469, 'L3_S37_D3942')\n",
      "(0.010802469, 'L3_S30_F3754')\n",
      "(0.010802469, 'L3_S30_F3744')\n",
      "(0.010802469, 'L3_S30_D3496')\n",
      "(0.010802469, 'L3_S29_F3339')\n",
      "(0.010802469, 'L3_S29_D3474')\n",
      "(0.0092592593, 'L3_S30_F3769')\n",
      "(0.0092592593, 'L3_S30_D3566')\n",
      "(0.0092592593, 'L3_S29_F3407')\n",
      "(0.0092592593, 'L2_S26_F3040')\n",
      "(0.0092592593, 'L1_S24_F1842')\n",
      "(0.0092592593, 'L0_S12_D331')\n",
      "(0.0077160494, 'L3_S36_F3920')\n",
      "(0.0077160494, 'L3_S33_F3857')\n",
      "(0.0077160494, 'L3_S29_F3345')\n",
      "(0.0077160494, 'L3_S29_D3316')\n",
      "(0.0077160494, 'L2_S27_F3166')\n",
      "(0.0077160494, 'L2_S26_F3106')\n",
      "(0.0077160494, 'L1_S24_F1494')\n",
      "(0.0077160494, 'L0_S0_F20')\n",
      "(0.0061728396, 'L3_S36_D3919')\n",
      "(0.0061728396, 'L3_S30_F3829')\n",
      "(0.0061728396, 'L3_S30_F3794')\n",
      "(0.0061728396, 'L3_S30_F3669')\n",
      "(0.0061728396, 'L3_S30_F3609')\n",
      "(0.0061728396, 'L3_S29_F3376')\n",
      "(0.0061728396, 'L3_S29_F3351')\n",
      "(0.0061728396, 'L3_S29_F3342')\n",
      "(0.0061728396, 'L2_S27_F3199')\n",
      "(0.0061728396, 'L2_S26_F3117')\n",
      "(0.0061728396, 'L2_S26_F3069')\n",
      "(0.0061728396, 'L1_S24_F1758')\n",
      "(0.0061728396, 'L1_S24_F1695')\n",
      "(0.0061728396, 'L1_S24_F1581')\n",
      "(0.0061728396, 'L1_S24_F1298')\n",
      "(0.0061728396, 'L0_S0_F22')\n",
      "(0.0061728396, 'L0_S0_D1')\n"
     ]
    }
   ],
   "source": [
    "tuples = []\n",
    "for i in range(len(columns)):\n",
    "    fi = clf.feature_importances_[i]\n",
    "    if fi <= 0.005:\n",
    "        continue\n",
    "    tuples.append((fi, columns[i]))\n",
    "    \n",
    "tuples = sorted(tuples, reverse=True)\n",
    "for t in tuples:\n",
    "    print(t)"
   ]
  },
  {
   "cell_type": "code",
   "execution_count": 6,
   "metadata": {
    "collapsed": false
   },
   "outputs": [],
   "source": [
    "colums = [c[1] for c in tuples]\n",
    "X = pd.concat((pd.read_hdf(filename) for filename in TRAINS), axis=1)\n",
    "y = pd.read_hdf(RESPONSE)"
   ]
  },
  {
   "cell_type": "code",
   "execution_count": 7,
   "metadata": {
    "collapsed": false
   },
   "outputs": [],
   "source": [
    "X = X.loc[:, columns]\n",
    "X = X.values\n",
    "y = y.values.ravel()"
   ]
  },
  {
   "cell_type": "code",
   "execution_count": 8,
   "metadata": {
    "collapsed": false
   },
   "outputs": [
    {
     "name": "stdout",
     "output_type": "stream",
     "text": [
      "fold 0, ROC AUC: 0.722\n",
      "fold 1, ROC AUC: 0.694\n",
      "fold 2, ROC AUC: 0.697\n",
      "0.703862096207\n"
     ]
    }
   ],
   "source": [
    "# 予測して Cross Validation\n",
    "clf = XGBClassifier(max_depth=5, base_score=0.005)\n",
    "cv = StratifiedKFold(y, n_folds=3)\n",
    "predictions = np.ones(y.shape[0])\n",
    "for i, (train, test) in enumerate(cv):\n",
    "    predictions[test] = clf.fit(X[train], y[train]).predict_proba(X[test])[:, 1]\n",
    "    print(\"fold {}, ROC AUC: {:.3f}\".format(i, roc_auc_score(y[test], predictions[test])))\n",
    "print(roc_auc_score(y, predictions))"
   ]
  },
  {
   "cell_type": "code",
   "execution_count": 9,
   "metadata": {
    "collapsed": false
   },
   "outputs": [
    {
     "name": "stderr",
     "output_type": "stream",
     "text": [
      "/usr/local/lib/python3.5/dist-packages/sklearn/metrics/classification.py:516: RuntimeWarning: invalid value encountered in double_scalars\n",
      "  mcc = cov_ytyp / np.sqrt(var_yt * var_yp)\n"
     ]
    },
    {
     "name": "stdout",
     "output_type": "stream",
     "text": [
      "0.246206467245\n"
     ]
    },
    {
     "data": {
      "image/png": "[encoded data removed]",
      "text/plain": [
       "<matplotlib.figure.Figure at 0x7f057529bf60>"
      ]
     },
     "metadata": {},
     "output_type": "display_data"
    }
   ],
   "source": [
    "# MCC 最適化\n",
    "thresholds = np.linspace(0.01, 0.99, 200)\n",
    "mcc = np.array([matthews_corrcoef(y, predictions > thr) for thr in thresholds])\n",
    "plt.plot(thresholds, mcc)\n",
    "best_threshold = thresholds[mcc.argmax()]\n",
    "print(mcc.max())"
   ]
  },
  {
   "cell_type": "code",
   "execution_count": 10,
   "metadata": {
    "collapsed": false
   },
   "outputs": [
    {
     "data": {
      "text/html": [
       "<div>\n",
       "<table border=\"1\" class=\"dataframe\">\n",
       "  <thead>\n",
       "    <tr style=\"text-align: right;\">\n",
       "      <th></th>\n",
       "      <th>Predict 1.0</th>\n",
       "      <th>Predict 0.0</th>\n",
       "    </tr>\n",
       "    <tr>\n",
       "      <th>Response</th>\n",
       "      <th></th>\n",
       "      <th></th>\n",
       "    </tr>\n",
       "  </thead>\n",
       "  <tbody>\n",
       "    <tr>\n",
       "      <th>0.0</th>\n",
       "      <td>1178</td>\n",
       "      <td>1175690</td>\n",
       "    </tr>\n",
       "    <tr>\n",
       "      <th>1.0</th>\n",
       "      <td>951</td>\n",
       "      <td>5928</td>\n",
       "    </tr>\n",
       "  </tbody>\n",
       "</table>\n",
       "</div>"
      ],
      "text/plain": [
       "          Predict 1.0  Predict 0.0\n",
       "Response                          \n",
       "0.0              1178      1175690\n",
       "1.0               951         5928"
      ]
     },
     "execution_count": 10,
     "metadata": {},
     "output_type": "execute_result"
    }
   ],
   "source": [
    "# この時点での当たり具合を出力\n",
    "tmp_threshold = best_threshold\n",
    "response = pd.read_hdf(RESPONSE)\n",
    "response[\"prediction\"] = predictions\n",
    "predicted_one = response[response[\"prediction\"] > tmp_threshold].groupby(\"Response\").count()\n",
    "predicted_one.rename(columns={\"prediction\":\"Predict 1.0\"}, inplace=True)\n",
    "predicted_zero = response[response[\"prediction\"] <= tmp_threshold].groupby(\"Response\").count()\n",
    "predicted_zero.rename(columns={\"prediction\":\"Predict 0.0\"}, inplace=True)\n",
    "pd.concat([predicted_one, predicted_zero], axis=1)"
   ]
  },
  {
   "cell_type": "markdown",
   "metadata": {},
   "source": [
    "提出用データを生成する"
   ]
  },
  {
   "cell_type": "code",
   "execution_count": null,
   "metadata": {
    "collapsed": false
   },
   "outputs": [],
   "source": [
    "# テストデータ読み込み\n",
    "X = pd.concat((pd.read_hdf(filename) for filename in TESTS), axis=1)\n",
    "index = X.index\n",
    "X = X.values\n",
    "# 0 or 1 に正規化\n",
    "predictions = (clf.predict_proba(X)[:, 1] > best_threshold).astype(np.int8)\n",
    "\n",
    "# 提出データを生成\n",
    "sub = pd.DataFrame(index=index, columns=[])\n",
    "sub[\"Response\"] = predictions\n",
    "sub.to_csv(\"submission.csv.gz\", compression=\"gzip\")"
   ]
  }
 ],
 "metadata": {
  "kernelspec": {
   "display_name": "Python 3",
   "language": "python",
   "name": "python3"
  },
  "language_info": {
   "codemirror_mode": {
    "name": "ipython",
    "version": 3
   },
   "file_extension": ".py",
   "mimetype": "text/x-python",
   "name": "python",
   "nbconvert_exporter": "python",
   "pygments_lexer": "ipython3",
   "version": "3.5.2"
  }
 },
 "nbformat": 4,
 "nbformat_minor": 1
}
