{
 "cells": [
  {
   "cell_type": "code",
   "execution_count": 1,
   "metadata": {
    "collapsed": true
   },
   "outputs": [],
   "source": [
    "import pandas as pd\n",
    "import numpy as np\n",
    "import matplotlib.pyplot as plt\n",
    "import seaborn as sns\n",
    "%matplotlib inline"
   ]
  },
  {
   "cell_type": "code",
   "execution_count": 2,
   "metadata": {
    "collapsed": true
   },
   "outputs": [],
   "source": [
    "train = pd.read_hdf(\"../hdf/train_numeric.hdf\")"
   ]
  },
  {
   "cell_type": "code",
   "execution_count": 3,
   "metadata": {
    "collapsed": true
   },
   "outputs": [],
   "source": [
    "response = pd.read_hdf(\"../hdf/train_response.hdf\")"
   ]
  },
  {
   "cell_type": "code",
   "execution_count": 4,
   "metadata": {
    "collapsed": true
   },
   "outputs": [],
   "source": [
    "tmp = pd.concat([train, response], axis=1)"
   ]
  },
  {
   "cell_type": "code",
   "execution_count": 7,
   "metadata": {
    "collapsed": false
   },
   "outputs": [
    {
     "data": {
      "text/plain": [
       "(array([   0.,    0.,    0.,    0.,    0.,    8.,   11.,   24.,  274.,\n",
       "         105.,   45.,   32.,   24.,   33.,   23.,   29.,   47.,   27.,\n",
       "          25.,   31.,   35.,   25.,   40.,   44.,   31.,   35.,   35.,\n",
       "          27.,   36.,   25.,   34.,   20.,   15.,   12.,   12.,   12.,\n",
       "           5.,    5.,    1.,    3.,    0.,    0.,    0.,    2.,    0.,\n",
       "           0.,    0.,    0.,    0.,    0.]),\n",
       " array([-0.5  , -0.476, -0.452, -0.428, -0.404, -0.38 , -0.356, -0.332,\n",
       "        -0.308, -0.284, -0.26 , -0.236, -0.212, -0.188, -0.164, -0.14 ,\n",
       "        -0.116, -0.092, -0.068, -0.044, -0.02 ,  0.004,  0.028,  0.052,\n",
       "         0.076,  0.1  ,  0.124,  0.148,  0.172,  0.196,  0.22 ,  0.244,\n",
       "         0.268,  0.292,  0.316,  0.34 ,  0.364,  0.388,  0.412,  0.436,\n",
       "         0.46 ,  0.484,  0.508,  0.532,  0.556,  0.58 ,  0.604,  0.628,\n",
       "         0.652,  0.676,  0.7  ]),\n",
       " <a list of 50 Patch objects>)"
      ]
     },
     "execution_count": 7,
     "metadata": {},
     "output_type": "execute_result"
    },
    {
     "data": {
      "image/png": "[encoded data removed]",
      "text/plain": [
       "<matplotlib.figure.Figure at 0x7ff9f595e240>"
      ]
     },
     "metadata": {},
     "output_type": "display_data"
    }
   ],
   "source": [
    "x = tmp[tmp[\"Response\"] == 1.0][\"L1_S24_F1844\"].values\n",
    "x = x[~np.isnan(x)]\n",
    "plt.hist(x, range=(-0.5, 0.7), bins=50)"
   ]
  },
  {
   "cell_type": "code",
   "execution_count": 8,
   "metadata": {
    "collapsed": false
   },
   "outputs": [
    {
     "data": {
      "text/plain": [
       "(array([  0.00000000e+00,   0.00000000e+00,   0.00000000e+00,\n",
       "          2.00000000e+00,   1.50000000e+02,   8.88000000e+02,\n",
       "          2.36300000e+03,   3.62400000e+03,   3.64000000e+03,\n",
       "          3.17200000e+03,   3.53800000e+03,   3.58300000e+03,\n",
       "          4.19800000e+03,   4.41000000e+03,   4.59900000e+03,\n",
       "          4.51300000e+03,   5.42100000e+03,   5.39700000e+03,\n",
       "          5.56400000e+03,   5.82700000e+03,   5.95400000e+03,\n",
       "          5.82000000e+03,   5.76100000e+03,   5.91800000e+03,\n",
       "          5.33900000e+03,   5.39600000e+03,   4.80700000e+03,\n",
       "          4.66900000e+03,   4.41100000e+03,   3.99000000e+03,\n",
       "          3.51400000e+03,   3.29000000e+03,   3.05500000e+03,\n",
       "          2.25100000e+03,   1.95200000e+03,   1.66000000e+03,\n",
       "          1.17500000e+03,   7.79000000e+02,   5.03000000e+02,\n",
       "          3.03000000e+02,   1.77000000e+02,   7.30000000e+01,\n",
       "          3.10000000e+01,   1.30000000e+01,   0.00000000e+00,\n",
       "          0.00000000e+00,   0.00000000e+00,   0.00000000e+00,\n",
       "          0.00000000e+00,   0.00000000e+00]),\n",
       " array([-0.5  , -0.476, -0.452, -0.428, -0.404, -0.38 , -0.356, -0.332,\n",
       "        -0.308, -0.284, -0.26 , -0.236, -0.212, -0.188, -0.164, -0.14 ,\n",
       "        -0.116, -0.092, -0.068, -0.044, -0.02 ,  0.004,  0.028,  0.052,\n",
       "         0.076,  0.1  ,  0.124,  0.148,  0.172,  0.196,  0.22 ,  0.244,\n",
       "         0.268,  0.292,  0.316,  0.34 ,  0.364,  0.388,  0.412,  0.436,\n",
       "         0.46 ,  0.484,  0.508,  0.532,  0.556,  0.58 ,  0.604,  0.628,\n",
       "         0.652,  0.676,  0.7  ]),\n",
       " <a list of 50 Patch objects>)"
      ]
     },
     "execution_count": 8,
     "metadata": {},
     "output_type": "execute_result"
    },
    {
     "data": {
      "image/png": "[encoded data removed]",
      "text/plain": [
       "<matplotlib.figure.Figure at 0x7ff9f5850278>"
      ]
     },
     "metadata": {},
     "output_type": "display_data"
    }
   ],
   "source": [
    "x = tmp[tmp[\"Response\"] == 0.0][\"L1_S24_F1844\"].values\n",
    "x = x[~np.isnan(x)]\n",
    "plt.hist(x, range=(-0.5, 0.7), bins=50)"
   ]
  },
  {
   "cell_type": "code",
   "execution_count": null,
   "metadata": {
    "collapsed": true
   },
   "outputs": [],
   "source": []
  }
 ],
 "metadata": {
  "kernelspec": {
   "display_name": "Python 3",
   "language": "python",
   "name": "python3"
  },
  "language_info": {
   "codemirror_mode": {
    "name": "ipython",
    "version": 3
   },
   "file_extension": ".py",
   "mimetype": "text/x-python",
   "name": "python",
   "nbconvert_exporter": "python",
   "pygments_lexer": "ipython3",
   "version": "3.5.2"
  }
 },
 "nbformat": 4,
 "nbformat_minor": 1
}
