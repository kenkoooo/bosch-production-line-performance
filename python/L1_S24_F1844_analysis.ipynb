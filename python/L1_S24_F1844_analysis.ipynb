{
 "cells": [
  {
   "cell_type": "code",
   "execution_count": 1,
   "metadata": {
    "collapsed": true
   },
   "outputs": [],
   "source": [
    "import pandas as pd\n",
    "import numpy as np\n",
    "import matplotlib.pyplot as plt\n",
    "import seaborn as sns\n",
    "%matplotlib inline"
   ]
  },
  {
   "cell_type": "code",
   "execution_count": 2,
   "metadata": {
    "collapsed": true
   },
   "outputs": [],
   "source": [
    "train = pd.read_hdf(\"../hdf/train_numeric.hdf\")"
   ]
  },
  {
   "cell_type": "code",
   "execution_count": 3,
   "metadata": {
    "collapsed": true
   },
   "outputs": [],
   "source": [
    "response = pd.read_hdf(\"../hdf/train_response.hdf\")"
   ]
  },
  {
   "cell_type": "code",
   "execution_count": 4,
   "metadata": {
    "collapsed": true
   },
   "outputs": [],
   "source": [
    "tmp = pd.concat([train, response], axis=1)"
   ]
  },
  {
   "cell_type": "code",
   "execution_count": 12,
   "metadata": {
    "collapsed": false
   },
   "outputs": [
    {
     "data": {
      "image/png": "[encoded data removed]",
      "text/plain": [
       "<matplotlib.figure.Figure at 0x7fc7cad13978>"
      ]
     },
     "metadata": {},
     "output_type": "display_data"
    }
   ],
   "source": [
    "plt.figure()\n",
    "x = tmp[tmp[\"Response\"] == 1.0][\"L1_S24_F1844\"].values\n",
    "plt.hist(\n",
    "    x[~np.isnan(x)],\n",
    "    bins=10,\n",
    "    alpha=0.3,\n",
    "    histtype='stepfilled',\n",
    "    color='r',\n",
    "    range=(-0.4, -0.3))\n",
    "x = tmp[tmp[\"Response\"] == 0.0][\"L1_S24_F1844\"].values\n",
    "plt.hist(\n",
    "    x[~np.isnan(x)],\n",
    "    bins=10,\n",
    "    alpha=0.3,\n",
    "    histtype='stepfilled',\n",
    "    color='b',\n",
    "    range=(-0.4, -0.3))\n",
    "plt.show()"
   ]
  },
  {
   "cell_type": "code",
   "execution_count": 8,
   "metadata": {
    "collapsed": false
   },
   "outputs": [],
   "source": [
    "train = pd.read_hdf(\"../hdf/test_numeric.hdf\")"
   ]
  },
  {
   "cell_type": "code",
   "execution_count": 9,
   "metadata": {
    "collapsed": false,
    "scrolled": true
   },
   "outputs": [],
   "source": [
    "train = train[[\"L1_S24_F1844\"]]\n",
    "train = train.where((-0.31 <= train) & (train <= -0.29), 0.0)\n",
    "train = train.where(train == 0.0, 1.0)\n",
    "train.rename(\n",
    "    columns={\n",
    "        \"L1_S24_F1844\": \"L1_S24_F1844_-0.31_-0.29\"\n",
    "    }, inplace=True)\n",
    "train.to_hdf(\"../hdf/test_numeric_L1_S24_F1844_extract.hdf\", \"df\", mode=\"w\")"
   ]
  },
  {
   "cell_type": "code",
   "execution_count": null,
   "metadata": {
    "collapsed": true
   },
   "outputs": [],
   "source": []
  }
 ],
 "metadata": {
  "kernelspec": {
   "display_name": "Python 3",
   "language": "python",
   "name": "python3"
  },
  "language_info": {
   "codemirror_mode": {
    "name": "ipython",
    "version": 3
   },
   "file_extension": ".py",
   "mimetype": "text/x-python",
   "name": "python",
   "nbconvert_exporter": "python",
   "pygments_lexer": "ipython3",
   "version": "3.5.2"
  }
 },
 "nbformat": 4,
 "nbformat_minor": 1
}
