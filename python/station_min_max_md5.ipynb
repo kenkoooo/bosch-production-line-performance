{
 "cells": [
  {
   "cell_type": "markdown",
   "metadata": {},
   "source": [
    "Station ごとのデータを作る"
   ]
  },
  {
   "cell_type": "code",
   "execution_count": 1,
   "metadata": {
    "collapsed": true
   },
   "outputs": [],
   "source": [
    "import pandas as pd\n",
    "import numpy as np\n",
    "import re\n",
    "import hashlib"
   ]
  },
  {
   "cell_type": "code",
   "execution_count": null,
   "metadata": {
    "collapsed": true
   },
   "outputs": [],
   "source": [
    "t = \"test\""
   ]
  },
  {
   "cell_type": "code",
   "execution_count": null,
   "metadata": {
    "collapsed": false
   },
   "outputs": [],
   "source": [
    "date = pd.concat(\n",
    "    [pd.read_hdf(\"../hdf/train_date_L0_normalized.hdf\".replace(\"train\", t)),\n",
    "     pd.read_hdf(\"../hdf/train_date_L1_normalized.hdf\".replace(\"train\", t)),\n",
    "     pd.read_hdf(\"../hdf/train_date_L2_normalized.hdf\".replace(\"train\", t)),\n",
    "     pd.read_hdf(\"../hdf/train_date_L3_normalized.hdf\".replace(\"train\", t))],\n",
    "    axis=1)"
   ]
  },
  {
   "cell_type": "code",
   "execution_count": null,
   "metadata": {
    "collapsed": true
   },
   "outputs": [],
   "source": [
    "df = pd.DataFrame(index=date.index, columns=[])"
   ]
  },
  {
   "cell_type": "code",
   "execution_count": null,
   "metadata": {
    "collapsed": false,
    "scrolled": true
   },
   "outputs": [],
   "source": [
    "for s in range(52):\n",
    "    ss = \"S{}\".format(s)\n",
    "    d = date.loc[:, [column for column in date.columns if ss in column]]\n",
    "    df[\"{}_min\".format(ss)] = d.T.min()\n",
    "    df[\"{}_max\".format(ss)] = d.T.max()\n",
    "    df[\"{}_max_min\".format(ss)] = d.T.max() - d.T.min()\n",
    "    print(ss)"
   ]
  },
  {
   "cell_type": "code",
   "execution_count": null,
   "metadata": {
    "collapsed": false
   },
   "outputs": [],
   "source": [
    "df.to_hdf(\"../hdf/train_S_min_max.hdf\".replace(\"train\", t), \"df\", mode=\"w\")"
   ]
  },
  {
   "cell_type": "code",
   "execution_count": null,
   "metadata": {
    "collapsed": true
   },
   "outputs": [],
   "source": [
    "t = \"test\""
   ]
  },
  {
   "cell_type": "code",
   "execution_count": null,
   "metadata": {
    "collapsed": false
   },
   "outputs": [],
   "source": [
    "categorical = pd.read_hdf(\"../hdf/train_categorical.hdf\".replace(\"train\", t))"
   ]
  },
  {
   "cell_type": "code",
   "execution_count": null,
   "metadata": {
    "collapsed": true
   },
   "outputs": [],
   "source": [
    "df = pd.DataFrame(index=categorical.index, columns=[])"
   ]
  },
  {
   "cell_type": "code",
   "execution_count": null,
   "metadata": {
    "collapsed": false,
    "scrolled": true
   },
   "outputs": [],
   "source": [
    "for s in range(52):\n",
    "    ss = \"S{}\".format(s)\n",
    "    d = categorical.loc[:, [column for column in categorical.columns if ss in column]]\n",
    "    df[\"{}_C_md5\".format(ss)] = d.apply(lambda x: int(hashlib.md5(x.values).hexdigest(), 16), axis=1)\n",
    "    print(ss)"
   ]
  },
  {
   "cell_type": "code",
   "execution_count": null,
   "metadata": {
    "collapsed": false
   },
   "outputs": [],
   "source": [
    "df = df.astype(np.float32)"
   ]
  },
  {
   "cell_type": "code",
   "execution_count": null,
   "metadata": {
    "collapsed": true
   },
   "outputs": [],
   "source": [
    "df.to_hdf(\"../hdf/train_S_C_md5.hdf\".replace(\"train\", t), \"df\", mode=\"w\")"
   ]
  },
  {
   "cell_type": "markdown",
   "metadata": {},
   "source": [
    "numeric の md5"
   ]
  },
  {
   "cell_type": "code",
   "execution_count": 8,
   "metadata": {
    "collapsed": true
   },
   "outputs": [],
   "source": [
    "t = \"test\""
   ]
  },
  {
   "cell_type": "code",
   "execution_count": 9,
   "metadata": {
    "collapsed": true
   },
   "outputs": [],
   "source": [
    "numeric = pd.read_hdf(\"../hdf/train_numeric.hdf\".replace(\"train\", t))"
   ]
  },
  {
   "cell_type": "code",
   "execution_count": 10,
   "metadata": {
    "collapsed": true
   },
   "outputs": [],
   "source": [
    "df = pd.DataFrame(index=numeric.index, columns=[])"
   ]
  },
  {
   "cell_type": "code",
   "execution_count": 11,
   "metadata": {
    "collapsed": false
   },
   "outputs": [
    {
     "name": "stdout",
     "output_type": "stream",
     "text": [
      "S0\n",
      "S1\n",
      "S2\n",
      "S3\n",
      "S4\n",
      "S5\n",
      "S6\n",
      "S7\n",
      "S8\n",
      "S9\n",
      "S10\n",
      "S11\n",
      "S12\n",
      "S13\n",
      "S14\n",
      "S15\n",
      "S16\n",
      "S17\n",
      "S18\n",
      "S19\n",
      "S20\n",
      "S21\n",
      "S22\n",
      "S23\n",
      "S24\n",
      "S25\n",
      "S26\n",
      "S27\n",
      "S28\n",
      "S29\n",
      "S30\n",
      "S31\n",
      "S32\n",
      "S33\n",
      "S34\n",
      "S35\n",
      "S36\n",
      "S37\n",
      "S38\n",
      "S39\n",
      "S40\n",
      "S41\n",
      "S42\n",
      "S43\n",
      "S44\n",
      "S45\n",
      "S46\n",
      "S47\n",
      "S48\n",
      "S49\n",
      "S50\n",
      "S51\n"
     ]
    }
   ],
   "source": [
    "for s in range(52):\n",
    "    ss = \"S{}\".format(s)\n",
    "    d = numeric.loc[:, [column for column in numeric.columns if ss in column]]\n",
    "    df[\"{}_C_md5\".format(ss)] = d.apply(lambda x: int(hashlib.md5(x.values).hexdigest(), 16), axis=1)\n",
    "    print(ss)"
   ]
  },
  {
   "cell_type": "code",
   "execution_count": 12,
   "metadata": {
    "collapsed": true
   },
   "outputs": [],
   "source": [
    "df = df.astype(np.float32)"
   ]
  },
  {
   "cell_type": "code",
   "execution_count": 13,
   "metadata": {
    "collapsed": true
   },
   "outputs": [],
   "source": [
    "df.to_hdf(\"../hdf/train_S_N_md5.hdf\".replace(\"train\", t), \"df\", mode=\"w\")"
   ]
  },
  {
   "cell_type": "code",
   "execution_count": null,
   "metadata": {
    "collapsed": true
   },
   "outputs": [],
   "source": []
  }
 ],
 "metadata": {
  "kernelspec": {
   "display_name": "Python 3",
   "language": "python",
   "name": "python3"
  },
  "language_info": {
   "codemirror_mode": {
    "name": "ipython",
    "version": 3
   },
   "file_extension": ".py",
   "mimetype": "text/x-python",
   "name": "python",
   "nbconvert_exporter": "python",
   "pygments_lexer": "ipython3",
   "version": "3.5.2"
  }
 },
 "nbformat": 4,
 "nbformat_minor": 1
}
