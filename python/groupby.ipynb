{
 "cells": [
  {
   "cell_type": "code",
   "execution_count": 1,
   "metadata": {
    "collapsed": true
   },
   "outputs": [],
   "source": [
    "import pandas as pd\n",
    "import numpy as np"
   ]
  },
  {
   "cell_type": "code",
   "execution_count": 2,
   "metadata": {
    "collapsed": true
   },
   "outputs": [],
   "source": [
    "df = pd.read_csv(\"../output/reduced_train_categorical.csv.gz\", index_col=0)"
   ]
  },
  {
   "cell_type": "code",
   "execution_count": 8,
   "metadata": {
    "collapsed": false
   },
   "outputs": [
    {
     "data": {
      "text/html": [
       "<div>\n",
       "<table border=\"1\" class=\"dataframe\">\n",
       "  <thead>\n",
       "    <tr style=\"text-align: right;\">\n",
       "      <th></th>\n",
       "      <th>L0_S1_F27</th>\n",
       "      <th>L0_S1_F29</th>\n",
       "      <th>L0_S1_F31</th>\n",
       "      <th>L0_S2_F33</th>\n",
       "      <th>L0_S2_F35</th>\n",
       "      <th>L0_S4_F105</th>\n",
       "      <th>L0_S4_F107</th>\n",
       "      <th>L0_S4_F108</th>\n",
       "      <th>L0_S4_F110</th>\n",
       "      <th>L0_S4_F112</th>\n",
       "      <th>...</th>\n",
       "      <th>L3_S43_F4064</th>\n",
       "      <th>L3_S43_F4081</th>\n",
       "      <th>L3_S43_F4084</th>\n",
       "      <th>L3_S44_F4102</th>\n",
       "      <th>L3_S46_F4134</th>\n",
       "      <th>L3_S47_F4141</th>\n",
       "      <th>L3_S49_F4207</th>\n",
       "      <th>L3_S49_F4210</th>\n",
       "      <th>L3_S49_F4217</th>\n",
       "      <th>L3_S49_F4220</th>\n",
       "    </tr>\n",
       "    <tr>\n",
       "      <th>L0_S1_F25</th>\n",
       "      <th></th>\n",
       "      <th></th>\n",
       "      <th></th>\n",
       "      <th></th>\n",
       "      <th></th>\n",
       "      <th></th>\n",
       "      <th></th>\n",
       "      <th></th>\n",
       "      <th></th>\n",
       "      <th></th>\n",
       "      <th></th>\n",
       "      <th></th>\n",
       "      <th></th>\n",
       "      <th></th>\n",
       "      <th></th>\n",
       "      <th></th>\n",
       "      <th></th>\n",
       "      <th></th>\n",
       "      <th></th>\n",
       "      <th></th>\n",
       "      <th></th>\n",
       "    </tr>\n",
       "  </thead>\n",
       "  <tbody>\n",
       "    <tr>\n",
       "      <th>1.0</th>\n",
       "      <td>225.0</td>\n",
       "      <td>25.0</td>\n",
       "      <td>225.0</td>\n",
       "      <td>NaN</td>\n",
       "      <td>NaN</td>\n",
       "      <td>NaN</td>\n",
       "      <td>NaN</td>\n",
       "      <td>NaN</td>\n",
       "      <td>NaN</td>\n",
       "      <td>NaN</td>\n",
       "      <td>...</td>\n",
       "      <td>NaN</td>\n",
       "      <td>NaN</td>\n",
       "      <td>NaN</td>\n",
       "      <td>NaN</td>\n",
       "      <td>NaN</td>\n",
       "      <td>1.0</td>\n",
       "      <td>NaN</td>\n",
       "      <td>NaN</td>\n",
       "      <td>NaN</td>\n",
       "      <td>NaN</td>\n",
       "    </tr>\n",
       "  </tbody>\n",
       "</table>\n",
       "<p>1 rows × 246 columns</p>\n",
       "</div>"
      ],
      "text/plain": [
       "           L0_S1_F27  L0_S1_F29  L0_S1_F31  L0_S2_F33  L0_S2_F35  L0_S4_F105  \\\n",
       "L0_S1_F25                                                                      \n",
       "1.0            225.0       25.0      225.0        NaN        NaN         NaN   \n",
       "\n",
       "           L0_S4_F107  L0_S4_F108  L0_S4_F110  L0_S4_F112      ...       \\\n",
       "L0_S1_F25                                                      ...        \n",
       "1.0               NaN         NaN         NaN         NaN      ...        \n",
       "\n",
       "           L3_S43_F4064  L3_S43_F4081  L3_S43_F4084  L3_S44_F4102  \\\n",
       "L0_S1_F25                                                           \n",
       "1.0                 NaN           NaN           NaN           NaN   \n",
       "\n",
       "           L3_S46_F4134  L3_S47_F4141  L3_S49_F4207  L3_S49_F4210  \\\n",
       "L0_S1_F25                                                           \n",
       "1.0                 NaN           1.0           NaN           NaN   \n",
       "\n",
       "           L3_S49_F4217  L3_S49_F4220  \n",
       "L0_S1_F25                              \n",
       "1.0                 NaN           NaN  \n",
       "\n",
       "[1 rows x 246 columns]"
      ]
     },
     "execution_count": 8,
     "metadata": {},
     "output_type": "execute_result"
    }
   ],
   "source": [
    "df.groupby(\"L0_S1_F25\").sum()"
   ]
  },
  {
   "cell_type": "code",
   "execution_count": null,
   "metadata": {
    "collapsed": true
   },
   "outputs": [],
   "source": []
  }
 ],
 "metadata": {
  "kernelspec": {
   "display_name": "Python 3",
   "language": "python",
   "name": "python3"
  },
  "language_info": {
   "codemirror_mode": {
    "name": "ipython",
    "version": 3
   },
   "file_extension": ".py",
   "mimetype": "text/x-python",
   "name": "python",
   "nbconvert_exporter": "python",
   "pygments_lexer": "ipython3",
   "version": "3.5.2"
  }
 },
 "nbformat": 4,
 "nbformat_minor": 1
}
