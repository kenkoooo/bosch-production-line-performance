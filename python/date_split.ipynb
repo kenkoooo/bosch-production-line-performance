{
 "cells": [
  {
   "cell_type": "code",
   "execution_count": 1,
   "metadata": {
    "collapsed": true
   },
   "outputs": [],
   "source": [
    "# ライブラリの皆さん\n",
    "import numpy as np\n",
    "import pandas as pd\n",
    "from xgboost import XGBClassifier\n",
    "from sklearn.metrics import matthews_corrcoef, roc_auc_score\n",
    "from sklearn.cross_validation import cross_val_score, StratifiedKFold\n",
    "import matplotlib.pyplot as plt\n",
    "import time\n",
    "import seaborn as sns\n",
    "from BoschUtils import sampled_data_set, general_df, use_cols_list, entire_data_set\n",
    "%matplotlib inline"
   ]
  },
  {
   "cell_type": "code",
   "execution_count": 37,
   "metadata": {
    "collapsed": true
   },
   "outputs": [],
   "source": [
    "date = pd.read_hdf(\"../hdf/test_date_reduced.hdf\")"
   ]
  },
  {
   "cell_type": "code",
   "execution_count": 38,
   "metadata": {
    "collapsed": false,
    "scrolled": false
   },
   "outputs": [],
   "source": [
    "columns_l0 = [c for c in date.columns if \"L0\" in c]\n",
    "columns_l1 = [c for c in date.columns if \"L1\" in c]\n",
    "columns_l2 = [c for c in date.columns if \"L2\" in c]\n",
    "columns_l3 = [c for c in date.columns if \"L3\" in c]"
   ]
  },
  {
   "cell_type": "code",
   "execution_count": 39,
   "metadata": {
    "collapsed": false
   },
   "outputs": [],
   "source": [
    "date_l0 = date.loc[:,columns_l0]\n",
    "date_l1 = date.loc[:,columns_l1]\n",
    "date_l2 = date.loc[:,columns_l2]\n",
    "date_l3 = date.loc[:,columns_l3]"
   ]
  },
  {
   "cell_type": "code",
   "execution_count": 40,
   "metadata": {
    "collapsed": false
   },
   "outputs": [],
   "source": [
    "date_l0.to_hdf(\"../hdf/test_date_reduced_L0.hdf\", \"test_date_reduced_L0\")\n",
    "date_l1.to_hdf(\"../hdf/test_date_reduced_L1.hdf\", \"test_date_reduced_L1\")\n",
    "date_l2.to_hdf(\"../hdf/test_date_reduced_L2.hdf\", \"test_date_reduced_L2\")\n",
    "date_l3.to_hdf(\"../hdf/test_date_reduced_L3.hdf\", \"test_date_reduced_L3\")"
   ]
  },
  {
   "cell_type": "code",
   "execution_count": null,
   "metadata": {
    "collapsed": true
   },
   "outputs": [],
   "source": []
  }
 ],
 "metadata": {
  "kernelspec": {
   "display_name": "Python 3",
   "language": "python",
   "name": "python3"
  },
  "language_info": {
   "codemirror_mode": {
    "name": "ipython",
    "version": 3
   },
   "file_extension": ".py",
   "mimetype": "text/x-python",
   "name": "python",
   "nbconvert_exporter": "python",
   "pygments_lexer": "ipython3",
   "version": "3.5.2"
  }
 },
 "nbformat": 4,
 "nbformat_minor": 1
}
