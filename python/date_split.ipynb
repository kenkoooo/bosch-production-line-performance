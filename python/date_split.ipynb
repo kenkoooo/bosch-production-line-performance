{
 "cells": [
  {
   "cell_type": "code",
   "execution_count": 1,
   "metadata": {
    "collapsed": false
   },
   "outputs": [
    {
     "name": "stderr",
     "output_type": "stream",
     "text": [
      "/usr/local/lib/python3.5/dist-packages/sklearn/cross_validation.py:44: DeprecationWarning: This module was deprecated in version 0.18 in favor of the model_selection module into which all the refactored classes and functions are moved. Also note that the interface of the new CV iterators are different from that of this module. This module will be removed in 0.20.\n",
      "  \"This module will be removed in 0.20.\", DeprecationWarning)\n"
     ]
    }
   ],
   "source": [
    "# ライブラリの皆さん\n",
    "import numpy as np\n",
    "import pandas as pd\n",
    "from xgboost import XGBClassifier\n",
    "from sklearn.metrics import matthews_corrcoef, roc_auc_score\n",
    "from sklearn.cross_validation import cross_val_score, StratifiedKFold\n",
    "import matplotlib.pyplot as plt\n",
    "import time\n",
    "import seaborn as sns\n",
    "from BoschUtils import sampled_data_set, general_df, use_cols_list, entire_data_set\n",
    "%matplotlib inline"
   ]
  },
  {
   "cell_type": "code",
   "execution_count": 6,
   "metadata": {
    "collapsed": true
   },
   "outputs": [],
   "source": [
    "test = \"train\"\n",
    "date = pd.read_hdf(\"../hdf/{test}_date_reduced.hdf\".format(test=test))"
   ]
  },
  {
   "cell_type": "code",
   "execution_count": 7,
   "metadata": {
    "collapsed": false,
    "scrolled": false
   },
   "outputs": [],
   "source": [
    "columns_l0 = [c for c in date.columns if \"L0\" in c]\n",
    "columns_l1 = [c for c in date.columns if \"L1\" in c]\n",
    "columns_l2 = [c for c in date.columns if \"L2\" in c]\n",
    "columns_l3 = [c for c in date.columns if \"L3\" in c]"
   ]
  },
  {
   "cell_type": "code",
   "execution_count": 8,
   "metadata": {
    "collapsed": false
   },
   "outputs": [],
   "source": [
    "date_l0 = date.loc[:,columns_l0]\n",
    "date_l1 = date.loc[:,columns_l1]\n",
    "date_l2 = date.loc[:,columns_l2]\n",
    "date_l3 = date.loc[:,columns_l3]"
   ]
  },
  {
   "cell_type": "code",
   "execution_count": 9,
   "metadata": {
    "collapsed": false
   },
   "outputs": [],
   "source": [
    "date_l0.to_hdf(\"../hdf/{test}_date_reduced_L0.hdf\".format(test=test), \"{test}_date_reduced_L0\".format(test=test))\n",
    "date_l1.to_hdf(\"../hdf/{test}_date_reduced_L1.hdf\".format(test=test), \"{test}_date_reduced_L1\".format(test=test))\n",
    "date_l2.to_hdf(\"../hdf/{test}_date_reduced_L2.hdf\".format(test=test), \"{test}_date_reduced_L2\".format(test=test))\n",
    "date_l3.to_hdf(\"../hdf/{test}_date_reduced_L3.hdf\".format(test=test), \"{test}_date_reduced_L3\".format(test=test))"
   ]
  },
  {
   "cell_type": "code",
   "execution_count": null,
   "metadata": {
    "collapsed": true
   },
   "outputs": [],
   "source": []
  }
 ],
 "metadata": {
  "kernelspec": {
   "display_name": "Python 3",
   "language": "python",
   "name": "python3"
  },
  "language_info": {
   "codemirror_mode": {
    "name": "ipython",
    "version": 3
   },
   "file_extension": ".py",
   "mimetype": "text/x-python",
   "name": "python",
   "nbconvert_exporter": "python",
   "pygments_lexer": "ipython3",
   "version": "3.5.2"
  }
 },
 "nbformat": 4,
 "nbformat_minor": 1
}
