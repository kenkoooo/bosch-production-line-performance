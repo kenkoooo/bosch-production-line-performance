{
 "cells": [
  {
   "cell_type": "code",
   "execution_count": 2,
   "metadata": {
    "collapsed": false
   },
   "outputs": [],
   "source": [
    "# ライブラリの皆さん\n",
    "import numpy as np\n",
    "import pandas as pd\n",
    "from xgboost import XGBClassifier\n",
    "from sklearn.metrics import matthews_corrcoef, roc_auc_score\n",
    "from sklearn.cross_validation import cross_val_score, StratifiedKFold\n",
    "import matplotlib.pyplot as plt\n",
    "import time\n",
    "import seaborn as sns\n",
    "from BoschUtils import sampled_data_set, general_df, use_cols_list, entire_data_set\n",
    "%matplotlib inline"
   ]
  },
  {
   "cell_type": "code",
   "execution_count": 3,
   "metadata": {
    "collapsed": false
   },
   "outputs": [],
   "source": [
    "# 入力ファイルの皆さん\n",
    "\n",
    "TRAINS = [\n",
    "#     \"../output/reduced_train_date_normalized.csv.gz\",\n",
    "    \"../output/reduced_train_numeric.csv.gz\",\n",
    "#     \"../output/reduced_train_date.csv.gz\",\n",
    "#     \"../output/reduced_train_categorical.csv.gz\",\n",
    "    \"../output/train_categorical_L3_S32_F3854.csv.gz\",\n",
    "    \"../output/date_diff_train.csv.gz\",\n",
    "    \"../output/train_categorical_md5.csv.gz\",\n",
    "    \"../output/train_date_md5.csv.gz\",\n",
    "    \"../output/train_categorical_set.csv.gz\"\n",
    "]\n",
    "\n",
    "TESTS = []\n",
    "\n",
    "for file in TRAINS:\n",
    "    TESTS.append(file.replace(\"train\", \"test\"))\n",
    "\n",
    "RESPONSE = \"../output/train_response.csv.gz\""
   ]
  },
  {
   "cell_type": "code",
   "execution_count": 4,
   "metadata": {
    "collapsed": false
   },
   "outputs": [
    {
     "name": "stdout",
     "output_type": "stream",
     "text": [
      "../output/reduced_train_numeric.csv.gz\n",
      "../output/train_categorical_L3_S32_F3854.csv.gz\n",
      "../output/date_diff_train.csv.gz\n",
      "../output/train_categorical_md5.csv.gz\n",
      "../output/train_date_md5.csv.gz\n",
      "../output/train_categorical_set.csv.gz\n",
      "CPU times: user 2min 1s, sys: 7.31 s, total: 2min 9s\n",
      "Wall time: 2min 9s\n"
     ]
    }
   ],
   "source": [
    "%%time\n",
    "# 全入力データを読み込み\n",
    "X = sampled_data_set(TRAINS)\n",
    "y = general_df(RESPONSE).loc[X.index].values.ravel()\n",
    "X = X.values"
   ]
  },
  {
   "cell_type": "code",
   "execution_count": 9,
   "metadata": {
    "collapsed": false
   },
   "outputs": [
    {
     "name": "stdout",
     "output_type": "stream",
     "text": [
      "CPU times: user 47min 38s, sys: 6.21 s, total: 47min 44s\n",
      "Wall time: 3min 20s\n"
     ]
    }
   ],
   "source": [
    "%%time\n",
    "# XGBoost の時間だめう！\n",
    "clf = XGBClassifier(base_score=0.005)\n",
    "clf.fit(X, y)"
   ]
  },
  {
   "cell_type": "code",
   "execution_count": 10,
   "metadata": {
    "collapsed": false
   },
   "outputs": [
    {
     "name": "stdout",
     "output_type": "stream",
     "text": [
      "[ 10 114 200 320 321 338 341 345 360 375 392 394 681 682 688 690 702 704\n",
      " 730 731 734 735 751 771 780 786 798 799 818 826 828 831 838 839 841 843\n",
      " 848 850 851 854 862 872 883 884 885 968 969 970 971 972 988 994]\n"
     ]
    },
    {
     "data": {
      "image/png": "[encoded data removed]",
      "text/plain": [
       "<matplotlib.figure.Figure at 0x7f4f685a1b00>"
      ]
     },
     "metadata": {},
     "output_type": "display_data"
    }
   ],
   "source": [
    "# とりあえず抽出\n",
    "plt.hist(clf.feature_importances_[clf.feature_importances_>0])\n",
    "important_indices = np.where(clf.feature_importances_ > 0.005)[0]\n",
    "print(important_indices)"
   ]
  },
  {
   "cell_type": "code",
   "execution_count": 11,
   "metadata": {
    "collapsed": false
   },
   "outputs": [
    {
     "name": "stdout",
     "output_type": "stream",
     "text": [
      "../output/reduced_train_numeric.csv.gz [  0  11 115 201 321 322 339 342 346 361 376 393 395 682 683 689 691 703\n",
      " 705 731 732 735 736 752 772 781 787 799 800 819 827 829 832 839 840 842\n",
      " 844 849 851 852 855 863 873 884 885 886]\n",
      "../output/train_categorical_L3_S32_F3854.csv.gz [0 1]\n",
      "../output/date_diff_train.csv.gz [0 1 2 3]\n",
      "../output/train_categorical_md5.csv.gz [0 1]\n",
      "../output/train_date_md5.csv.gz [0]\n",
      "../output/train_categorical_set.csv.gz [ 0 15 21]\n"
     ]
    }
   ],
   "source": [
    "# 入力データを削減\n",
    "cols_list = use_cols_list(TRAINS, important_indices)\n",
    "X = entire_data_set(TRAINS, cols_list)\n",
    "y = general_df(RESPONSE).values.ravel()"
   ]
  },
  {
   "cell_type": "code",
   "execution_count": 12,
   "metadata": {
    "collapsed": false
   },
   "outputs": [
    {
     "name": "stdout",
     "output_type": "stream",
     "text": [
      "fold 0, ROC AUC: 0.721\n",
      "fold 1, ROC AUC: 0.704\n",
      "fold 2, ROC AUC: 0.701\n",
      "0.708037128507\n"
     ]
    }
   ],
   "source": [
    "# 予測して Cross Validation\n",
    "clf = XGBClassifier(max_depth=5, base_score=0.005)\n",
    "cv = StratifiedKFold(y, n_folds=3)\n",
    "predictions = np.ones(y.shape[0])\n",
    "for i, (train, test) in enumerate(cv):\n",
    "    predictions[test] = clf.fit(X[train], y[train]).predict_proba(X[test])[:, 1]\n",
    "    print(\"fold {}, ROC AUC: {:.3f}\".format(i, roc_auc_score(y[test], predictions[test])))\n",
    "print(roc_auc_score(y, predictions))"
   ]
  },
  {
   "cell_type": "code",
   "execution_count": 13,
   "metadata": {
    "collapsed": false
   },
   "outputs": [
    {
     "name": "stdout",
     "output_type": "stream",
     "text": [
      "0.250376658601\n"
     ]
    },
    {
     "data": {
      "image/png": "[encoded data removed]",
      "text/plain": [
       "<matplotlib.figure.Figure at 0x7f4f70f2c588>"
      ]
     },
     "metadata": {},
     "output_type": "display_data"
    }
   ],
   "source": [
    "# MCC 最適化\n",
    "thresholds = np.linspace(0.01, 0.99, 200)\n",
    "mcc = np.array([matthews_corrcoef(y, predictions > thr) for thr in thresholds])\n",
    "plt.plot(thresholds, mcc)\n",
    "best_threshold = thresholds[mcc.argmax()]\n",
    "print(mcc.max())"
   ]
  },
  {
   "cell_type": "code",
   "execution_count": 14,
   "metadata": {
    "collapsed": false
   },
   "outputs": [
    {
     "data": {
      "text/html": [
       "<div>\n",
       "<table border=\"1\" class=\"dataframe\">\n",
       "  <thead>\n",
       "    <tr style=\"text-align: right;\">\n",
       "      <th></th>\n",
       "      <th>Predict 1.0</th>\n",
       "      <th>Predict 0.0</th>\n",
       "    </tr>\n",
       "    <tr>\n",
       "      <th>Response</th>\n",
       "      <th></th>\n",
       "      <th></th>\n",
       "    </tr>\n",
       "  </thead>\n",
       "  <tbody>\n",
       "    <tr>\n",
       "      <th>0.0</th>\n",
       "      <td>1800</td>\n",
       "      <td>1175068</td>\n",
       "    </tr>\n",
       "    <tr>\n",
       "      <th>1.0</th>\n",
       "      <td>1138</td>\n",
       "      <td>5741</td>\n",
       "    </tr>\n",
       "  </tbody>\n",
       "</table>\n",
       "</div>"
      ],
      "text/plain": [
       "          Predict 1.0  Predict 0.0\n",
       "Response                          \n",
       "0.0              1800      1175068\n",
       "1.0              1138         5741"
      ]
     },
     "execution_count": 14,
     "metadata": {},
     "output_type": "execute_result"
    }
   ],
   "source": [
    "# この時点での当たり具合を出力\n",
    "tmp_threshold = best_threshold\n",
    "response = pd.read_csv(\"../output/train_response.csv.gz\", index_col=0)\n",
    "response[\"prediction\"] = predictions\n",
    "predicted_one = response[response[\"prediction\"] > tmp_threshold].groupby(\"Response\").count()\n",
    "predicted_one.rename(columns={\"prediction\":\"Predict 1.0\"}, inplace=True)\n",
    "predicted_zero = response[response[\"prediction\"] <= tmp_threshold].groupby(\"Response\").count()\n",
    "predicted_zero.rename(columns={\"prediction\":\"Predict 0.0\"}, inplace=True)\n",
    "pd.concat([predicted_one, predicted_zero], axis=1)"
   ]
  },
  {
   "cell_type": "markdown",
   "metadata": {},
   "source": [
    "提出用データを生成する"
   ]
  },
  {
   "cell_type": "code",
   "execution_count": null,
   "metadata": {
    "collapsed": false
   },
   "outputs": [],
   "source": [
    "# テストデータ読み込み\n",
    "X = entire_data_set(TESTS, cols_list)\n",
    "\n",
    "# 0 or 1 に正規化\n",
    "predictions = (clf.predict_proba(X)[:, 1] > best_threshold).astype(np.int8)\n",
    "\n",
    "# 提出データを生成\n",
    "sub = pd.read_csv(\"../input/sample_submission.csv\", index_col=0)\n",
    "sub[\"Response\"] = predictions\n",
    "sub.to_csv(\"submission.csv.gz\", compression=\"gzip\")"
   ]
  }
 ],
 "metadata": {
  "kernelspec": {
   "display_name": "Python 3",
   "language": "python",
   "name": "python3"
  },
  "language_info": {
   "codemirror_mode": {
    "name": "ipython",
    "version": 3
   },
   "file_extension": ".py",
   "mimetype": "text/x-python",
   "name": "python",
   "nbconvert_exporter": "python",
   "pygments_lexer": "ipython3",
   "version": "3.5.2"
  }
 },
 "nbformat": 4,
 "nbformat_minor": 1
}
