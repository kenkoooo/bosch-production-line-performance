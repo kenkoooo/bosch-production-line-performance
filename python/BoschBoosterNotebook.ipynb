{
 "cells": [
  {
   "cell_type": "code",
   "execution_count": 3,
   "metadata": {
    "collapsed": false
   },
   "outputs": [],
   "source": [
    "# ライブラリの皆さん\n",
    "import numpy as np\n",
    "import pandas as pd\n",
    "from xgboost import XGBClassifier\n",
    "from sklearn.metrics import matthews_corrcoef, roc_auc_score\n",
    "from sklearn.cross_validation import cross_val_score, StratifiedKFold\n",
    "import time"
   ]
  },
  {
   "cell_type": "code",
   "execution_count": 4,
   "metadata": {
    "collapsed": true
   },
   "outputs": [],
   "source": [
    "# 入力ファイルの皆さん\n",
    "INPUTS = [\n",
    "    \"../output/reduced_train_date_normalized.csv.gz\",\n",
    "    \"../output/reduced_train_categorical.csv.gz\",\n",
    "    \"../output/reduced_train_numeric.csv.gz\",\n",
    "    \"../output/date_diff_train.csv.gz\"\n",
    "]\n",
    "\n",
    "TESTS = [\n",
    "    \"../output/reduced_test_date_normalized.csv.gz\",\n",
    "    \"../output/reduced_test_categorical.csv.gz\",\n",
    "    \"../output/reduced_test_numeric.csv.gz\",\n",
    "    \"../output/date_diff_test.csv.gz\"\n",
    "]\n",
    "\n",
    "RESPONSE = \"../output/train_response.csv.gz\""
   ]
  },
  {
   "cell_type": "code",
   "execution_count": 5,
   "metadata": {
    "collapsed": true
   },
   "outputs": [],
   "source": [
    "# メソッドの皆さん\n",
    "def count_columns(gzip_filename):\n",
    "    chunks = pd.read_csv(gzip_filename, compression=\"gzip\", index_col=0, chunksize=1, dtype=np.float32)\n",
    "    for chunk in chunks:\n",
    "        return len(chunk.columns)\n",
    "\n",
    "\n",
    "def general_df(gz_file):\n",
    "    return pd.read_csv(gz_file,\n",
    "                       compression=\"gzip\",\n",
    "                       index_col=0,\n",
    "                       dtype=np.float32)\n",
    "\n",
    "\n",
    "def sampled_data_set(train_files):\n",
    "    dfs = []\n",
    "    for train_file in train_files:\n",
    "        print(train_file)\n",
    "        df = general_df(train_file)\n",
    "        dfs.append(df)\n",
    "    return pd.concat(dfs, axis=1)\n",
    "\n",
    "\n",
    "def limited_cols_df_values(gz_file, use_cols):\n",
    "    return pd.read_csv(gz_file, index_col=0, dtype=np.float32, usecols=use_cols).values\n",
    "\n",
    "\n",
    "def use_cols_list(train_files, indices):\n",
    "    count_list = []\n",
    "    for train_file in train_files:\n",
    "        count_list.append(count_columns(train_file))\n",
    "    count_list.append(100000)\n",
    "\n",
    "    cols_list = []\n",
    "    cur = 0\n",
    "    for i in range(0, len(count_list) - 1):\n",
    "        counts = count_list[i]\n",
    "        l = cur\n",
    "        cur += counts\n",
    "        r = cur\n",
    "        cols = np.concatenate([[0], indices[np.where((l <= indices) & (indices < r))] + 1 - l])\n",
    "        cols_list.append(cols)\n",
    "    return cols_list\n",
    "\n",
    "\n",
    "def entire_data_set(train_files, cols_list):\n",
    "    values = []\n",
    "    for train_file, cols in zip(train_files, cols_list):\n",
    "        print(train_file, cols)\n",
    "        value = pd.read_csv(train_file,\n",
    "                            index_col=0,\n",
    "                            dtype=np.float32,\n",
    "                            usecols=cols).values\n",
    "        values.append(value)\n",
    "    return np.concatenate(values, axis=1)"
   ]
  },
  {
   "cell_type": "code",
   "execution_count": 6,
   "metadata": {
    "collapsed": false
   },
   "outputs": [
    {
     "name": "stdout",
     "output_type": "stream",
     "text": [
      "../output/reduced_train_date_normalized.csv.gz\n",
      "../output/reduced_train_categorical.csv.gz\n",
      "../output/reduced_train_numeric.csv.gz\n",
      "../output/date_diff_train.csv.gz\n"
     ]
    }
   ],
   "source": [
    "# 全入力データを読み込み\n",
    "X = sampled_data_set(INPUTS)\n",
    "y = general_df(RESPONSE).loc[X.index].values.ravel()\n",
    "X = X.values"
   ]
  },
  {
   "cell_type": "code",
   "execution_count": 7,
   "metadata": {
    "collapsed": false
   },
   "outputs": [
    {
     "data": {
      "text/plain": [
       "XGBClassifier(base_score=0.005, colsample_bylevel=1, colsample_bytree=1,\n",
       "       gamma=0, learning_rate=0.1, max_delta_step=0, max_depth=3,\n",
       "       min_child_weight=1, missing=None, n_estimators=100, nthread=-1,\n",
       "       objective='binary:logistic', reg_alpha=0, reg_lambda=1,\n",
       "       scale_pos_weight=1, seed=0, silent=True, subsample=1)"
      ]
     },
     "execution_count": 7,
     "metadata": {},
     "output_type": "execute_result"
    }
   ],
   "source": [
    "# XGBoost の時間だめう！\n",
    "clf = XGBClassifier(base_score=0.005)\n",
    "clf.fit(X, y)"
   ]
  },
  {
   "cell_type": "code",
   "execution_count": 8,
   "metadata": {
    "collapsed": false
   },
   "outputs": [
    {
     "name": "stdout",
     "output_type": "stream",
     "text": [
      "[ 124  131  134  135  136  143  380  411  418  522  608  728  729  746  749\n",
      "  764  768  775  800  802 1090 1096 1110 1112 1133 1135 1139 1141 1143 1159\n",
      " 1206 1226 1234 1236 1239 1246 1258 1259 1262 1280 1291 1376 1377 1378]\n"
     ]
    }
   ],
   "source": [
    "# とりあえず抽出\n",
    "important_indices = np.where(clf.feature_importances_ > 0.005)[0]\n",
    "print(important_indices)"
   ]
  },
  {
   "cell_type": "code",
   "execution_count": 9,
   "metadata": {
    "collapsed": false
   },
   "outputs": [
    {
     "name": "stdout",
     "output_type": "stream",
     "text": [
      "../output/reduced_train_date_normalized.csv.gz [  0 125 132 135 136 137 144]\n",
      "../output/reduced_train_categorical.csv.gz [  0 220]\n",
      "../output/reduced_train_numeric.csv.gz [  0   4  11 115 201 321 322 339 342 357 361 368 393 395 683 689 703 705\n",
      " 726 728 732 734 736 752 799 819 827 829 832 839 851 852 855 873 884]\n",
      "../output/date_diff_train.csv.gz [0 1 2 3]\n"
     ]
    }
   ],
   "source": [
    "# 入力データを削減\n",
    "cols_list = use_cols_list(INPUTS, important_indices)\n",
    "X = entire_data_set(INPUTS, cols_list)\n",
    "y = general_df(RESPONSE).values.ravel()"
   ]
  },
  {
   "cell_type": "code",
   "execution_count": 10,
   "metadata": {
    "collapsed": true
   },
   "outputs": [],
   "source": [
    "# 再度 XGBoost\n",
    "clf = XGBClassifier(max_depth=5, base_score=0.005)\n",
    "cv = StratifiedKFold(y, n_folds=3)"
   ]
  },
  {
   "cell_type": "code",
   "execution_count": null,
   "metadata": {
    "collapsed": true
   },
   "outputs": [],
   "source": [
    "# 予測して Cross Validation\n",
    "predictions = np.ones(y.shape[0])\n",
    "for i, (train, test) in enumerate(cv):\n",
    "    predictions[test] = clf.fit(X[train], y[train]).predict_proba(X[test])[:, 1]\n",
    "    print(\"fold {}, ROC AUC: {:.3f}\".format(i, roc_auc_score(y[test], predictions[test])))\n",
    "print(roc_auc_score(y, predictions))"
   ]
  },
  {
   "cell_type": "code",
   "execution_count": null,
   "metadata": {
    "collapsed": true
   },
   "outputs": [],
   "source": [
    "# MCC 最適化\n",
    "thresholds = np.linspace(0.01, 0.99, 200)\n",
    "mcc = np.array([matthews_corrcoef(y, predictions > thr) for thr in thresholds])\n",
    "best_threshold = thresholds[mcc.argmax()]\n",
    "print(mcc.max())"
   ]
  },
  {
   "cell_type": "code",
   "execution_count": null,
   "metadata": {
    "collapsed": true
   },
   "outputs": [],
   "source": [
    "# テストデータ読み込み\n",
    "X = entire_data_set(TESTS, cols_list)"
   ]
  },
  {
   "cell_type": "code",
   "execution_count": null,
   "metadata": {
    "collapsed": true
   },
   "outputs": [],
   "source": [
    "# テストデータで予測\n",
    "predictions = (clf.predict_proba(X)[:, 1] > best_threshold).astype(np.int8)"
   ]
  },
  {
   "cell_type": "code",
   "execution_count": null,
   "metadata": {
    "collapsed": true
   },
   "outputs": [],
   "source": [
    "# 提出データを生成\n",
    "sub = pd.read_csv(\"../input/sample_submission.csv\", index_col=0)\n",
    "sub[\"Response\"] = predictions\n",
    "sub.to_csv(\"submission.csv.gz\", compression=\"gzip\")"
   ]
  },
  {
   "cell_type": "code",
   "execution_count": null,
   "metadata": {
    "collapsed": true
   },
   "outputs": [],
   "source": []
  }
 ],
 "metadata": {
  "kernelspec": {
   "display_name": "Python 3",
   "language": "python",
   "name": "python3"
  },
  "language_info": {
   "codemirror_mode": {
    "name": "ipython",
    "version": 3
   },
   "file_extension": ".py",
   "mimetype": "text/x-python",
   "name": "python",
   "nbconvert_exporter": "python",
   "pygments_lexer": "ipython3",
   "version": "3.5.2"
  }
 },
 "nbformat": 4,
 "nbformat_minor": 1
}
