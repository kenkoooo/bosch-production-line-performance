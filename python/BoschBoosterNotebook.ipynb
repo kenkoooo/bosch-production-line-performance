{
 "cells": [
  {
   "cell_type": "code",
   "execution_count": 71,
   "metadata": {
    "collapsed": false
   },
   "outputs": [],
   "source": [
    "# ライブラリの皆さん\n",
    "import numpy as np\n",
    "import pandas as pd\n",
    "from xgboost import XGBClassifier\n",
    "from sklearn.metrics import matthews_corrcoef, roc_auc_score\n",
    "from sklearn.cross_validation import cross_val_score, StratifiedKFold\n",
    "import matplotlib.pyplot as plt\n",
    "import time\n",
    "import seaborn as sns\n",
    "%matplotlib inline"
   ]
  },
  {
   "cell_type": "code",
   "execution_count": 35,
   "metadata": {
    "collapsed": true
   },
   "outputs": [],
   "source": [
    "# メソッドの皆さん\n",
    "def count_columns(gzip_filename):\n",
    "    chunks = pd.read_csv(gzip_filename, compression=\"gzip\", index_col=0, chunksize=1, dtype=np.float32)\n",
    "    for chunk in chunks:\n",
    "        return len(chunk.columns)\n",
    "\n",
    "\n",
    "def general_df(gz_file):\n",
    "    return pd.read_csv(gz_file,\n",
    "                       compression=\"gzip\",\n",
    "                       index_col=0,\n",
    "                       dtype=np.float32)\n",
    "\n",
    "\n",
    "def sampled_data_set(train_files):\n",
    "    dfs = []\n",
    "    for train_file in train_files:\n",
    "        print(train_file)\n",
    "        df = general_df(train_file)\n",
    "        dfs.append(df)\n",
    "    return pd.concat(dfs, axis=1)\n",
    "\n",
    "\n",
    "def limited_cols_df_values(gz_file, use_cols):\n",
    "    return pd.read_csv(gz_file, index_col=0, dtype=np.float32, usecols=use_cols).values\n",
    "\n",
    "\n",
    "def use_cols_list(train_files, indices):\n",
    "    count_list = []\n",
    "    for train_file in train_files:\n",
    "        count_list.append(count_columns(train_file))\n",
    "    count_list.append(100000)\n",
    "\n",
    "    cols_list = []\n",
    "    cur = 0\n",
    "    for i in range(0, len(count_list) - 1):\n",
    "        counts = count_list[i]\n",
    "        l = cur\n",
    "        cur += counts\n",
    "        r = cur\n",
    "        cols = np.concatenate([[0], indices[np.where((l <= indices) & (indices < r))] + 1 - l])\n",
    "        cols_list.append(cols)\n",
    "    return cols_list\n",
    "\n",
    "\n",
    "def entire_data_set(train_files, cols_list):\n",
    "    values = []\n",
    "    for train_file, cols in zip(train_files, cols_list):\n",
    "        print(train_file, cols)\n",
    "        value = pd.read_csv(train_file,\n",
    "                            index_col=0,\n",
    "                            dtype=np.float32,\n",
    "                            usecols=cols).values\n",
    "        values.append(value)\n",
    "    return np.concatenate(values, axis=1)"
   ]
  },
  {
   "cell_type": "code",
   "execution_count": 62,
   "metadata": {
    "collapsed": true
   },
   "outputs": [],
   "source": [
    "# 入力ファイルの皆さん\n",
    "INPUTS = [\n",
    "    \"../output/reduced_train_date_normalized.csv.gz\",\n",
    "    \"../output/train_categorical_L3_S32_F3854.csv.gz\",\n",
    "    \"../output/reduced_train_numeric.csv.gz\",\n",
    "    \"../output/date_diff_train.csv.gz\"\n",
    "]\n",
    "\n",
    "TESTS = [\n",
    "    \"../output/reduced_test_date_normalized.csv.gz\",\n",
    "    \"../output/test_categorical_L3_S32_F3854.csv.gz\",\n",
    "    \"../output/reduced_test_numeric.csv.gz\",\n",
    "    \"../output/date_diff_test.csv.gz\"\n",
    "]\n",
    "\n",
    "RESPONSE = \"../output/train_response.csv.gz\""
   ]
  },
  {
   "cell_type": "code",
   "execution_count": 36,
   "metadata": {
    "collapsed": false
   },
   "outputs": [
    {
     "name": "stdout",
     "output_type": "stream",
     "text": [
      "../output/reduced_train_date_normalized.csv.gz\n",
      "../output/train_categorical_L3_S32_F3854.csv.gz\n",
      "../output/reduced_train_numeric.csv.gz\n",
      "../output/date_diff_train.csv.gz\n"
     ]
    }
   ],
   "source": [
    "# 全入力データを読み込み\n",
    "X = sampled_data_set(INPUTS)\n",
    "y = general_df(RESPONSE).loc[X.index].values.ravel()\n",
    "X = X.values"
   ]
  },
  {
   "cell_type": "code",
   "execution_count": 37,
   "metadata": {
    "collapsed": false
   },
   "outputs": [
    {
     "data": {
      "text/plain": [
       "XGBClassifier(base_score=0.005, colsample_bylevel=1, colsample_bytree=1,\n",
       "       gamma=0, learning_rate=0.1, max_delta_step=0, max_depth=3,\n",
       "       min_child_weight=1, missing=None, n_estimators=100, nthread=-1,\n",
       "       objective='binary:logistic', reg_alpha=0, reg_lambda=1,\n",
       "       scale_pos_weight=1, seed=0, silent=True, subsample=1)"
      ]
     },
     "execution_count": 37,
     "metadata": {},
     "output_type": "execute_result"
    }
   ],
   "source": [
    "# XGBoost の時間だめう！\n",
    "clf = XGBClassifier(base_score=0.005)\n",
    "clf.fit(X, y)"
   ]
  },
  {
   "cell_type": "code",
   "execution_count": 55,
   "metadata": {
    "collapsed": false
   },
   "outputs": [
    {
     "name": "stdout",
     "output_type": "stream",
     "text": [
      "[ 124  134  135  136  143  161  172  179  276  362  481  482  483  499  500\n",
      "  503  522  554  843  844  849  850  852  864  893  894  897  913  948  954\n",
      "  980  988  990  993  998 1012 1016 1034 1045 1046 1047 1130 1131 1132]\n"
     ]
    }
   ],
   "source": [
    "# とりあえず抽出\n",
    "plt.hist(clf.feature_importances_[clf.feature_importances_>0])\n",
    "important_indices = np.where(clf.feature_importances_ > 0.005)[0]\n",
    "print(important_indices)"
   ]
  },
  {
   "cell_type": "code",
   "execution_count": null,
   "metadata": {
    "collapsed": false
   },
   "outputs": [
    {
     "name": "stdout",
     "output_type": "stream",
     "text": [
      "../output/reduced_train_date_normalized.csv.gz [  0 125 135 136 137 144]\n",
      "../output/train_categorical_L3_S32_F3854.csv.gz [0 1]\n",
      "../output/reduced_train_numeric.csv.gz [  0  11  18 115 201 320 321 322 338 339 342 361 393 682 683 688 689 691\n",
      " 703 732 733 736 752 787 793 819 827 829 832 837 851 855 873 884 885 886]\n"
     ]
    }
   ],
   "source": [
    "# 入力データを削減\n",
    "cols_list = use_cols_list(INPUTS, important_indices)\n",
    "X = entire_data_set(INPUTS, cols_list)\n",
    "y = general_df(RESPONSE).values.ravel()"
   ]
  },
  {
   "cell_type": "code",
   "execution_count": null,
   "metadata": {
    "collapsed": false
   },
   "outputs": [],
   "source": [
    "# 予測して Cross Validation\n",
    "clf = XGBClassifier(max_depth=5, base_score=0.005)\n",
    "cv = StratifiedKFold(y, n_folds=3)\n",
    "predictions = np.ones(y.shape[0])\n",
    "for i, (train, test) in enumerate(cv):\n",
    "    predictions[test] = clf.fit(X[train], y[train]).predict_proba(X[test])[:, 1]\n",
    "    print(\"fold {}, ROC AUC: {:.3f}\".format(i, roc_auc_score(y[test], predictions[test])))\n",
    "print(roc_auc_score(y, predictions))"
   ]
  },
  {
   "cell_type": "code",
   "execution_count": null,
   "metadata": {
    "collapsed": false
   },
   "outputs": [],
   "source": [
    "# MCC 最適化\n",
    "thresholds = np.linspace(0.01, 0.99, 200)\n",
    "mcc = np.array([matthews_corrcoef(y, predictions > thr) for thr in thresholds])\n",
    "plt.plot(thresholds, mcc)\n",
    "best_threshold = thresholds[mcc.argmax()]\n",
    "print(mcc.max())"
   ]
  },
  {
   "cell_type": "code",
   "execution_count": 63,
   "metadata": {
    "collapsed": false
   },
   "outputs": [
    {
     "name": "stdout",
     "output_type": "stream",
     "text": [
      "../output/reduced_test_date_normalized.csv.gz [  0 125 135 136 137 144]\n",
      "../output/test_categorical_L3_S32_F3854.csv.gz [0 1]\n",
      "../output/reduced_test_numeric.csv.gz [  0  11  18 115 201 320 321 322 338 339 342 361 393 682 683 688 689 691\n",
      " 703 732 733 736 752 787 793 819 827 829 832 837 851 855 873 884 885 886]\n",
      "../output/date_diff_test.csv.gz [0 1 2 3]\n"
     ]
    }
   ],
   "source": [
    "# テストデータ読み込み\n",
    "X = entire_data_set(TESTS, cols_list)"
   ]
  },
  {
   "cell_type": "code",
   "execution_count": 64,
   "metadata": {
    "collapsed": true
   },
   "outputs": [],
   "source": [
    "# 0 or 1 に正規化\n",
    "predictions = (clf.predict_proba(X)[:, 1] > best_threshold).astype(np.int8)"
   ]
  },
  {
   "cell_type": "code",
   "execution_count": 65,
   "metadata": {
    "collapsed": true
   },
   "outputs": [],
   "source": [
    "# 提出データを生成\n",
    "sub = pd.read_csv(\"../input/sample_submission.csv\", index_col=0)\n",
    "sub[\"Response\"] = predictions\n",
    "sub.to_csv(\"submission.csv.gz\", compression=\"gzip\")"
   ]
  },
  {
   "cell_type": "code",
   "execution_count": 75,
   "metadata": {
    "collapsed": false
   },
   "outputs": [
    {
     "data": {
      "text/plain": [
       "(array([ 99.75864796,   0.        ,   0.        ,   0.        ,\n",
       "          0.        ,   0.        ,   0.        ,   0.        ,\n",
       "          0.        ,   0.        ,   0.        ,   0.        ,\n",
       "          0.        ,   0.        ,   0.        ,   0.        ,\n",
       "          0.        ,   0.        ,   0.        ,   0.        ,\n",
       "          0.        ,   0.        ,   0.        ,   0.        ,\n",
       "          0.        ,   0.        ,   0.        ,   0.        ,\n",
       "          0.        ,   0.        ,   0.        ,   0.        ,\n",
       "          0.        ,   0.        ,   0.        ,   0.        ,\n",
       "          0.        ,   0.        ,   0.        ,   0.        ,\n",
       "          0.        ,   0.        ,   0.        ,   0.        ,\n",
       "          0.        ,   0.        ,   0.        ,   0.        ,\n",
       "          0.        ,   0.        ,   0.        ,   0.        ,\n",
       "          0.        ,   0.        ,   0.        ,   0.        ,\n",
       "          0.        ,   0.        ,   0.        ,   0.        ,\n",
       "          0.        ,   0.        ,   0.        ,   0.        ,\n",
       "          0.        ,   0.        ,   0.        ,   0.        ,\n",
       "          0.        ,   0.        ,   0.        ,   0.        ,\n",
       "          0.        ,   0.        ,   0.        ,   0.        ,\n",
       "          0.        ,   0.        ,   0.        ,   0.        ,\n",
       "          0.        ,   0.        ,   0.        ,   0.        ,\n",
       "          0.        ,   0.        ,   0.        ,   0.        ,\n",
       "          0.        ,   0.        ,   0.        ,   0.        ,\n",
       "          0.        ,   0.        ,   0.        ,   0.        ,\n",
       "          0.        ,   0.        ,   0.        ,   0.24135204]),\n",
       " array([ 0.  ,  0.01,  0.02,  0.03,  0.04,  0.05,  0.06,  0.07,  0.08,\n",
       "         0.09,  0.1 ,  0.11,  0.12,  0.13,  0.14,  0.15,  0.16,  0.17,\n",
       "         0.18,  0.19,  0.2 ,  0.21,  0.22,  0.23,  0.24,  0.25,  0.26,\n",
       "         0.27,  0.28,  0.29,  0.3 ,  0.31,  0.32,  0.33,  0.34,  0.35,\n",
       "         0.36,  0.37,  0.38,  0.39,  0.4 ,  0.41,  0.42,  0.43,  0.44,\n",
       "         0.45,  0.46,  0.47,  0.48,  0.49,  0.5 ,  0.51,  0.52,  0.53,\n",
       "         0.54,  0.55,  0.56,  0.57,  0.58,  0.59,  0.6 ,  0.61,  0.62,\n",
       "         0.63,  0.64,  0.65,  0.66,  0.67,  0.68,  0.69,  0.7 ,  0.71,\n",
       "         0.72,  0.73,  0.74,  0.75,  0.76,  0.77,  0.78,  0.79,  0.8 ,\n",
       "         0.81,  0.82,  0.83,  0.84,  0.85,  0.86,  0.87,  0.88,  0.89,\n",
       "         0.9 ,  0.91,  0.92,  0.93,  0.94,  0.95,  0.96,  0.97,  0.98,\n",
       "         0.99,  1.  ]),\n",
       " <a list of 100 Patch objects>)"
      ]
     },
     "execution_count": 75,
     "metadata": {},
     "output_type": "execute_result"
    },
    {
     "data": {
      "image/png": "[encoded data removed]",
      "text/plain": [
       "<matplotlib.figure.Figure at 0x7f5c4d819a58>"
      ]
     },
     "metadata": {},
     "output_type": "display_data"
    }
   ],
   "source": [
    "plt.hist(predictions, bins=100, normed=True)"
   ]
  }
 ],
 "metadata": {
  "kernelspec": {
   "display_name": "Python 3",
   "language": "python",
   "name": "python3"
  },
  "language_info": {
   "codemirror_mode": {
    "name": "ipython",
    "version": 3
   },
   "file_extension": ".py",
   "mimetype": "text/x-python",
   "name": "python",
   "nbconvert_exporter": "python",
   "pygments_lexer": "ipython3",
   "version": "3.5.2"
  }
 },
 "nbformat": 4,
 "nbformat_minor": 1
}
