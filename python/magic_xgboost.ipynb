{
 "cells": [
  {
   "cell_type": "code",
   "execution_count": 1,
   "metadata": {
    "collapsed": false
   },
   "outputs": [
    {
     "name": "stderr",
     "output_type": "stream",
     "text": [
      "/usr/local/lib/python3.5/dist-packages/sklearn/cross_validation.py:44: DeprecationWarning: This module was deprecated in version 0.18 in favor of the model_selection module into which all the refactored classes and functions are moved. Also note that the interface of the new CV iterators are different from that of this module. This module will be removed in 0.20.\n",
      "  \"This module will be removed in 0.20.\", DeprecationWarning)\n"
     ]
    }
   ],
   "source": [
    "# ライブラリの皆さん\n",
    "import numpy as np\n",
    "import pandas as pd\n",
    "from xgboost import XGBClassifier\n",
    "from sklearn.metrics import matthews_corrcoef, roc_auc_score\n",
    "from sklearn.cross_validation import cross_val_score, StratifiedKFold\n",
    "import matplotlib.pyplot as plt\n",
    "import time\n",
    "import seaborn as sns\n",
    "%matplotlib inline"
   ]
  },
  {
   "cell_type": "code",
   "execution_count": 2,
   "metadata": {
    "collapsed": true
   },
   "outputs": [],
   "source": [
    "# 入力ファイルの皆さん\n",
    "T_FILES = [\n",
    "    \"../hdf/train_categorical.hdf\",\n",
    "    \"../hdf/train_numeric.hdf\",\n",
    "    \"../hdf/train_date_L0_normalized.hdf\",\n",
    "#     \"../hdf/train_date_L1_normalized.hdf\",\n",
    "#     \"../hdf/train_date_L2_normalized.hdf\",\n",
    "    \"../hdf/train_date_L3_normalized.hdf\",\n",
    "    \"../hdf/train_date_min_max.hdf\",\n",
    "    \"../hdf/train_date_L0_min_max.hdf\",\n",
    "    \"../hdf/train_date_L1_min_max.hdf\",\n",
    "    \"../hdf/train_date_L2_min_max.hdf\",\n",
    "    \"../hdf/train_date_L3_min_max.hdf\",\n",
    "    \"../hdf/train_magic.hdf\",\n",
    "    \"../hdf/train_id.hdf\",\n",
    "]\n",
    "RESPONSE = \"../hdf/train_response.hdf\""
   ]
  },
  {
   "cell_type": "code",
   "execution_count": 3,
   "metadata": {
    "collapsed": false
   },
   "outputs": [],
   "source": [
    "def xgboost_bosch(train_indices, train_file_list):\n",
    "    print(\"Loading Train Data...\")\n",
    "    X = pd.concat(\n",
    "        (pd.read_hdf(filename).loc[train_indices]\n",
    "         for filename in train_file_list),\n",
    "        axis=1)\n",
    "    columns = X.columns\n",
    "    y = pd.read_hdf(RESPONSE).loc[X.index].values.ravel()\n",
    "    X = X.values\n",
    "    # Feature Selection\n",
    "    print(\"Selecting Train Features...\")\n",
    "    clf = XGBClassifier(base_score=0.005)\n",
    "    clf.fit(X, y)\n",
    "    tmp = [(clf.feature_importances_[i], columns[i])\n",
    "           for i in range(len(columns))]\n",
    "    tmp = sorted(tmp, reverse=True)\n",
    "    important_columns = [c[1] for c in tmp if c[0] > 0.005]\n",
    "    print(tmp[:20])\n",
    "    # Reload Train Data\n",
    "    print(\"Reloading Train Data...\")\n",
    "    X = pd.concat(\n",
    "        (drop_columns(\n",
    "            pd.read_hdf(filename).loc[train_indices], important_columns)\n",
    "         for filename in train_file_list),\n",
    "        axis=1)\n",
    "    y = pd.read_hdf(RESPONSE)\n",
    "    y = y.loc[X.index].values.ravel()\n",
    "    X = X.values\n",
    "    # 予測して Cross Validation\n",
    "    print(\"Predicting...\")\n",
    "    clf = XGBClassifier(max_depth=6, base_score=0.005)\n",
    "    cv = StratifiedKFold(y, n_folds=3)\n",
    "    predictions = np.ones(y.shape[0])\n",
    "    for i, (train, test) in enumerate(cv):\n",
    "        predictions[test] = clf.fit(X[train],\n",
    "                                    y[train]).predict_proba(X[test])[:, 1]\n",
    "        print(\"fold {}, ROC AUC: {:.3f}\".format(i, roc_auc_score(y[\n",
    "            test], predictions[test])))\n",
    "    print(roc_auc_score(y, predictions))\n",
    "    # MCC 最適化\n",
    "    thresholds = np.linspace(0.01, 0.99, 200)\n",
    "    mcc = np.array(\n",
    "        [matthews_corrcoef(y, predictions > thr) for thr in thresholds])\n",
    "    plt.plot(thresholds, mcc)\n",
    "    best_threshold = thresholds[mcc.argmax()]\n",
    "    print(mcc.max())\n",
    "    return important_columns, clf, best_threshold\n",
    "\n",
    "def drop_columns(df, undrop_columns):\n",
    "    drop_columns = [c for c in df.columns if c not in undrop_columns]\n",
    "    df.drop(drop_columns, axis=1, inplace=True)\n",
    "    return df\n",
    "\n",
    "def predict(important_columns, test_indices, clf, best_threshold,\n",
    "            train_file_list):\n",
    "    test_file_list = []\n",
    "    for file in train_file_list:\n",
    "        test_file_list.append(file.replace(\"train\", \"test\"))\n",
    "    # テストデータ読み込み\n",
    "    print(\"Loading Test Data...\")\n",
    "    X = pd.concat(\n",
    "        (drop_columns(\n",
    "            pd.read_hdf(filename).loc[test_indices], important_columns)\n",
    "         for filename in test_file_list),\n",
    "        axis=1)\n",
    "    X = X.values\n",
    "    # 0 or 1 に正規化\n",
    "    predictions = (clf.predict_proba(X)[:, 1] > best_threshold).astype(np.int8)\n",
    "    # 提出データを生成\n",
    "    sub = pd.DataFrame(index=test_indices.astype(np.int32), columns=[])\n",
    "    sub[\"Response\"] = predictions\n",
    "    return sub"
   ]
  },
  {
   "cell_type": "code",
   "execution_count": 7,
   "metadata": {
    "collapsed": false
   },
   "outputs": [
    {
     "name": "stdout",
     "output_type": "stream",
     "text": [
      "Loading Test Data...\n"
     ]
    }
   ],
   "source": [
    "train_index = pd.read_hdf(RESPONSE).sample(n=1000000).index\n",
    "important_columns, clf, best_threshold = xgboost_bosch(train_index, T_FILES)\n",
    "test_index = pd.read_hdf(\"../hdf/test_date_min_max.hdf\").index\n",
    "sub = predict(important_columns, test_index, clf, best_threshold, T_FILES)"
   ]
  },
  {
   "cell_type": "code",
   "execution_count": 8,
   "metadata": {
    "collapsed": true
   },
   "outputs": [],
   "source": [
    "sub.to_csv(\"submission.csv.gz\", compression=\"gzip\")"
   ]
  },
  {
   "cell_type": "code",
   "execution_count": null,
   "metadata": {
    "collapsed": true
   },
   "outputs": [],
   "source": []
  }
 ],
 "metadata": {
  "kernelspec": {
   "display_name": "Python 3",
   "language": "python",
   "name": "python3"
  },
  "language_info": {
   "codemirror_mode": {
    "name": "ipython",
    "version": 3
   },
   "file_extension": ".py",
   "mimetype": "text/x-python",
   "name": "python",
   "nbconvert_exporter": "python",
   "pygments_lexer": "ipython3",
   "version": "3.5.2"
  }
 },
 "nbformat": 4,
 "nbformat_minor": 1
}
