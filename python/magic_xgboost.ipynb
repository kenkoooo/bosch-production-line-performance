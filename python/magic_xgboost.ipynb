{
 "cells": [
  {
   "cell_type": "code",
   "execution_count": 1,
   "metadata": {
    "collapsed": false
   },
   "outputs": [
    {
     "name": "stderr",
     "output_type": "stream",
     "text": [
      "/usr/local/lib/python3.5/dist-packages/sklearn/cross_validation.py:44: DeprecationWarning: This module was deprecated in version 0.18 in favor of the model_selection module into which all the refactored classes and functions are moved. Also note that the interface of the new CV iterators are different from that of this module. This module will be removed in 0.20.\n",
      "  \"This module will be removed in 0.20.\", DeprecationWarning)\n"
     ]
    }
   ],
   "source": [
    "# ライブラリの皆さん\n",
    "import numpy as np\n",
    "import pandas as pd\n",
    "from xgboost import XGBClassifier\n",
    "from sklearn.metrics import matthews_corrcoef, roc_auc_score\n",
    "from sklearn.cross_validation import cross_val_score, StratifiedKFold\n",
    "import matplotlib.pyplot as plt\n",
    "import time\n",
    "import seaborn as sns\n",
    "%matplotlib inline"
   ]
  },
  {
   "cell_type": "code",
   "execution_count": 2,
   "metadata": {
    "collapsed": true
   },
   "outputs": [],
   "source": [
    "# 入力ファイルの皆さん\n",
    "T_FILES = [\n",
    "    \"../hdf/train_categorical.hdf\",\n",
    "    \"../hdf/train_numeric.hdf\",\n",
    "    \"../hdf/train_date_L0_normalized.hdf\",\n",
    "    \"../hdf/train_date_L1_normalized.hdf\",\n",
    "    \"../hdf/train_date_L2_normalized.hdf\",\n",
    "    \"../hdf/train_date_L3_normalized.hdf\",\n",
    "    \"../hdf/train_date_min_max.hdf\",\n",
    "    \"../hdf/train_date_L0_min_max.hdf\",\n",
    "    \"../hdf/train_date_L1_min_max.hdf\",\n",
    "    \"../hdf/train_date_L2_min_max.hdf\",\n",
    "    \"../hdf/train_date_L3_min_max.hdf\",\n",
    "    \"../hdf/train_magic.hdf\",\n",
    "    \"../hdf/train_id.hdf\",\n",
    "    \"../hdf/train_categorical_L3_S32_F3854_decomposite.hdf\",\n",
    "    \"../hdf/train_numeric_L1_S24_F1844_extract.hdf\",\n",
    "    \"../hdf/train_numeric_L1_S24_F1723_-0.12.hdf\",\n",
    "    \"../hdf/train_numeric_L1_S24_F1723_extract.hdf\",\n",
    "    \"../hdf/train_mask.hdf\",\n",
    "    \"../hdf/train_S_min_max.hdf\",\n",
    "    \"../hdf/train_S_C_md5.hdf\",\n",
    "    \"../hdf/train_S_N_md5.hdf\",\n",
    "]\n",
    "RESPONSE = \"../hdf/train_response.hdf\""
   ]
  },
  {
   "cell_type": "code",
   "execution_count": 3,
   "metadata": {
    "collapsed": false
   },
   "outputs": [],
   "source": [
    "def xgboost_bosch(train_indices, train_file_list):\n",
    "    print(\"Loading Train Data...\")\n",
    "    X = pd.concat(\n",
    "        (pd.read_hdf(filename).loc[train_indices]\n",
    "         for filename in train_file_list),\n",
    "        axis=1)\n",
    "    columns = X.columns\n",
    "    y = pd.read_hdf(RESPONSE).loc[X.index].values.ravel()\n",
    "    X = X.values\n",
    "    # Feature Selection\n",
    "    print(\"Selecting Train Features...\")\n",
    "    clf = XGBClassifier(base_score=0.005)\n",
    "    clf.fit(X, y)\n",
    "    tmp = [(clf.feature_importances_[i], columns[i])\n",
    "           for i in range(len(columns))]\n",
    "    tmp = sorted(tmp, reverse=True)\n",
    "    important_columns = [c[1] for c in tmp if c[0] > 0.005]\n",
    "    print(tmp[:20])\n",
    "    # Reload Train Data\n",
    "    print(\"Reloading Train Data...\")\n",
    "    X = pd.concat(\n",
    "        (drop_columns(\n",
    "            pd.read_hdf(filename).loc[train_indices], important_columns)\n",
    "         for filename in train_file_list),\n",
    "        axis=1)\n",
    "    y = pd.read_hdf(RESPONSE)\n",
    "    y = y.loc[X.index].values.ravel()\n",
    "    X = X.values\n",
    "    # 予測して Cross Validation\n",
    "    print(\"Predicting...\")\n",
    "    clf = XGBClassifier(max_depth=5, base_score=0.005)\n",
    "    cv = StratifiedKFold(y, n_folds=3)\n",
    "    predictions = np.ones(y.shape[0])\n",
    "    for i, (train, test) in enumerate(cv):\n",
    "        predictions[test] = clf.fit(X[train],\n",
    "                                    y[train]).predict_proba(X[test])[:, 1]\n",
    "        print(\"fold {}, ROC AUC: {:.3f}\".format(i, roc_auc_score(y[\n",
    "            test], predictions[test])))\n",
    "    print(roc_auc_score(y, predictions))\n",
    "    # MCC 最適化\n",
    "    thresholds = np.linspace(0.01, 0.99, 200)\n",
    "    mcc = np.array(\n",
    "        [matthews_corrcoef(y, predictions > thr) for thr in thresholds])\n",
    "    plt.plot(thresholds, mcc)\n",
    "    best_threshold = thresholds[mcc.argmax()]\n",
    "    print(mcc.max())\n",
    "    return important_columns, clf, best_threshold\n",
    "\n",
    "def drop_columns(df, undrop_columns):\n",
    "    drop_columns = [c for c in df.columns if c not in undrop_columns]\n",
    "    df.drop(drop_columns, axis=1, inplace=True)\n",
    "    return df\n",
    "\n",
    "def predict(important_columns, test_indices, clf, best_threshold,\n",
    "            train_file_list):\n",
    "    test_file_list = []\n",
    "    for file in train_file_list:\n",
    "        test_file_list.append(file.replace(\"train\", \"test\"))\n",
    "    # テストデータ読み込み\n",
    "    print(\"Loading Test Data...\")\n",
    "    X = pd.concat(\n",
    "        (drop_columns(\n",
    "            pd.read_hdf(filename).loc[test_indices], important_columns)\n",
    "         for filename in test_file_list),\n",
    "        axis=1)\n",
    "    X = X.values\n",
    "    # 0 or 1 に正規化\n",
    "    predictions = (clf.predict_proba(X)[:, 1] > best_threshold).astype(np.int8)\n",
    "    # 提出データを生成\n",
    "    sub = pd.DataFrame(index=test_indices.astype(np.int32), columns=[])\n",
    "    sub[\"Response\"] = predictions\n",
    "    return sub"
   ]
  },
  {
   "cell_type": "code",
   "execution_count": 7,
   "metadata": {
    "collapsed": false
   },
   "outputs": [
    {
     "name": "stdout",
     "output_type": "stream",
     "text": [
      "Loading Test Data...\n"
     ]
    }
   ],
   "source": [
    "train_index = pd.read_hdf(RESPONSE).sample(n=1000000).index\n",
    "important_columns, clf, best_threshold = xgboost_bosch(train_index, T_FILES)\n",
    "test_index = pd.read_hdf(\"../hdf/test_date_min_max.hdf\").index\n",
    "sub = predict(important_columns, test_index, clf, best_threshold, T_FILES)"
   ]
  },
  {
   "cell_type": "code",
   "execution_count": 8,
   "metadata": {
    "collapsed": true
   },
   "outputs": [],
   "source": [
    "sub.to_csv(\"submission.csv.gz\", compression=\"gzip\")"
   ]
  },
  {
   "cell_type": "markdown",
   "metadata": {},
   "source": [
    "分割版"
   ]
  },
  {
   "cell_type": "code",
   "execution_count": 4,
   "metadata": {
    "collapsed": true
   },
   "outputs": [],
   "source": [
    "def split_indices(train_df, test_df):\n",
    "    train_index_list = []\n",
    "    test_index_list = []\n",
    "\n",
    "    md5_sum_S24_C_md5 = train_df.loc[[137]][\"S24_C_md5\"].values[0]\n",
    "    train = train_df[train_df[\"S24_C_md5\"] == md5_sum_S24_C_md5].index\n",
    "    train_index_list.append(train)\n",
    "    train_df.drop(train, inplace=True)\n",
    "    test = test_df[test_df[\"S24_C_md5\"] == md5_sum_S24_C_md5].index\n",
    "    test_index_list.append(test)\n",
    "    test_df.drop(test, inplace=True)\n",
    "\n",
    "    md5_sum_S24_C_md5 = train_df.loc[[16]][\"S24_C_md5\"].values[0]\n",
    "    train = train_df[train_df[\"S24_C_md5\"] == md5_sum_S24_C_md5].index\n",
    "    train_index_list.append(train)\n",
    "    train_df.drop(train, inplace=True)\n",
    "    test = test_df[test_df[\"S24_C_md5\"] == md5_sum_S24_C_md5].index\n",
    "    test_index_list.append(test)\n",
    "    test_df.drop(test, inplace=True)\n",
    "\n",
    "    train_index_list.append(train_df.index)\n",
    "    test_index_list.append(test_df.index)\n",
    "    return train_index_list, test_index_list"
   ]
  },
  {
   "cell_type": "code",
   "execution_count": 5,
   "metadata": {
    "collapsed": false
   },
   "outputs": [
    {
     "data": {
      "text/plain": [
       "([Float64Index([    137.0,     232.0,     244.0,     335.0,     343.0,     379.0,\n",
       "                    383.0,     389.0,     400.0,     496.0,\n",
       "                ...\n",
       "                2367157.0, 2367195.0, 2367214.0, 2367298.0, 2367384.0, 2367408.0,\n",
       "                2367409.0, 2367439.0, 2367443.0, 2367471.0],\n",
       "               dtype='float64', name='Id', length=59709),\n",
       "  Float64Index([     16.0,      84.0,     107.0,     162.0,     166.0,     292.0,\n",
       "                    303.0,     304.0,     314.0,     425.0,\n",
       "                ...\n",
       "                2367256.0, 2367261.0, 2367345.0, 2367363.0, 2367371.0, 2367372.0,\n",
       "                2367406.0, 2367461.0, 2367464.0, 2367488.0],\n",
       "               dtype='float64', name='Id', length=59612),\n",
       "  Float64Index([      4.0,       6.0,       7.0,       9.0,      11.0,      13.0,\n",
       "                     14.0,      18.0,      23.0,      26.0,\n",
       "                ...\n",
       "                2367476.0, 2367478.0, 2367480.0, 2367484.0, 2367487.0, 2367490.0,\n",
       "                2367491.0, 2367492.0, 2367493.0, 2367495.0],\n",
       "               dtype='float64', name='Id', length=1064426)],\n",
       " [Float64Index([    108.0,     144.0,     164.0,     193.0,     212.0,     238.0,\n",
       "                    356.0,     426.0,     453.0,     465.0,\n",
       "                ...\n",
       "                2366873.0, 2366923.0, 2366946.0, 2366993.0, 2367106.0, 2367118.0,\n",
       "                2367175.0, 2367364.0, 2367373.0, 2367447.0],\n",
       "               dtype='float64', name='Id', length=59169),\n",
       "  Float64Index([      1.0,      39.0,      67.0,     151.0,     189.0,     220.0,\n",
       "                    227.0,     340.0,     369.0,     375.0,\n",
       "                ...\n",
       "                2367181.0, 2367185.0, 2367215.0, 2367300.0, 2367317.0, 2367336.0,\n",
       "                2367349.0, 2367377.0, 2367413.0, 2367453.0],\n",
       "               dtype='float64', name='Id', length=59130),\n",
       "  Float64Index([      2.0,       3.0,       5.0,       8.0,      10.0,      12.0,\n",
       "                     15.0,      17.0,      19.0,      20.0,\n",
       "                ...\n",
       "                2367475.0, 2367477.0, 2367479.0, 2367481.0, 2367482.0, 2367483.0,\n",
       "                2367485.0, 2367486.0, 2367489.0, 2367494.0],\n",
       "               dtype='float64', name='Id', length=1065449)])"
      ]
     },
     "execution_count": 5,
     "metadata": {},
     "output_type": "execute_result"
    }
   ],
   "source": [
    "pre = [\"../hdf/train_S_C_md5.hdf\", \"../hdf/train_mask.hdf\"]\n",
    "tr = pd.concat((pd.read_hdf(filename) for filename in pre), axis=1)\n",
    "te = pd.concat((pd.read_hdf(f.replace(\"train\", \"test\")) for f in pre), axis=1)\n",
    "train_index_list, test_index_list = split_indices(tr, te)\n",
    "train_index_list, test_index_list"
   ]
  },
  {
   "cell_type": "code",
   "execution_count": 13,
   "metadata": {
    "collapsed": false
   },
   "outputs": [
    {
     "name": "stdout",
     "output_type": "stream",
     "text": [
      "Loading Train Data...\n",
      "Selecting Train Features...\n",
      "[(0.077294685, 'magic4'), (0.028985508, 'L3_S33_F3857'), (0.025764896, 'L3_S32_F3854'), (0.020933978, 'L3_S38_F3960'), (0.020933978, 'L3_S30_F3809'), (0.020933978, 'L2_S27_F3199'), (0.019323671, 'L1_S24_F1808'), (0.019323671, 'L1_S24_F1667'), (0.017713366, 'L3_S30_F3574'), (0.017713366, 'L2_S26_F3106'), (0.016103059, 'min'), (0.016103059, 'magic3'), (0.016103059, 'L3_S30_F3749'), (0.016103059, 'L1_S24_F1632'), (0.016103059, 'L1_S24_F1516'), (0.012882448, 'L3_S30_F3684'), (0.012882448, 'L2_S26_F3121'), (0.012882448, 'L1_S24_F1581'), (0.012882448, 'L1_S24_F1518'), (0.011272142, 'L3_S33_F3859')]\n",
      "Reloading Train Data...\n",
      "Predicting...\n",
      "fold 0, ROC AUC: 0.867\n",
      "fold 1, ROC AUC: 0.905\n",
      "fold 2, ROC AUC: 0.879\n",
      "0.767470374876\n",
      "0.325144624965\n",
      "Loading Test Data...\n",
      "Loading Train Data...\n",
      "Selecting Train Features...\n",
      "[(0.071999997, 'magic4'), (0.025599999, 'L1_S24_F1846'), (0.024, 'L3_S38_D3953_normalized'), (0.022399999, 'L3_S33_F3859'), (0.0208, 'L1_S24_F1723'), (0.019200001, 'max'), (0.019200001, 'magic3'), (0.019200001, 'L3_S33_F3865'), (0.019200001, 'L3_S30_F3829'), (0.0176, 'L1_S24_F1695'), (0.0176, 'L1_S24_F1578'), (0.016000001, 'L3_S30_F3764'), (0.016000001, 'L2_S26_F3073'), (0.016000001, 'L1_S24_F1743'), (0.016000001, 'L1_S24_F1516'), (0.0144, 'L3_S30_F3769'), (0.0144, 'L3_S30_F3544'), (0.0144, 'L1_S24_F1758'), (0.0128, 'L3_S36_F3920'), (0.0128, 'L3_S33_F3857')]\n",
      "Reloading Train Data...\n",
      "Predicting...\n",
      "fold 0, ROC AUC: 0.935\n",
      "fold 1, ROC AUC: 0.922\n",
      "fold 2, ROC AUC: 0.906\n",
      "0.920232702472\n",
      "0.605798485698\n",
      "Loading Test Data...\n",
      "Loading Train Data...\n",
      "Selecting Train Features...\n",
      "[(0.099071205, 'magic4'), (0.068111457, 'L3_S32_F3854'), (0.03869969, 'L0_min'), (0.03250774, 'magic3'), (0.023219815, 'L3_S30_F3704'), (0.020123839, 'L1_S24_F1498'), (0.018575851, 'L3_S29_F3351'), (0.015479876, 'min_max'), (0.015479876, 'L3_min_max'), (0.015479876, 'L3_S29_F3407'), (0.015479876, 'L2_min'), (0.013931888, 'L3_S33_F3865'), (0.013931888, 'L3_S30_F3829'), (0.013931888, 'L1_S24_F867'), (0.012383901, 'min'), (0.012383901, 'max'), (0.012383901, 'L3_S33_D3856_normalized'), (0.012383901, 'L0_S11_F322'), (0.010835913, 'L3_min'), (0.010835913, 'L3_S33_F3857')]\n",
      "Reloading Train Data...\n",
      "Predicting...\n",
      "fold 0, ROC AUC: 0.899\n",
      "fold 1, ROC AUC: 0.901\n",
      "fold 2, ROC AUC: 0.893\n",
      "0.897751136741\n",
      "0.342202896868\n",
      "Loading Test Data...\n"
     ]
    },
    {
     "data": {
      "image/png": "[encoded data removed]",
      "text/plain": [
       "<matplotlib.figure.Figure at 0x7f3a5b1c3f98>"
      ]
     },
     "metadata": {},
     "output_type": "display_data"
    }
   ],
   "source": [
    "subs = []\n",
    "for i in range(len(train_index_list)):\n",
    "    important_columns, clf, best_threshold = xgboost_bosch(train_index_list[i], T_FILES)\n",
    "    sub = predict(important_columns, test_index_list[i], clf, best_threshold, T_FILES)\n",
    "    subs.append(sub)"
   ]
  },
  {
   "cell_type": "code",
   "execution_count": 14,
   "metadata": {
    "collapsed": true
   },
   "outputs": [],
   "source": [
    "pd.concat(subs).to_csv(\"submission.csv.gz\", compression=\"gzip\")"
   ]
  },
  {
   "cell_type": "code",
   "execution_count": 6,
   "metadata": {
    "collapsed": false
   },
   "outputs": [
    {
     "name": "stdout",
     "output_type": "stream",
     "text": [
      "Loading Train Data...\n",
      "Selecting Train Features...\n",
      "[(0.33404711, 'S12_C_md5'), (0.10706638, 'magic4'), (0.072805136, 'L3_S32_F3854'), (0.029978586, 'L3_S29_F3351'), (0.025695931, 'L0_min'), (0.023554605, 'L3_S30_F3704'), (0.021413276, 'magic3'), (0.017130621, 'L3_S29_F3407'), (0.012847966, 'L2_min'), (0.012847966, 'L1_S24_F867'), (0.012847966, 'L1_S24_F1498'), (0.010706638, 'min_max'), (0.010706638, 'min'), (0.010706638, 'L3_S33_F3859'), (0.0085653104, 'L3_S33_F3865'), (0.0085653104, 'L3_S33_F3857'), (0.0085653104, 'L3_S33_D3856_normalized'), (0.0085653104, 'L3_S32_D3852_normalized'), (0.0085653104, 'L2_S26_F3106'), (0.0085653104, 'L1_S24_F1632')]\n",
      "Reloading Train Data...\n",
      "Predicting...\n",
      "fold 0, ROC AUC: 0.895\n",
      "fold 1, ROC AUC: 0.900\n",
      "fold 2, ROC AUC: 0.890\n",
      "0.893940066746\n",
      "0.329184241527\n"
     ]
    },
    {
     "name": "stderr",
     "output_type": "stream",
     "text": [
      "/usr/local/lib/python3.5/dist-packages/sklearn/metrics/classification.py:516: RuntimeWarning: invalid value encountered in double_scalars\n",
      "  mcc = cov_ytyp / np.sqrt(var_yt * var_yp)\n"
     ]
    },
    {
     "data": {
      "text/plain": [
       "(['S12_C_md5',\n",
       "  'magic4',\n",
       "  'L3_S32_F3854',\n",
       "  'L3_S29_F3351',\n",
       "  'L0_min',\n",
       "  'L3_S30_F3704',\n",
       "  'magic3',\n",
       "  'L3_S29_F3407',\n",
       "  'L2_min',\n",
       "  'L1_S24_F867',\n",
       "  'L1_S24_F1498',\n",
       "  'min_max',\n",
       "  'min',\n",
       "  'L3_S33_F3859',\n",
       "  'L3_S33_F3865',\n",
       "  'L3_S33_F3857',\n",
       "  'L3_S33_D3856_normalized',\n",
       "  'L3_S32_D3852_normalized',\n",
       "  'L2_S26_F3106',\n",
       "  'L1_S24_F1632',\n",
       "  'L0_max',\n",
       "  'L0_S4_F104',\n",
       "  'L3_S33_F3855',\n",
       "  'L3_S32_F3854_2',\n",
       "  'L3_S30_F3744',\n",
       "  'L2_S27_F3166',\n",
       "  'L1_S24_F1723',\n",
       "  'L0_S13_F354',\n",
       "  'L0_S0_F6'],\n",
       " XGBClassifier(base_score=0.005, colsample_bylevel=1, colsample_bytree=1,\n",
       "        gamma=0, learning_rate=0.1, max_delta_step=0, max_depth=5,\n",
       "        min_child_weight=1, missing=None, n_estimators=100, nthread=-1,\n",
       "        objective='binary:logistic', reg_alpha=0, reg_lambda=1,\n",
       "        scale_pos_weight=1, seed=0, silent=True, subsample=1),\n",
       " 0.2513065326633166)"
      ]
     },
     "execution_count": 6,
     "metadata": {},
     "output_type": "execute_result"
    },
    {
     "data": {
      "image/png": "[encoded data removed]",
      "text/plain": [
       "<matplotlib.figure.Figure at 0x7f3ff6bee780>"
      ]
     },
     "metadata": {},
     "output_type": "display_data"
    }
   ],
   "source": [
    "xgboost_bosch(\n",
    "    pd.DataFrame(\n",
    "        index=train_index_list[2], columns=[]).sample(n=600000).index,\n",
    "    T_FILES)"
   ]
  },
  {
   "cell_type": "code",
   "execution_count": null,
   "metadata": {
    "collapsed": true
   },
   "outputs": [],
   "source": []
  }
 ],
 "metadata": {
  "kernelspec": {
   "display_name": "Python 3",
   "language": "python",
   "name": "python3"
  },
  "language_info": {
   "codemirror_mode": {
    "name": "ipython",
    "version": 3
   },
   "file_extension": ".py",
   "mimetype": "text/x-python",
   "name": "python",
   "nbconvert_exporter": "python",
   "pygments_lexer": "ipython3",
   "version": "3.5.2"
  }
 },
 "nbformat": 4,
 "nbformat_minor": 1
}
