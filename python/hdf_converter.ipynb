{
 "cells": [
  {
   "cell_type": "code",
   "execution_count": 1,
   "metadata": {
    "collapsed": true
   },
   "outputs": [],
   "source": [
    "import pandas as pd"
   ]
  },
  {
   "cell_type": "code",
   "execution_count": 4,
   "metadata": {
    "collapsed": false
   },
   "outputs": [
    {
     "name": "stdout",
     "output_type": "stream",
     "text": [
      "../data/test_numeric.csv.gz\n",
      "test_numeric\n",
      "../hdf/test_numeric.hdf\n",
      "CPU times: user 2min 15s, sys: 1min 37s, total: 3min 53s\n",
      "Wall time: 5min 13s\n"
     ]
    }
   ],
   "source": [
    "%%time\n",
    "filename = \"../data/test_numeric.csv.gz\"\n",
    "print(filename)\n",
    "\n",
    "df = pd.read_csv(filename, index_col=0)\n",
    "key = filename.replace(\".csv.gz\", \"\").replace(\"../data/\", \"\")\n",
    "filename = \"../hdf/\" + key + \".hdf\"\n",
    "print(key)\n",
    "\n",
    "df.to_hdf(filename, key)\n",
    "print(filename)"
   ]
  },
  {
   "cell_type": "code",
   "execution_count": null,
   "metadata": {
    "collapsed": true
   },
   "outputs": [],
   "source": []
  }
 ],
 "metadata": {
  "kernelspec": {
   "display_name": "Python 3",
   "language": "python",
   "name": "python3"
  },
  "language_info": {
   "codemirror_mode": {
    "name": "ipython",
    "version": 3
   },
   "file_extension": ".py",
   "mimetype": "text/x-python",
   "name": "python",
   "nbconvert_exporter": "python",
   "pygments_lexer": "ipython3",
   "version": "3.5.2"
  }
 },
 "nbformat": 4,
 "nbformat_minor": 1
}
