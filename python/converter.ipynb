{
 "cells": [
  {
   "cell_type": "code",
   "execution_count": 1,
   "metadata": {
    "collapsed": true
   },
   "outputs": [],
   "source": [
    "import pandas as pd\n",
    "import numpy as np"
   ]
  },
  {
   "cell_type": "code",
   "execution_count": 6,
   "metadata": {
    "collapsed": false
   },
   "outputs": [
    {
     "name": "stdout",
     "output_type": "stream",
     "text": [
      "train_categorical\n",
      "CPU times: user 35.5 s, sys: 2.07 s, total: 37.6 s\n",
      "Wall time: 51.5 s\n"
     ]
    }
   ],
   "source": [
    "%%time\n",
    "#categorical\n",
    "f = \"../data/train_categorical.csv\"\n",
    "columns = pd.read_csv(\"../output/reduced_categorical_columns.csv\", index_col=0).columns\n",
    "columns = np.concatenate([[\"Id\"], columns])\n",
    "df = pd.read_csv(f, index_col=0, dtype=np.float32, usecols=columns)\n",
    "key = f.replace(\"../data/\", \"\").replace(\".csv\", \"\")\n",
    "df.to_hdf(\"../hdf/\" + key + \".hdf\", key)\n",
    "print(key)"
   ]
  },
  {
   "cell_type": "code",
   "execution_count": 3,
   "metadata": {
    "collapsed": false
   },
   "outputs": [
    {
     "name": "stdout",
     "output_type": "stream",
     "text": [
      "test_date\n",
      "CPU times: user 29.3 s, sys: 1.7 s, total: 31 s\n",
      "Wall time: 52.4 s\n"
     ]
    }
   ],
   "source": [
    "%%time\n",
    "#date\n",
    "f = \"../data/test_date.csv\"\n",
    "columns = pd.read_csv(\"../output/reduced_date_columns.csv\", index_col=0).columns\n",
    "columns = np.concatenate([[\"Id\"], columns])\n",
    "df = pd.read_csv(f, index_col=0, dtype=np.float32, usecols=columns)\n",
    "key = f.replace(\"../data/\", \"\").replace(\".csv\", \"\")\n",
    "df.to_hdf(\"../hdf/\" + key + \".hdf\", key)\n",
    "print(key)"
   ]
  },
  {
   "cell_type": "code",
   "execution_count": null,
   "metadata": {
    "collapsed": false
   },
   "outputs": [],
   "source": [
    "train.to_hdf(\"../hdf/train_numeric.hdf\", \"train_numeric\")"
   ]
  },
  {
   "cell_type": "code",
   "execution_count": null,
   "metadata": {
    "collapsed": false
   },
   "outputs": [],
   "source": [
    "train.drop(\"Response\", axis=1, inplace=True)"
   ]
  },
  {
   "cell_type": "code",
   "execution_count": null,
   "metadata": {
    "collapsed": true
   },
   "outputs": [],
   "source": [
    "train = train[[\"Response\"]]"
   ]
  },
  {
   "cell_type": "code",
   "execution_count": null,
   "metadata": {
    "collapsed": false
   },
   "outputs": [],
   "source": [
    "train.to_hdf(\"../hdf/train_response.hdf\", \"train_response\")"
   ]
  },
  {
   "cell_type": "code",
   "execution_count": 4,
   "metadata": {
    "collapsed": false
   },
   "outputs": [],
   "source": [
    "df = pd.read_csv(\"../data/test_numeric.csv\", index_col=0, dtype=np.float32)"
   ]
  },
  {
   "cell_type": "code",
   "execution_count": 5,
   "metadata": {
    "collapsed": true
   },
   "outputs": [],
   "source": [
    "df.to_hdf(\"../hdf/test_numeric.hdf\", \"test_numeric\")"
   ]
  },
  {
   "cell_type": "code",
   "execution_count": null,
   "metadata": {
    "collapsed": true
   },
   "outputs": [],
   "source": []
  }
 ],
 "metadata": {
  "kernelspec": {
   "display_name": "Python 3",
   "language": "python",
   "name": "python3"
  },
  "language_info": {
   "codemirror_mode": {
    "name": "ipython",
    "version": 3
   },
   "file_extension": ".py",
   "mimetype": "text/x-python",
   "name": "python",
   "nbconvert_exporter": "python",
   "pygments_lexer": "ipython3",
   "version": "3.5.2"
  }
 },
 "nbformat": 4,
 "nbformat_minor": 1
}
