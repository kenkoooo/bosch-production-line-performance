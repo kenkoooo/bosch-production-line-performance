{
 "cells": [
  {
   "cell_type": "code",
   "execution_count": 6,
   "metadata": {
    "collapsed": true
   },
   "outputs": [],
   "source": [
    "import pandas as pd\n",
    "import numpy as np\n",
    "import time"
   ]
  },
  {
   "cell_type": "code",
   "execution_count": null,
   "metadata": {
    "collapsed": false
   },
   "outputs": [],
   "source": [
    "%%time\n",
    "#categorical\n",
    "f = \"../data/train_categorical.csv\"\n",
    "columns = pd.read_csv(\"../output/reduced_categorical_columns.csv\", index_col=0).columns\n",
    "columns = np.concatenate([[\"Id\"], columns])\n",
    "df = pd.read_csv(f, index_col=0, dtype=np.float32, usecols=columns)\n",
    "key = f.replace(\"../data/\", \"\").replace(\".csv\", \"\")\n",
    "df.to_hdf(\"../hdf/\" + key + \".hdf\", key)\n",
    "print(key)"
   ]
  },
  {
   "cell_type": "code",
   "execution_count": null,
   "metadata": {
    "collapsed": false
   },
   "outputs": [],
   "source": [
    "%%time\n",
    "#date\n",
    "f = \"../data/test_date.csv\"\n",
    "columns = pd.read_csv(\"../output/reduced_date_columns.csv\", index_col=0).columns\n",
    "columns = np.concatenate([[\"Id\"], columns])\n",
    "df = pd.read_csv(f, index_col=0, dtype=np.float32, usecols=columns)\n",
    "key = f.replace(\"../data/\", \"\").replace(\".csv\", \"\")\n",
    "df.to_hdf(\"../hdf/\" + key + \".hdf\", key)\n",
    "print(key)"
   ]
  },
  {
   "cell_type": "code",
   "execution_count": null,
   "metadata": {
    "collapsed": false
   },
   "outputs": [],
   "source": [
    "train.to_hdf(\"../hdf/train_numeric.hdf\", \"train_numeric\")"
   ]
  },
  {
   "cell_type": "code",
   "execution_count": null,
   "metadata": {
    "collapsed": false
   },
   "outputs": [],
   "source": [
    "train.drop(\"Response\", axis=1, inplace=True)"
   ]
  },
  {
   "cell_type": "code",
   "execution_count": null,
   "metadata": {
    "collapsed": true
   },
   "outputs": [],
   "source": [
    "train = train[[\"Response\"]]"
   ]
  },
  {
   "cell_type": "code",
   "execution_count": null,
   "metadata": {
    "collapsed": false
   },
   "outputs": [],
   "source": [
    "train.to_hdf(\"../hdf/train_response.hdf\", \"train_response\")"
   ]
  },
  {
   "cell_type": "code",
   "execution_count": null,
   "metadata": {
    "collapsed": false
   },
   "outputs": [],
   "source": [
    "df = pd.read_csv(\"../data/test_numeric.csv\", index_col=0, dtype=np.float32)"
   ]
  },
  {
   "cell_type": "code",
   "execution_count": null,
   "metadata": {
    "collapsed": true
   },
   "outputs": [],
   "source": [
    "df.to_hdf(\"../hdf/test_numeric.hdf\", \"test_numeric\", mode='w')"
   ]
  },
  {
   "cell_type": "code",
   "execution_count": 2,
   "metadata": {
    "collapsed": true
   },
   "outputs": [],
   "source": [
    "categorical = pd.read_csv(\"../data/train_categorical.csv\", index_col=0, dtype=np.float32, chunksize=1)\n",
    "for chunk in categorical:\n",
    "    columns = chunk.columns\n",
    "    break"
   ]
  },
  {
   "cell_type": "code",
   "execution_count": 3,
   "metadata": {
    "collapsed": false
   },
   "outputs": [
    {
     "data": {
      "text/plain": [
       "Index(['L0_S1_F25', 'L0_S1_F27', 'L0_S1_F29', 'L0_S1_F31', 'L0_S2_F33',\n",
       "       'L0_S2_F35', 'L0_S2_F37', 'L0_S2_F39', 'L0_S2_F41', 'L0_S2_F43',\n",
       "       ...\n",
       "       'L3_S49_F4225', 'L3_S49_F4227', 'L3_S49_F4229', 'L3_S49_F4230',\n",
       "       'L3_S49_F4232', 'L3_S49_F4234', 'L3_S49_F4235', 'L3_S49_F4237',\n",
       "       'L3_S49_F4239', 'L3_S49_F4240'],\n",
       "      dtype='object', length=2140)"
      ]
     },
     "execution_count": 3,
     "metadata": {},
     "output_type": "execute_result"
    }
   ],
   "source": [
    "columns"
   ]
  },
  {
   "cell_type": "code",
   "execution_count": 3,
   "metadata": {
    "collapsed": false
   },
   "outputs": [],
   "source": [
    "L = [\"L0\", \"L1\", \"L2\", \"L3\"]\n",
    "columns_L =[]\n",
    "for l in L:\n",
    "    c = [x for x in columns if l in x]\n",
    "    columns_L.append(np.concatenate([[\"Id\"], c]))"
   ]
  },
  {
   "cell_type": "code",
   "execution_count": 8,
   "metadata": {
    "collapsed": false
   },
   "outputs": [
    {
     "name": "stdout",
     "output_type": "stream",
     "text": [
      "L0\n",
      "54.30143475532532\n",
      "2.1031177043914795\n",
      "L1\n",
      "104.59400939941406\n",
      "81.27004814147949\n",
      "L2\n",
      "29.60661506652832\n",
      "0.9214725494384766\n",
      "L3\n",
      "46.44178581237793\n",
      "3.252678394317627\n"
     ]
    }
   ],
   "source": [
    "filename = \"../data/test_categorical.csv\"\n",
    "for i in range(4):\n",
    "    print(L[i])\n",
    "    start = time.time()\n",
    "    df = pd.read_csv(\n",
    "        filename, index_col=0, usecols=columns_L[i], dtype=np.float32)\n",
    "    print(time.time() - start)\n",
    "    start = time.time()\n",
    "    df.to_hdf(\n",
    "        \"../hdf/unreduced_test_categorical_\" + L[i] + \".hdf\", \"df\", mode=\"w\")\n",
    "    print(time.time() - start)"
   ]
  },
  {
   "cell_type": "code",
   "execution_count": null,
   "metadata": {
    "collapsed": true
   },
   "outputs": [],
   "source": []
  }
 ],
 "metadata": {
  "kernelspec": {
   "display_name": "Python 3",
   "language": "python",
   "name": "python3"
  },
  "language_info": {
   "codemirror_mode": {
    "name": "ipython",
    "version": 3
   },
   "file_extension": ".py",
   "mimetype": "text/x-python",
   "name": "python",
   "nbconvert_exporter": "python",
   "pygments_lexer": "ipython3",
   "version": "3.5.2"
  }
 },
 "nbformat": 4,
 "nbformat_minor": 1
}
