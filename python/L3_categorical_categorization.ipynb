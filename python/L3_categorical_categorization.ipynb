{
 "cells": [
  {
   "cell_type": "markdown",
   "metadata": {},
   "source": [
    "categorical のハッシュを取って製品を分け、陰性の製品の代表をいくつか取ってそれらとの差分をまとめ、そのminを取る"
   ]
  },
  {
   "cell_type": "code",
   "execution_count": 1,
   "metadata": {
    "collapsed": true
   },
   "outputs": [],
   "source": [
    "import pandas as pd\n",
    "import numpy as np\n",
    "import hashlib"
   ]
  },
  {
   "cell_type": "code",
   "execution_count": 2,
   "metadata": {
    "collapsed": true
   },
   "outputs": [],
   "source": [
    "line = \"L3\""
   ]
  },
  {
   "cell_type": "code",
   "execution_count": 3,
   "metadata": {
    "collapsed": true
   },
   "outputs": [],
   "source": [
    "categorical = pd.read_hdf(\"../hdf/train_categorical.hdf\")"
   ]
  },
  {
   "cell_type": "code",
   "execution_count": 4,
   "metadata": {
    "collapsed": true
   },
   "outputs": [],
   "source": [
    "column = [c for c in categorical.columns if line in c]"
   ]
  },
  {
   "cell_type": "code",
   "execution_count": 5,
   "metadata": {
    "collapsed": true
   },
   "outputs": [],
   "source": [
    "categorical = categorical.loc[:, column]"
   ]
  },
  {
   "cell_type": "code",
   "execution_count": 6,
   "metadata": {
    "collapsed": true
   },
   "outputs": [],
   "source": [
    "response = pd.read_hdf(\"../hdf/train_response.hdf\")"
   ]
  },
  {
   "cell_type": "code",
   "execution_count": 7,
   "metadata": {
    "collapsed": true
   },
   "outputs": [],
   "source": [
    "c_name = line + \"_C_md5\"\n",
    "categorical[c_name] = categorical.apply(\n",
    "    lambda x: int(hashlib.md5(x.values).hexdigest(), 16),\n",
    "    axis=1).astype(np.float32)"
   ]
  },
  {
   "cell_type": "code",
   "execution_count": 8,
   "metadata": {
    "collapsed": true
   },
   "outputs": [],
   "source": [
    "categorical = pd.concat([categorical, response], axis=1)"
   ]
  },
  {
   "cell_type": "code",
   "execution_count": 13,
   "metadata": {
    "collapsed": false
   },
   "outputs": [
    {
     "data": {
      "text/plain": [
       "array([  2.25562989e+38,   1.57961962e+38,   2.92848322e+38,\n",
       "         1.14759364e+38,   9.51016326e+37,   2.78900494e+38,\n",
       "         1.13224047e+38,   2.68078571e+38,   7.02657004e+37,\n",
       "         1.96570684e+38,   5.07292879e+37])"
      ]
     },
     "execution_count": 13,
     "metadata": {},
     "output_type": "execute_result"
    }
   ],
   "source": [
    "# 一定数以上存在する hash を集めます\n",
    "threshold = 1000\n",
    "c0 = categorical[categorical[\"Response\"] == 0.0][c_name].value_counts()\n",
    "famous_hashes = c0[c0 > threshold].index.values\n",
    "famous_hashes"
   ]
  },
  {
   "cell_type": "code",
   "execution_count": 14,
   "metadata": {
    "collapsed": false
   },
   "outputs": [
    {
     "data": {
      "text/plain": [
       "[7.0, 4.0, 103.0, 28.0, 616.0, 2410.0, 116.0, 70.0, 2050.0, 3846.0, 146.0]"
      ]
     },
     "execution_count": 14,
     "metadata": {},
     "output_type": "execute_result"
    }
   ],
   "source": [
    "famous_ids = [categorical[categorical[c_name] == hash_num].index.values[0]\n",
    "              for hash_num in famous_hashes]\n",
    "famous_ids"
   ]
  },
  {
   "cell_type": "code",
   "execution_count": 15,
   "metadata": {
    "collapsed": false
   },
   "outputs": [],
   "source": [
    "# 差分計算用 DataFrame\n",
    "calc_L3 = categorical.drop([c_name, \"Response\"], axis=1)\n",
    "diff_L3 = pd.DataFrame(index=calc_L3.index, columns=[])"
   ]
  },
  {
   "cell_type": "code",
   "execution_count": 16,
   "metadata": {
    "collapsed": false
   },
   "outputs": [
    {
     "name": "stdout",
     "output_type": "stream",
     "text": [
      "7.0\n",
      "4.0\n",
      "103.0\n",
      "28.0\n",
      "616.0\n",
      "2410.0\n",
      "116.0\n",
      "70.0\n",
      "2050.0\n",
      "3846.0\n",
      "146.0\n"
     ]
    }
   ],
   "source": [
    "calc_L3.fillna(0.0, inplace=True)\n",
    "for famous_id in famous_ids:\n",
    "    df = calc_L3 - calc_L3.loc[famous_id]\n",
    "    df.where(df == 0.0, 1.0, inplace=True)\n",
    "    key = line + \"_C_diff_\" + str(int(famous_id))\n",
    "    diff_L3[key] = df.T.sum()\n",
    "    print(famous_id)"
   ]
  },
  {
   "cell_type": "code",
   "execution_count": 17,
   "metadata": {
    "collapsed": false
   },
   "outputs": [],
   "source": [
    "diff_L3[line + \"_C_diff_min\"] = diff_L3.T.min()\n",
    "diff_L3[c_name] = categorical[c_name]"
   ]
  },
  {
   "cell_type": "code",
   "execution_count": 19,
   "metadata": {
    "collapsed": false
   },
   "outputs": [],
   "source": [
    "diff_L3.to_hdf(\"../hdf/train_categorical_diff_L3.hdf\", \"df\", mode=\"w\")"
   ]
  },
  {
   "cell_type": "code",
   "execution_count": null,
   "metadata": {
    "collapsed": true
   },
   "outputs": [],
   "source": []
  }
 ],
 "metadata": {
  "kernelspec": {
   "display_name": "Python 3",
   "language": "python",
   "name": "python3"
  },
  "language_info": {
   "codemirror_mode": {
    "name": "ipython",
    "version": 3
   },
   "file_extension": ".py",
   "mimetype": "text/x-python",
   "name": "python",
   "nbconvert_exporter": "python",
   "pygments_lexer": "ipython3",
   "version": "3.5.2"
  }
 },
 "nbformat": 4,
 "nbformat_minor": 1
}
