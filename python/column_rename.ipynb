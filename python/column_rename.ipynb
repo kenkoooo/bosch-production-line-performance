{
 "cells": [
  {
   "cell_type": "code",
   "execution_count": 16,
   "metadata": {
    "collapsed": true
   },
   "outputs": [],
   "source": [
    "import pandas as pd\n",
    "import numpy as np"
   ]
  },
  {
   "cell_type": "code",
   "execution_count": 20,
   "metadata": {
    "collapsed": false
   },
   "outputs": [],
   "source": [
    "L = [\"L0\",\"L1\",\"L2\",\"L3\"]\n",
    "T = \"test\"\n",
    "for l in L:\n",
    "    df = pd.read_hdf(\"../hdf/{type}_date_reduced_{line}_md5.hdf\".format(type=T, line=l))\n",
    "#     df.rename(columns={\"MD5\":l+\"_date_MD5\"}, inplace=True)\n",
    "    df = df.astype(np.float32)\n",
    "    df.to_hdf(\"../hdf/{type}_date_reduced_{line}_md5.hdf\".format(type=T, line=l), \"{type}_date_reduced_{line}_md5\".format(type=T, line=l))"
   ]
  },
  {
   "cell_type": "code",
   "execution_count": 21,
   "metadata": {
    "collapsed": false
   },
   "outputs": [],
   "source": [
    "T = \"train\"\n",
    "df = pd.read_hdf(\"../hdf/{type}_date_reduced_md5.hdf\".format(type=T))\n",
    "# df.rename(columns={\"MD5\":\"date_MD5\"}, inplace=True)\n",
    "df = df.astype(np.float32)\n",
    "df.to_hdf(\"../hdf/{type}_date_reduced_md5.hdf\".format(type=T), \"{type}_date_reduced_md5\".format(type=T))"
   ]
  },
  {
   "cell_type": "code",
   "execution_count": null,
   "metadata": {
    "collapsed": true
   },
   "outputs": [],
   "source": []
  }
 ],
 "metadata": {
  "kernelspec": {
   "display_name": "Python 3",
   "language": "python",
   "name": "python3"
  },
  "language_info": {
   "codemirror_mode": {
    "name": "ipython",
    "version": 3
   },
   "file_extension": ".py",
   "mimetype": "text/x-python",
   "name": "python",
   "nbconvert_exporter": "python",
   "pygments_lexer": "ipython3",
   "version": "3.5.2"
  }
 },
 "nbformat": 4,
 "nbformat_minor": 1
}
