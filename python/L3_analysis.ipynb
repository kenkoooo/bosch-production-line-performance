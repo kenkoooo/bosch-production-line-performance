{
 "cells": [
  {
   "cell_type": "code",
   "execution_count": 8,
   "metadata": {
    "collapsed": true
   },
   "outputs": [],
   "source": [
    "import pandas as pd\n",
    "import numpy as np\n",
    "import re\n",
    "import hashlib"
   ]
  },
  {
   "cell_type": "code",
   "execution_count": null,
   "metadata": {
    "collapsed": true
   },
   "outputs": [],
   "source": [
    "categorical = pd.read_hdf(\"../hdf/unreduced_train_categorical_L3.hdf\")"
   ]
  },
  {
   "cell_type": "code",
   "execution_count": null,
   "metadata": {
    "collapsed": true
   },
   "outputs": [],
   "source": [
    "def L3(df):\n",
    "    c = [x for x in df.columns if \"L3\" in x]\n",
    "    return df.loc[:, c]"
   ]
  },
  {
   "cell_type": "code",
   "execution_count": null,
   "metadata": {
    "collapsed": true
   },
   "outputs": [],
   "source": [
    "date = pd.read_hdf(\"../hdf/unreduced_train_date.hdf\")"
   ]
  },
  {
   "cell_type": "code",
   "execution_count": null,
   "metadata": {
    "collapsed": true
   },
   "outputs": [],
   "source": [
    "numeric = pd.read_hdf(\"../hdf/train_numeric.hdf\")"
   ]
  },
  {
   "cell_type": "code",
   "execution_count": null,
   "metadata": {
    "collapsed": true
   },
   "outputs": [],
   "source": [
    "date = L3(date)\n",
    "numeric = L3(numeric)"
   ]
  },
  {
   "cell_type": "code",
   "execution_count": null,
   "metadata": {
    "collapsed": false,
    "scrolled": true
   },
   "outputs": [],
   "source": [
    "columns = [c.replace(\"F\", \"C\") for c in categorical.columns]"
   ]
  },
  {
   "cell_type": "code",
   "execution_count": null,
   "metadata": {
    "collapsed": false
   },
   "outputs": [],
   "source": [
    "categorical.columns = columns"
   ]
  },
  {
   "cell_type": "code",
   "execution_count": null,
   "metadata": {
    "collapsed": false
   },
   "outputs": [],
   "source": [
    "L3_merged = pd.concat([date, numeric, categorical], axis=1)"
   ]
  },
  {
   "cell_type": "code",
   "execution_count": null,
   "metadata": {
    "collapsed": false
   },
   "outputs": [],
   "source": [
    "L3_merged.to_hdf(\"../hdf/train_unreduced_merged_L3.hdf\", \"df\", mode=\"w\")"
   ]
  },
  {
   "cell_type": "code",
   "execution_count": 2,
   "metadata": {
    "collapsed": true
   },
   "outputs": [],
   "source": [
    "L3 = pd.read_hdf(\"../hdf/train_unreduced_merged_L3.hdf\")"
   ]
  },
  {
   "cell_type": "code",
   "execution_count": 4,
   "metadata": {
    "collapsed": false
   },
   "outputs": [],
   "source": [
    "columns = L3.columns"
   ]
  },
  {
   "cell_type": "code",
   "execution_count": 7,
   "metadata": {
    "collapsed": false
   },
   "outputs": [],
   "source": [
    "columns = [(int(re.sub(\"^L[0-9]_S[0-9]*_[CDF]\", \"\", column)), column)\n",
    "           for column in columns]"
   ]
  },
  {
   "cell_type": "code",
   "execution_count": 9,
   "metadata": {
    "collapsed": false
   },
   "outputs": [],
   "source": [
    "columns = sorted(columns)"
   ]
  },
  {
   "cell_type": "code",
   "execution_count": 11,
   "metadata": {
    "collapsed": false
   },
   "outputs": [],
   "source": [
    "columns = [column[1] for column in columns]"
   ]
  },
  {
   "cell_type": "code",
   "execution_count": 55,
   "metadata": {
    "collapsed": true
   },
   "outputs": [],
   "source": [
    "categorical = pd.read_hdf(\"../hdf/train_categorical.hdf\")"
   ]
  },
  {
   "cell_type": "code",
   "execution_count": 56,
   "metadata": {
    "collapsed": true
   },
   "outputs": [],
   "source": [
    "column = [c for c in categorical.columns if \"L3\" in c]"
   ]
  },
  {
   "cell_type": "code",
   "execution_count": 57,
   "metadata": {
    "collapsed": true
   },
   "outputs": [],
   "source": [
    "categorical = categorical.loc[:, column]"
   ]
  },
  {
   "cell_type": "code",
   "execution_count": 58,
   "metadata": {
    "collapsed": false
   },
   "outputs": [],
   "source": [
    "response = pd.read_hdf(\"../hdf/train_response.hdf\")"
   ]
  },
  {
   "cell_type": "code",
   "execution_count": 60,
   "metadata": {
    "collapsed": false
   },
   "outputs": [],
   "source": [
    "categorical[\"L3_md5\"] = categorical.apply(\n",
    "    lambda x: int(hashlib.md5(x.values).hexdigest(), 16),\n",
    "    axis=1).astype(np.float32)"
   ]
  },
  {
   "cell_type": "code",
   "execution_count": 67,
   "metadata": {
    "collapsed": false
   },
   "outputs": [],
   "source": [
    "categorical = pd.concat([categorical, response], axis=1)"
   ]
  },
  {
   "cell_type": "code",
   "execution_count": 82,
   "metadata": {
    "collapsed": false
   },
   "outputs": [],
   "source": [
    "a1 = pd.DataFrame(categorical[categorical[\"Response\"] == 1.0][\"L3_md5\"]\n",
    "                  .value_counts())\n",
    "a1.rename(columns={\"L3_md5\": \"1\"}, inplace=True)"
   ]
  },
  {
   "cell_type": "code",
   "execution_count": 83,
   "metadata": {
    "collapsed": false
   },
   "outputs": [],
   "source": [
    "a0 = pd.DataFrame(categorical[categorical[\"Response\"] == 0.0][\"L3_md5\"]\n",
    "                  .value_counts())\n",
    "a0.rename(columns={\"L3_md5\": \"0\"}, inplace=True)"
   ]
  },
  {
   "cell_type": "code",
   "execution_count": 84,
   "metadata": {
    "collapsed": false
   },
   "outputs": [],
   "source": [
    "df = pd.concat([a0, a1], axis=1)"
   ]
  },
  {
   "cell_type": "code",
   "execution_count": 92,
   "metadata": {
    "collapsed": true
   },
   "outputs": [],
   "source": [
    "df[\"ratio\"] = df[\"1\"] / (df[\"0\"] + df[\"1\"])"
   ]
  },
  {
   "cell_type": "code",
   "execution_count": 96,
   "metadata": {
    "collapsed": false
   },
   "outputs": [
    {
     "data": {
      "text/html": [
       "<div>\n",
       "<table border=\"1\" class=\"dataframe\">\n",
       "  <thead>\n",
       "    <tr style=\"text-align: right;\">\n",
       "      <th></th>\n",
       "      <th>0</th>\n",
       "      <th>1</th>\n",
       "      <th>ratio</th>\n",
       "    </tr>\n",
       "  </thead>\n",
       "  <tbody>\n",
       "    <tr>\n",
       "      <th>2.575510e+38</th>\n",
       "      <td>316.0</td>\n",
       "      <td>115.0</td>\n",
       "      <td>0.266821</td>\n",
       "    </tr>\n",
       "    <tr>\n",
       "      <th>2.551733e+38</th>\n",
       "      <td>166.0</td>\n",
       "      <td>40.0</td>\n",
       "      <td>0.194175</td>\n",
       "    </tr>\n",
       "    <tr>\n",
       "      <th>1.704167e+38</th>\n",
       "      <td>994.0</td>\n",
       "      <td>203.0</td>\n",
       "      <td>0.169591</td>\n",
       "    </tr>\n",
       "    <tr>\n",
       "      <th>2.789005e+38</th>\n",
       "      <td>2341.0</td>\n",
       "      <td>440.0</td>\n",
       "      <td>0.158216</td>\n",
       "    </tr>\n",
       "    <tr>\n",
       "      <th>2.314874e+38</th>\n",
       "      <td>131.0</td>\n",
       "      <td>24.0</td>\n",
       "      <td>0.154839</td>\n",
       "    </tr>\n",
       "    <tr>\n",
       "      <th>8.292459e+37</th>\n",
       "      <td>154.0</td>\n",
       "      <td>15.0</td>\n",
       "      <td>0.088757</td>\n",
       "    </tr>\n",
       "    <tr>\n",
       "      <th>2.718906e+38</th>\n",
       "      <td>361.0</td>\n",
       "      <td>20.0</td>\n",
       "      <td>0.052493</td>\n",
       "    </tr>\n",
       "    <tr>\n",
       "      <th>1.132240e+38</th>\n",
       "      <td>2174.0</td>\n",
       "      <td>112.0</td>\n",
       "      <td>0.048994</td>\n",
       "    </tr>\n",
       "    <tr>\n",
       "      <th>2.948983e+38</th>\n",
       "      <td>103.0</td>\n",
       "      <td>5.0</td>\n",
       "      <td>0.046296</td>\n",
       "    </tr>\n",
       "    <tr>\n",
       "      <th>5.072929e+37</th>\n",
       "      <td>1070.0</td>\n",
       "      <td>42.0</td>\n",
       "      <td>0.037770</td>\n",
       "    </tr>\n",
       "    <tr>\n",
       "      <th>9.728124e+37</th>\n",
       "      <td>122.0</td>\n",
       "      <td>2.0</td>\n",
       "      <td>0.016129</td>\n",
       "    </tr>\n",
       "    <tr>\n",
       "      <th>3.299071e+38</th>\n",
       "      <td>153.0</td>\n",
       "      <td>2.0</td>\n",
       "      <td>0.012903</td>\n",
       "    </tr>\n",
       "    <tr>\n",
       "      <th>2.354589e+38</th>\n",
       "      <td>251.0</td>\n",
       "      <td>3.0</td>\n",
       "      <td>0.011811</td>\n",
       "    </tr>\n",
       "    <tr>\n",
       "      <th>3.074624e+38</th>\n",
       "      <td>442.0</td>\n",
       "      <td>5.0</td>\n",
       "      <td>0.011186</td>\n",
       "    </tr>\n",
       "    <tr>\n",
       "      <th>1.438336e+37</th>\n",
       "      <td>112.0</td>\n",
       "      <td>1.0</td>\n",
       "      <td>0.008850</td>\n",
       "    </tr>\n",
       "    <tr>\n",
       "      <th>9.510163e+37</th>\n",
       "      <td>2979.0</td>\n",
       "      <td>23.0</td>\n",
       "      <td>0.007662</td>\n",
       "    </tr>\n",
       "    <tr>\n",
       "      <th>6.919807e+37</th>\n",
       "      <td>901.0</td>\n",
       "      <td>6.0</td>\n",
       "      <td>0.006615</td>\n",
       "    </tr>\n",
       "    <tr>\n",
       "      <th>2.680786e+38</th>\n",
       "      <td>2051.0</td>\n",
       "      <td>13.0</td>\n",
       "      <td>0.006298</td>\n",
       "    </tr>\n",
       "    <tr>\n",
       "      <th>1.809459e+37</th>\n",
       "      <td>158.0</td>\n",
       "      <td>1.0</td>\n",
       "      <td>0.006289</td>\n",
       "    </tr>\n",
       "    <tr>\n",
       "      <th>1.965707e+38</th>\n",
       "      <td>1341.0</td>\n",
       "      <td>7.0</td>\n",
       "      <td>0.005193</td>\n",
       "    </tr>\n",
       "    <tr>\n",
       "      <th>1.065116e+38</th>\n",
       "      <td>388.0</td>\n",
       "      <td>2.0</td>\n",
       "      <td>0.005128</td>\n",
       "    </tr>\n",
       "    <tr>\n",
       "      <th>1.579620e+38</th>\n",
       "      <td>329984.0</td>\n",
       "      <td>1678.0</td>\n",
       "      <td>0.005059</td>\n",
       "    </tr>\n",
       "    <tr>\n",
       "      <th>2.255630e+38</th>\n",
       "      <td>733554.0</td>\n",
       "      <td>3658.0</td>\n",
       "      <td>0.004962</td>\n",
       "    </tr>\n",
       "    <tr>\n",
       "      <th>2.928483e+38</th>\n",
       "      <td>57262.0</td>\n",
       "      <td>284.0</td>\n",
       "      <td>0.004935</td>\n",
       "    </tr>\n",
       "    <tr>\n",
       "      <th>2.095815e+37</th>\n",
       "      <td>409.0</td>\n",
       "      <td>2.0</td>\n",
       "      <td>0.004866</td>\n",
       "    </tr>\n",
       "    <tr>\n",
       "      <th>3.951357e+37</th>\n",
       "      <td>909.0</td>\n",
       "      <td>4.0</td>\n",
       "      <td>0.004381</td>\n",
       "    </tr>\n",
       "    <tr>\n",
       "      <th>1.147594e+38</th>\n",
       "      <td>33108.0</td>\n",
       "      <td>141.0</td>\n",
       "      <td>0.004241</td>\n",
       "    </tr>\n",
       "    <tr>\n",
       "      <th>2.760494e+38</th>\n",
       "      <td>243.0</td>\n",
       "      <td>1.0</td>\n",
       "      <td>0.004098</td>\n",
       "    </tr>\n",
       "    <tr>\n",
       "      <th>7.026570e+37</th>\n",
       "      <td>1735.0</td>\n",
       "      <td>7.0</td>\n",
       "      <td>0.004018</td>\n",
       "    </tr>\n",
       "    <tr>\n",
       "      <th>2.593491e+38</th>\n",
       "      <td>820.0</td>\n",
       "      <td>3.0</td>\n",
       "      <td>0.003645</td>\n",
       "    </tr>\n",
       "    <tr>\n",
       "      <th>6.364938e+37</th>\n",
       "      <td>306.0</td>\n",
       "      <td>1.0</td>\n",
       "      <td>0.003257</td>\n",
       "    </tr>\n",
       "    <tr>\n",
       "      <th>6.604225e+37</th>\n",
       "      <td>118.0</td>\n",
       "      <td>NaN</td>\n",
       "      <td>NaN</td>\n",
       "    </tr>\n",
       "    <tr>\n",
       "      <th>1.122635e+38</th>\n",
       "      <td>156.0</td>\n",
       "      <td>NaN</td>\n",
       "      <td>NaN</td>\n",
       "    </tr>\n",
       "    <tr>\n",
       "      <th>2.644784e+38</th>\n",
       "      <td>180.0</td>\n",
       "      <td>NaN</td>\n",
       "      <td>NaN</td>\n",
       "    </tr>\n",
       "    <tr>\n",
       "      <th>3.288507e+38</th>\n",
       "      <td>210.0</td>\n",
       "      <td>NaN</td>\n",
       "      <td>NaN</td>\n",
       "    </tr>\n",
       "    <tr>\n",
       "      <th>3.391710e+38</th>\n",
       "      <td>230.0</td>\n",
       "      <td>NaN</td>\n",
       "      <td>NaN</td>\n",
       "    </tr>\n",
       "  </tbody>\n",
       "</table>\n",
       "</div>"
      ],
      "text/plain": [
       "                     0       1     ratio\n",
       "2.575510e+38     316.0   115.0  0.266821\n",
       "2.551733e+38     166.0    40.0  0.194175\n",
       "1.704167e+38     994.0   203.0  0.169591\n",
       "2.789005e+38    2341.0   440.0  0.158216\n",
       "2.314874e+38     131.0    24.0  0.154839\n",
       "8.292459e+37     154.0    15.0  0.088757\n",
       "2.718906e+38     361.0    20.0  0.052493\n",
       "1.132240e+38    2174.0   112.0  0.048994\n",
       "2.948983e+38     103.0     5.0  0.046296\n",
       "5.072929e+37    1070.0    42.0  0.037770\n",
       "9.728124e+37     122.0     2.0  0.016129\n",
       "3.299071e+38     153.0     2.0  0.012903\n",
       "2.354589e+38     251.0     3.0  0.011811\n",
       "3.074624e+38     442.0     5.0  0.011186\n",
       "1.438336e+37     112.0     1.0  0.008850\n",
       "9.510163e+37    2979.0    23.0  0.007662\n",
       "6.919807e+37     901.0     6.0  0.006615\n",
       "2.680786e+38    2051.0    13.0  0.006298\n",
       "1.809459e+37     158.0     1.0  0.006289\n",
       "1.965707e+38    1341.0     7.0  0.005193\n",
       "1.065116e+38     388.0     2.0  0.005128\n",
       "1.579620e+38  329984.0  1678.0  0.005059\n",
       "2.255630e+38  733554.0  3658.0  0.004962\n",
       "2.928483e+38   57262.0   284.0  0.004935\n",
       "2.095815e+37     409.0     2.0  0.004866\n",
       "3.951357e+37     909.0     4.0  0.004381\n",
       "1.147594e+38   33108.0   141.0  0.004241\n",
       "2.760494e+38     243.0     1.0  0.004098\n",
       "7.026570e+37    1735.0     7.0  0.004018\n",
       "2.593491e+38     820.0     3.0  0.003645\n",
       "6.364938e+37     306.0     1.0  0.003257\n",
       "6.604225e+37     118.0     NaN       NaN\n",
       "1.122635e+38     156.0     NaN       NaN\n",
       "2.644784e+38     180.0     NaN       NaN\n",
       "3.288507e+38     210.0     NaN       NaN\n",
       "3.391710e+38     230.0     NaN       NaN"
      ]
     },
     "execution_count": 96,
     "metadata": {},
     "output_type": "execute_result"
    }
   ],
   "source": [
    "df[df[\"0\"]>100].sort_values([\"ratio\"], ascending=[0])"
   ]
  },
  {
   "cell_type": "code",
   "execution_count": null,
   "metadata": {
    "collapsed": true
   },
   "outputs": [],
   "source": []
  }
 ],
 "metadata": {
  "kernelspec": {
   "display_name": "Python 3",
   "language": "python",
   "name": "python3"
  },
  "language_info": {
   "codemirror_mode": {
    "name": "ipython",
    "version": 3
   },
   "file_extension": ".py",
   "mimetype": "text/x-python",
   "name": "python",
   "nbconvert_exporter": "python",
   "pygments_lexer": "ipython3",
   "version": "3.5.2"
  }
 },
 "nbformat": 4,
 "nbformat_minor": 1
}
