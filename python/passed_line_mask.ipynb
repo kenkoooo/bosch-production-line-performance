{
 "cells": [
  {
   "cell_type": "code",
   "execution_count": 50,
   "metadata": {
    "collapsed": true
   },
   "outputs": [],
   "source": [
    "import pandas as pd\n",
    "import numpy as np"
   ]
  },
  {
   "cell_type": "code",
   "execution_count": 58,
   "metadata": {
    "collapsed": true
   },
   "outputs": [],
   "source": [
    "df = pd.concat(\n",
    "    [\n",
    "        pd.read_hdf(\"../hdf/test_date.hdf\"),\n",
    "        pd.read_hdf(\"../hdf/test_categorical.hdf\"),\n",
    "        pd.read_hdf(\"../hdf/test_numeric.hdf\")\n",
    "    ],\n",
    "    axis=1)"
   ]
  },
  {
   "cell_type": "code",
   "execution_count": 52,
   "metadata": {
    "collapsed": true
   },
   "outputs": [],
   "source": [
    "response = pd.read_hdf(\"../hdf/train_response.hdf\")"
   ]
  },
  {
   "cell_type": "code",
   "execution_count": 59,
   "metadata": {
    "collapsed": false
   },
   "outputs": [],
   "source": [
    "X = pd.DataFrame(index=df.index, columns=[])\n",
    "X[\"L0\"] = pd.DataFrame(df.loc[:, [c for c in df.columns if \"L0\" in c]].T.min())\n",
    "X[\"L1\"] = pd.DataFrame(df.loc[:, [c for c in df.columns if \"L1\" in c]].T.min())\n",
    "X[\"L2\"] = pd.DataFrame(df.loc[:, [c for c in df.columns if \"L2\" in c]].T.min())\n",
    "X[\"L3\"] = pd.DataFrame(df.loc[:, [c for c in df.columns if \"L3\" in c]].T.min())"
   ]
  },
  {
   "cell_type": "code",
   "execution_count": 60,
   "metadata": {
    "collapsed": false
   },
   "outputs": [],
   "source": [
    "X.where(np.isnan(X), 1.0, inplace=True)\n",
    "X.where(~np.isnan(X), 0.0, inplace=True)"
   ]
  },
  {
   "cell_type": "code",
   "execution_count": 61,
   "metadata": {
    "collapsed": false
   },
   "outputs": [],
   "source": [
    "X[\"mask\"] = X[\"L0\"] * 1000 + X[\"L1\"] * 100 + X[\"L2\"] * 10 + X[\"L3\"]"
   ]
  },
  {
   "cell_type": "code",
   "execution_count": 62,
   "metadata": {
    "collapsed": false
   },
   "outputs": [],
   "source": [
    "X.drop([c for c in X.columns if c is not \"mask\"], axis=1, inplace=True)"
   ]
  },
  {
   "cell_type": "code",
   "execution_count": 63,
   "metadata": {
    "collapsed": true
   },
   "outputs": [],
   "source": [
    "X.to_hdf(\"../hdf/test_mask.hdf\", \"df\", mode=\"w\")"
   ]
  },
  {
   "cell_type": "code",
   "execution_count": 39,
   "metadata": {
    "collapsed": false
   },
   "outputs": [],
   "source": [
    "X = pd.concat([X, response], axis=1)"
   ]
  },
  {
   "cell_type": "code",
   "execution_count": 41,
   "metadata": {
    "collapsed": false
   },
   "outputs": [
    {
     "data": {
      "text/plain": [
       "1001.0    4066\n",
       "111.0     1724\n",
       "1011.0     836\n",
       "101.0      195\n",
       "1.0         30\n",
       "1101.0      10\n",
       "1111.0      10\n",
       "11.0         4\n",
       "0.0          2\n",
       "1100.0       1\n",
       "1010.0       1\n",
       "Name: mask, dtype: int64"
      ]
     },
     "execution_count": 41,
     "metadata": {},
     "output_type": "execute_result"
    }
   ],
   "source": [
    "X[X[\"Response\"] == 1.0][\"mask\"].value_counts()"
   ]
  },
  {
   "cell_type": "code",
   "execution_count": 44,
   "metadata": {
    "collapsed": false
   },
   "outputs": [
    {
     "data": {
      "text/plain": [
       "1001.0    796883\n",
       "111.0     240685\n",
       "1011.0    110781\n",
       "101.0      21202\n",
       "1.0         2499\n",
       "1111.0      2183\n",
       "1101.0      1258\n",
       "11.0         792\n",
       "0.0          580\n",
       "110.0          3\n",
       "100.0          2\n",
       "Name: mask, dtype: int64"
      ]
     },
     "execution_count": 44,
     "metadata": {},
     "output_type": "execute_result"
    }
   ],
   "source": [
    "X[X[\"Response\"] == 0.0][\"mask\"].value_counts()"
   ]
  },
  {
   "cell_type": "code",
   "execution_count": 47,
   "metadata": {
    "collapsed": true
   },
   "outputs": [],
   "source": [
    "df = pd.DataFrame(index=X[\"mask\"].value_counts().index, columns=[])\n",
    "df[\"OK\"] = X[X[\"Response\"] == 1.0][\"mask\"].value_counts()\n",
    "df[\"NG\"] = X[X[\"Response\"] == 0.0][\"mask\"].value_counts()"
   ]
  },
  {
   "cell_type": "code",
   "execution_count": 49,
   "metadata": {
    "collapsed": false
   },
   "outputs": [
    {
     "data": {
      "text/plain": [
       "1001.0    0.005076\n",
       "111.0     0.007112\n",
       "1011.0    0.007490\n",
       "101.0     0.009113\n",
       "1.0       0.011862\n",
       "1111.0    0.004560\n",
       "1101.0    0.007886\n",
       "11.0      0.005025\n",
       "0.0       0.003436\n",
       "110.0          NaN\n",
       "100.0          NaN\n",
       "1100.0    1.000000\n",
       "1010.0    1.000000\n",
       "dtype: float64"
      ]
     },
     "execution_count": 49,
     "metadata": {},
     "output_type": "execute_result"
    }
   ],
   "source": [
    "df[\"OK\"] / df.T.sum()"
   ]
  },
  {
   "cell_type": "code",
   "execution_count": null,
   "metadata": {
    "collapsed": true
   },
   "outputs": [],
   "source": []
  }
 ],
 "metadata": {
  "kernelspec": {
   "display_name": "Python 3",
   "language": "python",
   "name": "python3"
  },
  "language_info": {
   "codemirror_mode": {
    "name": "ipython",
    "version": 3
   },
   "file_extension": ".py",
   "mimetype": "text/x-python",
   "name": "python",
   "nbconvert_exporter": "python",
   "pygments_lexer": "ipython3",
   "version": "3.5.2"
  }
 },
 "nbformat": 4,
 "nbformat_minor": 1
}
