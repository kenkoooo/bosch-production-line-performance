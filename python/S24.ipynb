{
 "cells": [
  {
   "cell_type": "code",
   "execution_count": 51,
   "metadata": {
    "collapsed": true
   },
   "outputs": [],
   "source": [
    "import pandas as pd\n",
    "import numpy as np\n",
    "import matplotlib.pyplot as plt\n",
    "import seaborn\n",
    "import hashlib\n",
    "%matplotlib inline"
   ]
  },
  {
   "cell_type": "code",
   "execution_count": 11,
   "metadata": {
    "collapsed": true
   },
   "outputs": [],
   "source": [
    "date = pd.read_hdf(\"../hdf/train_date_L1_normalized.hdf\")\n",
    "c = [x for x in date.columns if \"S24\" in x]\n",
    "date = date.loc[:, c]"
   ]
  },
  {
   "cell_type": "code",
   "execution_count": 12,
   "metadata": {
    "collapsed": false
   },
   "outputs": [],
   "source": [
    "categorical = pd.read_hdf(\"../hdf/train_categorical.hdf\")\n",
    "c = [x for x in categorical.columns if \"S24\" in x]\n",
    "categorical = categorical.loc[:, c]"
   ]
  },
  {
   "cell_type": "code",
   "execution_count": 13,
   "metadata": {
    "collapsed": true
   },
   "outputs": [],
   "source": [
    "numeric = pd.read_hdf(\"../hdf/train_numeric.hdf\")\n",
    "c = [x for x in numeric.columns if \"S24\" in x]\n",
    "numeric = numeric.loc[:, c]"
   ]
  },
  {
   "cell_type": "code",
   "execution_count": 26,
   "metadata": {
    "collapsed": false
   },
   "outputs": [],
   "source": [
    "response = pd.read_hdf(\"../hdf/train_response.hdf\")"
   ]
  },
  {
   "cell_type": "code",
   "execution_count": 47,
   "metadata": {
    "collapsed": true
   },
   "outputs": [],
   "source": [
    "hash_df = pd.DataFrame(index=response.index, columns=[])"
   ]
  },
  {
   "cell_type": "code",
   "execution_count": 50,
   "metadata": {
    "collapsed": true
   },
   "outputs": [],
   "source": [
    "binary_date = date.fillna(-1.0)\n",
    "binary_date.where(binary_date == -1.0, 1.0, inplace=True)\n",
    "binary_date.where(binary_date == 1.0, np.nan, inplace=True)"
   ]
  },
  {
   "cell_type": "code",
   "execution_count": 56,
   "metadata": {
    "collapsed": false
   },
   "outputs": [],
   "source": [
    "hash_df[\"S24_date_md5\"] = binary_date.apply(\n",
    "    lambda x: int(hashlib.md5(x.values).hexdigest(), 16), axis=1)"
   ]
  },
  {
   "cell_type": "code",
   "execution_count": 63,
   "metadata": {
    "collapsed": false
   },
   "outputs": [],
   "source": [
    "hash_df = hash_df.astype(np.float32)\n",
    "hash_df = pd.concat([hash_df, response], axis=1)"
   ]
  },
  {
   "cell_type": "code",
   "execution_count": 67,
   "metadata": {
    "collapsed": false,
    "scrolled": true
   },
   "outputs": [],
   "source": [
    "df = pd.DataFrame(\n",
    "    index=hash_df[hash_df[\"Response\"] ==\n",
    "                  0.0][\"S24_date_md5\"].value_counts().index,\n",
    "    columns=[])\n",
    "df[\"count0\"] = hash_df[hash_df[\"Response\"] ==\n",
    "                       0.0][\"S24_date_md5\"].value_counts()\n",
    "df[\"count1\"] = hash_df[hash_df[\"Response\"] ==\n",
    "                       1.0][\"S24_date_md5\"].value_counts()\n",
    "df[\"count1\"] / df.T.sum()"
   ]
  },
  {
   "cell_type": "code",
   "execution_count": 93,
   "metadata": {
    "collapsed": true
   },
   "outputs": [],
   "source": [
    "categorical = pd.read_hdf(\"../hdf/train_categorical.hdf\")\n",
    "c = [x for x in categorical.columns if \"S24\" in x]\n",
    "categorical = categorical.loc[:, c]"
   ]
  },
  {
   "cell_type": "code",
   "execution_count": 107,
   "metadata": {
    "collapsed": true
   },
   "outputs": [],
   "source": [
    "categorical_hash = pd.DataFrame(index=categorical.index, columns=[])\n",
    "categorical_hash[\"S24_C_md5\"] = categorical.apply(\n",
    "    lambda x: int(hashlib.md5(x.values).hexdigest(), 16), axis=1)\n",
    "categorical_hash = pd.concat([categorical_hash, response], axis=1)\n",
    "categorical_hash = categorical_hash.astype(np.float32)"
   ]
  },
  {
   "cell_type": "code",
   "execution_count": 112,
   "metadata": {
    "collapsed": false,
    "scrolled": true
   },
   "outputs": [],
   "source": [
    "df = pd.DataFrame(columns=[])\n",
    "df[\"count0\"] = categorical_hash[categorical_hash[\"Response\"] ==\n",
    "                                0.0][\"S24_C_md5\"].value_counts()\n",
    "df[\"count1\"] = categorical_hash[categorical_hash[\"Response\"] ==\n",
    "                                1.0][\"S24_C_md5\"].value_counts()\n",
    "df[\"ratio\"] = df[\"count1\"] / df.T.sum()\n",
    "df.sort_values([\"count0\"], ascending=[0])\n",
    "i1 = df.index[1]\n",
    "i2 = df.index[2]"
   ]
  },
  {
   "cell_type": "code",
   "execution_count": 88,
   "metadata": {
    "collapsed": false
   },
   "outputs": [],
   "source": [
    "categorical_hash[[\"S24_C_md5\"]].to_hdf(\n",
    "    \"../hdf/train_S24_C_md5.hdf\", \"df\", mode=\"w\")"
   ]
  },
  {
   "cell_type": "code",
   "execution_count": null,
   "metadata": {
    "collapsed": true
   },
   "outputs": [],
   "source": []
  }
 ],
 "metadata": {
  "kernelspec": {
   "display_name": "Python 3",
   "language": "python",
   "name": "python3"
  },
  "language_info": {
   "codemirror_mode": {
    "name": "ipython",
    "version": 3
   },
   "file_extension": ".py",
   "mimetype": "text/x-python",
   "name": "python",
   "nbconvert_exporter": "python",
   "pygments_lexer": "ipython3",
   "version": "3.5.2"
  }
 },
 "nbformat": 4,
 "nbformat_minor": 1
}
