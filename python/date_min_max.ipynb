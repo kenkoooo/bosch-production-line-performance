{
 "cells": [
  {
   "cell_type": "code",
   "execution_count": 46,
   "metadata": {
    "collapsed": true
   },
   "outputs": [],
   "source": [
    "# ライブラリの皆さん\n",
    "import numpy as np\n",
    "import pandas as pd\n",
    "from xgboost import XGBClassifier\n",
    "from sklearn.metrics import matthews_corrcoef, roc_auc_score\n",
    "from sklearn.cross_validation import cross_val_score, StratifiedKFold\n",
    "import matplotlib.pyplot as plt\n",
    "import time\n",
    "import seaborn as sns\n",
    "from BoschUtils import sampled_data_set, general_df, use_cols_list, entire_data_set\n",
    "%matplotlib inline"
   ]
  },
  {
   "cell_type": "code",
   "execution_count": 106,
   "metadata": {
    "collapsed": true
   },
   "outputs": [],
   "source": [
    "lines = [\"L0\", \"L1\", \"L2\", \"L3\"]\n",
    "filename = \"../hdf/test_date_reduced_{line}.hdf\"\n",
    "for line in lines:\n",
    "    date_line = pd.read_hdf(filename.format(line=line))\n",
    "    frame = pd.DataFrame(index=date_line.index, columns=[])\n",
    "    frame[line+\"_min\"] = date_line.T.min()\n",
    "    frame[line+\"_max\"] = date_line.T.max()\n",
    "    frame[line+\"_min_max\"] = frame[line+\"_max\"] - frame[line+\"_min\"]\n",
    "    frame.to_hdf(\"../hdf/test_date_reduced_{line}_min_max.hdf\".format(line=line), \"test_date_reduced_{line}_min_max\".format(line=line))"
   ]
  },
  {
   "cell_type": "code",
   "execution_count": 109,
   "metadata": {
    "collapsed": true
   },
   "outputs": [],
   "source": [
    "date_line = pd.read_hdf(\"../hdf/test_date_reduced.hdf\")\n",
    "frame = pd.DataFrame(index=date_line.index, columns=[])\n",
    "frame[\"min\"] = date_line.T.min()\n",
    "frame[\"max\"] = date_line.T.max()\n",
    "frame[\"min_max\"] = frame[\"max\"] - frame[\"min\"]\n",
    "frame.to_hdf(\"../hdf/test_date_reduced_min_max.hdf\".format(line=line), \"test_date_reduced_min_max\".format(line=line))"
   ]
  },
  {
   "cell_type": "code",
   "execution_count": null,
   "metadata": {
    "collapsed": true
   },
   "outputs": [],
   "source": []
  }
 ],
 "metadata": {
  "kernelspec": {
   "display_name": "Python 3",
   "language": "python",
   "name": "python3"
  },
  "language_info": {
   "codemirror_mode": {
    "name": "ipython",
    "version": 3
   },
   "file_extension": ".py",
   "mimetype": "text/x-python",
   "name": "python",
   "nbconvert_exporter": "python",
   "pygments_lexer": "ipython3",
   "version": "3.5.2"
  }
 },
 "nbformat": 4,
 "nbformat_minor": 1
}
