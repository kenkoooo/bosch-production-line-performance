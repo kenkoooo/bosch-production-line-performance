{
 "cells": [
  {
   "cell_type": "markdown",
   "metadata": {},
   "source": [
    "L3_S32_F3854 における 1.0 の割合"
   ]
  },
  {
   "cell_type": "code",
   "execution_count": null,
   "metadata": {
    "collapsed": true
   },
   "outputs": [],
   "source": [
    "# ライブラリの皆さん\n",
    "import numpy as np\n",
    "import pandas as pd\n",
    "from xgboost import XGBClassifier\n",
    "from sklearn.metrics import matthews_corrcoef, roc_auc_score\n",
    "from sklearn.cross_validation import cross_val_score, StratifiedKFold\n",
    "import matplotlib.pyplot as plt\n",
    "import time\n",
    "import re\n",
    "import seaborn as sns\n",
    "%matplotlib inline"
   ]
  },
  {
   "cell_type": "code",
   "execution_count": 2,
   "metadata": {
    "collapsed": false
   },
   "outputs": [],
   "source": [
    "def L3(date):\n",
    "    columns = [c for c in date.columns if \"L3\" in c]\n",
    "    date = date.loc[:,columns]\n",
    "    return date"
   ]
  },
  {
   "cell_type": "code",
   "execution_count": 3,
   "metadata": {
    "collapsed": false
   },
   "outputs": [],
   "source": [
    "date = pd.read_hdf(\"../hdf/train_date.hdf\")\n",
    "date = L3(date)"
   ]
  },
  {
   "cell_type": "code",
   "execution_count": 4,
   "metadata": {
    "collapsed": false
   },
   "outputs": [],
   "source": [
    "categorical = pd.read_hdf(\"../hdf/train_categorical.hdf\")\n",
    "categorical = L3(categorical)"
   ]
  },
  {
   "cell_type": "code",
   "execution_count": 5,
   "metadata": {
    "collapsed": false
   },
   "outputs": [],
   "source": [
    "numeric = pd.read_hdf(\"../hdf/train_numeric.hdf\")\n",
    "numeric = L3(numeric)"
   ]
  },
  {
   "cell_type": "code",
   "execution_count": 7,
   "metadata": {
    "collapsed": false
   },
   "outputs": [],
   "source": [
    "response = pd.read_hdf(\"../hdf/train_response.hdf\")"
   ]
  },
  {
   "cell_type": "code",
   "execution_count": 9,
   "metadata": {
    "collapsed": false
   },
   "outputs": [],
   "source": [
    "L3_S32_F3854 = categorical[[\"L3_S32_F3854\"]]"
   ]
  },
  {
   "cell_type": "code",
   "execution_count": 11,
   "metadata": {
    "collapsed": false
   },
   "outputs": [],
   "source": [
    "L3_S32_F3854 = pd.concat([L3_S32_F3854, response], axis=1)"
   ]
  },
  {
   "cell_type": "code",
   "execution_count": 17,
   "metadata": {
    "collapsed": false
   },
   "outputs": [],
   "source": [
    "r1=pd.DataFrame(L3_S32_F3854[L3_S32_F3854[\"Response\"] == 1.0][\"L3_S32_F3854\"].value_counts()).rename(columns={\"L3_S32_F3854\":\"1.0\"})"
   ]
  },
  {
   "cell_type": "code",
   "execution_count": 18,
   "metadata": {
    "collapsed": false
   },
   "outputs": [],
   "source": [
    "r0=pd.DataFrame(L3_S32_F3854[L3_S32_F3854[\"Response\"] == 0.0][\"L3_S32_F3854\"].value_counts()).rename(columns={\"L3_S32_F3854\":\"0.0\"})"
   ]
  },
  {
   "cell_type": "code",
   "execution_count": 20,
   "metadata": {
    "collapsed": false
   },
   "outputs": [],
   "source": [
    "df = pd.concat([r0, r1], axis=1)"
   ]
  },
  {
   "cell_type": "code",
   "execution_count": 21,
   "metadata": {
    "collapsed": true
   },
   "outputs": [],
   "source": [
    "df[\"ratio\"] = df[\"1.0\"] / (df[\"0.0\"] + df[\"1.0\"])"
   ]
  },
  {
   "cell_type": "code",
   "execution_count": 22,
   "metadata": {
    "collapsed": false
   },
   "outputs": [
    {
     "data": {
      "text/html": [
       "<div>\n",
       "<table border=\"1\" class=\"dataframe\">\n",
       "  <thead>\n",
       "    <tr style=\"text-align: right;\">\n",
       "      <th></th>\n",
       "      <th>0.0</th>\n",
       "      <th>1.0</th>\n",
       "      <th>ratio</th>\n",
       "    </tr>\n",
       "  </thead>\n",
       "  <tbody>\n",
       "    <tr>\n",
       "      <th>-2.147484e+09</th>\n",
       "      <td>627</td>\n",
       "      <td>2.0</td>\n",
       "      <td>0.003180</td>\n",
       "    </tr>\n",
       "    <tr>\n",
       "      <th>-2.147483e+09</th>\n",
       "      <td>384</td>\n",
       "      <td>2.0</td>\n",
       "      <td>0.005181</td>\n",
       "    </tr>\n",
       "    <tr>\n",
       "      <th>-2.147483e+09</th>\n",
       "      <td>363</td>\n",
       "      <td>1.0</td>\n",
       "      <td>0.002747</td>\n",
       "    </tr>\n",
       "    <tr>\n",
       "      <th>-2.147482e+09</th>\n",
       "      <td>371</td>\n",
       "      <td>4.0</td>\n",
       "      <td>0.010667</td>\n",
       "    </tr>\n",
       "    <tr>\n",
       "      <th>-2.147482e+09</th>\n",
       "      <td>1</td>\n",
       "      <td>NaN</td>\n",
       "      <td>NaN</td>\n",
       "    </tr>\n",
       "    <tr>\n",
       "      <th>-2.147482e+09</th>\n",
       "      <td>34</td>\n",
       "      <td>NaN</td>\n",
       "      <td>NaN</td>\n",
       "    </tr>\n",
       "    <tr>\n",
       "      <th>-2.147487e+07</th>\n",
       "      <td>115</td>\n",
       "      <td>NaN</td>\n",
       "      <td>NaN</td>\n",
       "    </tr>\n",
       "    <tr>\n",
       "      <th>-2.147482e+07</th>\n",
       "      <td>12</td>\n",
       "      <td>NaN</td>\n",
       "      <td>NaN</td>\n",
       "    </tr>\n",
       "    <tr>\n",
       "      <th>-2.147482e+07</th>\n",
       "      <td>5</td>\n",
       "      <td>NaN</td>\n",
       "      <td>NaN</td>\n",
       "    </tr>\n",
       "    <tr>\n",
       "      <th>1.000000e+00</th>\n",
       "      <td>516</td>\n",
       "      <td>1.0</td>\n",
       "      <td>0.001934</td>\n",
       "    </tr>\n",
       "    <tr>\n",
       "      <th>2.000000e+00</th>\n",
       "      <td>3469</td>\n",
       "      <td>667.0</td>\n",
       "      <td>0.161267</td>\n",
       "    </tr>\n",
       "    <tr>\n",
       "      <th>4.000000e+00</th>\n",
       "      <td>516</td>\n",
       "      <td>156.0</td>\n",
       "      <td>0.232143</td>\n",
       "    </tr>\n",
       "    <tr>\n",
       "      <th>8.000000e+00</th>\n",
       "      <td>2772</td>\n",
       "      <td>15.0</td>\n",
       "      <td>0.005382</td>\n",
       "    </tr>\n",
       "    <tr>\n",
       "      <th>1.600000e+01</th>\n",
       "      <td>3350</td>\n",
       "      <td>159.0</td>\n",
       "      <td>0.045312</td>\n",
       "    </tr>\n",
       "    <tr>\n",
       "      <th>2.400000e+01</th>\n",
       "      <td>2</td>\n",
       "      <td>NaN</td>\n",
       "      <td>NaN</td>\n",
       "    </tr>\n",
       "    <tr>\n",
       "      <th>3.200000e+01</th>\n",
       "      <td>6</td>\n",
       "      <td>NaN</td>\n",
       "      <td>NaN</td>\n",
       "    </tr>\n",
       "    <tr>\n",
       "      <th>4.800000e+01</th>\n",
       "      <td>521</td>\n",
       "      <td>35.0</td>\n",
       "      <td>0.062950</td>\n",
       "    </tr>\n",
       "    <tr>\n",
       "      <th>6.400000e+01</th>\n",
       "      <td>1</td>\n",
       "      <td>NaN</td>\n",
       "      <td>NaN</td>\n",
       "    </tr>\n",
       "    <tr>\n",
       "      <th>1.280000e+02</th>\n",
       "      <td>4497</td>\n",
       "      <td>31.0</td>\n",
       "      <td>0.006846</td>\n",
       "    </tr>\n",
       "    <tr>\n",
       "      <th>2.560000e+02</th>\n",
       "      <td>1243</td>\n",
       "      <td>5.0</td>\n",
       "      <td>0.004006</td>\n",
       "    </tr>\n",
       "    <tr>\n",
       "      <th>4.920000e+02</th>\n",
       "      <td>4</td>\n",
       "      <td>NaN</td>\n",
       "      <td>NaN</td>\n",
       "    </tr>\n",
       "    <tr>\n",
       "      <th>5.120000e+02</th>\n",
       "      <td>1470</td>\n",
       "      <td>9.0</td>\n",
       "      <td>0.006085</td>\n",
       "    </tr>\n",
       "    <tr>\n",
       "      <th>1.152000e+03</th>\n",
       "      <td>103</td>\n",
       "      <td>NaN</td>\n",
       "      <td>NaN</td>\n",
       "    </tr>\n",
       "    <tr>\n",
       "      <th>1.310000e+03</th>\n",
       "      <td>26</td>\n",
       "      <td>NaN</td>\n",
       "      <td>NaN</td>\n",
       "    </tr>\n",
       "    <tr>\n",
       "      <th>1.651200e+04</th>\n",
       "      <td>3</td>\n",
       "      <td>NaN</td>\n",
       "      <td>NaN</td>\n",
       "    </tr>\n",
       "    <tr>\n",
       "      <th>3.289600e+04</th>\n",
       "      <td>37</td>\n",
       "      <td>NaN</td>\n",
       "      <td>NaN</td>\n",
       "    </tr>\n",
       "    <tr>\n",
       "      <th>3.699200e+04</th>\n",
       "      <td>38</td>\n",
       "      <td>NaN</td>\n",
       "      <td>NaN</td>\n",
       "    </tr>\n",
       "    <tr>\n",
       "      <th>5.542400e+04</th>\n",
       "      <td>1</td>\n",
       "      <td>NaN</td>\n",
       "      <td>NaN</td>\n",
       "    </tr>\n",
       "    <tr>\n",
       "      <th>6.361600e+04</th>\n",
       "      <td>2</td>\n",
       "      <td>NaN</td>\n",
       "      <td>NaN</td>\n",
       "    </tr>\n",
       "    <tr>\n",
       "      <th>6.553600e+04</th>\n",
       "      <td>6</td>\n",
       "      <td>NaN</td>\n",
       "      <td>NaN</td>\n",
       "    </tr>\n",
       "  </tbody>\n",
       "</table>\n",
       "</div>"
      ],
      "text/plain": [
       "                0.0    1.0     ratio\n",
       "-2.147484e+09   627    2.0  0.003180\n",
       "-2.147483e+09   384    2.0  0.005181\n",
       "-2.147483e+09   363    1.0  0.002747\n",
       "-2.147482e+09   371    4.0  0.010667\n",
       "-2.147482e+09     1    NaN       NaN\n",
       "-2.147482e+09    34    NaN       NaN\n",
       "-2.147487e+07   115    NaN       NaN\n",
       "-2.147482e+07    12    NaN       NaN\n",
       "-2.147482e+07     5    NaN       NaN\n",
       " 1.000000e+00   516    1.0  0.001934\n",
       " 2.000000e+00  3469  667.0  0.161267\n",
       " 4.000000e+00   516  156.0  0.232143\n",
       " 8.000000e+00  2772   15.0  0.005382\n",
       " 1.600000e+01  3350  159.0  0.045312\n",
       " 2.400000e+01     2    NaN       NaN\n",
       " 3.200000e+01     6    NaN       NaN\n",
       " 4.800000e+01   521   35.0  0.062950\n",
       " 6.400000e+01     1    NaN       NaN\n",
       " 1.280000e+02  4497   31.0  0.006846\n",
       " 2.560000e+02  1243    5.0  0.004006\n",
       " 4.920000e+02     4    NaN       NaN\n",
       " 5.120000e+02  1470    9.0  0.006085\n",
       " 1.152000e+03   103    NaN       NaN\n",
       " 1.310000e+03    26    NaN       NaN\n",
       " 1.651200e+04     3    NaN       NaN\n",
       " 3.289600e+04    37    NaN       NaN\n",
       " 3.699200e+04    38    NaN       NaN\n",
       " 5.542400e+04     1    NaN       NaN\n",
       " 6.361600e+04     2    NaN       NaN\n",
       " 6.553600e+04     6    NaN       NaN"
      ]
     },
     "execution_count": 22,
     "metadata": {},
     "output_type": "execute_result"
    }
   ],
   "source": [
    "df"
   ]
  },
  {
   "cell_type": "code",
   "execution_count": null,
   "metadata": {
    "collapsed": true
   },
   "outputs": [],
   "source": []
  }
 ],
 "metadata": {
  "kernelspec": {
   "display_name": "Python 3",
   "language": "python",
   "name": "python3"
  },
  "language_info": {
   "codemirror_mode": {
    "name": "ipython",
    "version": 3
   },
   "file_extension": ".py",
   "mimetype": "text/x-python",
   "name": "python",
   "nbconvert_exporter": "python",
   "pygments_lexer": "ipython3",
   "version": "3.5.2"
  }
 },
 "nbformat": 4,
 "nbformat_minor": 1
}
