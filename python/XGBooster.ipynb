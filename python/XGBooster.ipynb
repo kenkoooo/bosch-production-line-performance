{
 "cells": [
  {
   "cell_type": "code",
   "execution_count": 1,
   "metadata": {
    "collapsed": false
   },
   "outputs": [
    {
     "name": "stderr",
     "output_type": "stream",
     "text": [
      "/usr/local/lib/python3.5/dist-packages/sklearn/cross_validation.py:44: DeprecationWarning: This module was deprecated in version 0.18 in favor of the model_selection module into which all the refactored classes and functions are moved. Also note that the interface of the new CV iterators are different from that of this module. This module will be removed in 0.20.\n",
      "  \"This module will be removed in 0.20.\", DeprecationWarning)\n"
     ]
    }
   ],
   "source": [
    "# ライブラリの皆さん\n",
    "import numpy as np\n",
    "import pandas as pd\n",
    "from xgboost import XGBClassifier\n",
    "from sklearn.metrics import matthews_corrcoef, roc_auc_score\n",
    "from sklearn.cross_validation import cross_val_score, StratifiedKFold\n",
    "import matplotlib.pyplot as plt\n",
    "import time\n",
    "import seaborn as sns\n",
    "%matplotlib inline"
   ]
  },
  {
   "cell_type": "code",
   "execution_count": 2,
   "metadata": {
    "collapsed": true
   },
   "outputs": [],
   "source": [
    "# 入力ファイルの皆さん\n",
    "TRAINS = [\n",
    "    \"../hdf/train_categorical.hdf\",\n",
    "    \"../hdf/train_numeric.hdf\",\n",
    "#     \"../hdf/train_date_L0_normalized.hdf\",\n",
    "    \"../hdf/train_date_L1_normalized.hdf\",\n",
    "    \"../hdf/train_date_L2_normalized.hdf\",\n",
    "    \"../hdf/train_date_L3_normalized.hdf\",\n",
    "    \"../hdf/train_date_min_max.hdf\",\n",
    "    \"../hdf/train_date_L0_min_max.hdf\",\n",
    "    \"../hdf/train_date_L1_min_max.hdf\",\n",
    "    \"../hdf/train_date_L2_min_max.hdf\",\n",
    "    \"../hdf/train_date_L3_min_max.hdf\",\n",
    "    \"../hdf/train_categorical_L3_S32_F3854_decomposite.hdf\",\n",
    "    \"../hdf/train_numeric_L1_S24_F1844_extract.hdf\",\n",
    "    \"../hdf/train_numeric_L1_S24_F1723_-0.12.hdf\",\n",
    "    \"../hdf/train_numeric_L1_S24_F1723_extract.hdf\",\n",
    "    \"../hdf/train_S24_C_md5.hdf\"\n",
    "]\n",
    "TESTS = []\n",
    "for file in TRAINS:\n",
    "    TESTS.append(file.replace(\"train\", \"test\"))\n",
    "RESPONSE = \"../hdf/train_response.hdf\""
   ]
  },
  {
   "cell_type": "markdown",
   "metadata": {},
   "source": [
    "index を分割する"
   ]
  },
  {
   "cell_type": "code",
   "execution_count": 13,
   "metadata": {
    "collapsed": true
   },
   "outputs": [],
   "source": [
    "def split_indices(train_df, test_df):\n",
    "    md5_sum_S24_C_md5 = train_df.loc[[137]][\"S24_C_md5\"].values[0]\n",
    "    train_index_list = []\n",
    "    test_index_list = []\n",
    "    train = train_df[train_df[\"S24_C_md5\"] == md5_sum_S24_C_md5].index\n",
    "    train_index_list.append(train)\n",
    "    train_df.drop(train, inplace=True)\n",
    "    train_index_list.append(train_df.index)\n",
    "    test = test_df[test_df[\"S24_C_md5\"] == md5_sum_S24_C_md5].index\n",
    "    test_index_list.append(test)\n",
    "    test_df.drop(test, inplace=True)\n",
    "    test_index_list.append(test_df.index)\n",
    "    return train_index_list, test_index_list"
   ]
  },
  {
   "cell_type": "code",
   "execution_count": 4,
   "metadata": {
    "collapsed": true
   },
   "outputs": [],
   "source": [
    "def xgboost_bosch(train_indices):\n",
    "    print(\"Loading Train Data...\")\n",
    "    X = pd.concat(\n",
    "        (pd.read_hdf(filename).loc[train_indices] for filename in TRAINS),\n",
    "        axis=1)\n",
    "    columns = X.columns\n",
    "    if len(X.index) > 1000000:\n",
    "        print(\"Train Data is too large! size={s}\".format(s=len(X.index)))\n",
    "        X = X.sample(frac=0.8)\n",
    "    y = pd.read_hdf(RESPONSE).loc[X.index].values.ravel()\n",
    "    X = X.values\n",
    "    # Feature Selection\n",
    "    print(\"Selecting Train Features...\")\n",
    "    clf = XGBClassifier(base_score=0.005)\n",
    "    clf.fit(X, y)\n",
    "    important_indices = np.where(clf.feature_importances_ > 0.005)[0]\n",
    "    important_columns = [columns[i] for i in important_indices]\n",
    "    print(important_columns)\n",
    "    # Reload Train Data\n",
    "    print(\"Reloading Train Data...\")\n",
    "    X = pd.concat(\n",
    "        (drop_columns(\n",
    "            pd.read_hdf(filename).loc[train_indices], important_columns)\n",
    "         for filename in TRAINS),\n",
    "        axis=1)\n",
    "    y = pd.read_hdf(RESPONSE)\n",
    "    y = y.loc[X.index].values.ravel()\n",
    "    X = X.values\n",
    "    # 予測して Cross Validation\n",
    "    print(\"Predicting...\")\n",
    "    clf = XGBClassifier(max_depth=6, base_score=0.005)\n",
    "    cv = StratifiedKFold(y, n_folds=3)\n",
    "    predictions = np.ones(y.shape[0])\n",
    "    for i, (train, test) in enumerate(cv):\n",
    "        predictions[test] = clf.fit(X[train],\n",
    "                                    y[train]).predict_proba(X[test])[:, 1]\n",
    "        print(\"fold {}, ROC AUC: {:.3f}\".format(i, roc_auc_score(y[\n",
    "            test], predictions[test])))\n",
    "    print(roc_auc_score(y, predictions))\n",
    "    # MCC 最適化\n",
    "    thresholds = np.linspace(0.01, 0.99, 200)\n",
    "    mcc = np.array(\n",
    "        [matthews_corrcoef(y, predictions > thr) for thr in thresholds])\n",
    "    plt.plot(thresholds, mcc)\n",
    "    best_threshold = thresholds[mcc.argmax()]\n",
    "    print(mcc.max())\n",
    "    return important_columns, clf, best_threshold\n",
    "\n",
    "def drop_columns(df, undrop_columns):\n",
    "    drop_columns = [c for c in df.columns if c not in undrop_columns]\n",
    "    df.drop(drop_columns, axis=1, inplace=True)\n",
    "    return df\n",
    "\n",
    "def predict(important_columns, test_indices, clf, best_threshold):\n",
    "    # テストデータ読み込み\n",
    "    print(\"Loading Test Data...\")\n",
    "    X = pd.concat(\n",
    "        (drop_columns(\n",
    "            pd.read_hdf(filename).loc[test_indices], important_columns)\n",
    "         for filename in TESTS),\n",
    "        axis=1)\n",
    "    X = X.values\n",
    "    # 0 or 1 に正規化\n",
    "    predictions = (clf.predict_proba(X)[:, 1] > best_threshold).astype(np.int8)\n",
    "    # 提出データを生成\n",
    "    sub = pd.DataFrame(index=test_indices.astype(np.int32), columns=[])\n",
    "    sub[\"Response\"] = predictions\n",
    "    return sub"
   ]
  },
  {
   "cell_type": "code",
   "execution_count": 14,
   "metadata": {
    "collapsed": true
   },
   "outputs": [],
   "source": [
    "train_df = pd.read_hdf(\"../hdf/train_S24_C_md5.hdf\")\n",
    "test_df = pd.read_hdf(\"../hdf/test_S24_C_md5.hdf\")"
   ]
  },
  {
   "cell_type": "code",
   "execution_count": 15,
   "metadata": {
    "collapsed": false
   },
   "outputs": [],
   "source": [
    "train_index_list, test_index_list = split_indices(train_df, test_df)"
   ]
  },
  {
   "cell_type": "code",
   "execution_count": 7,
   "metadata": {
    "collapsed": false
   },
   "outputs": [
    {
     "name": "stdout",
     "output_type": "stream",
     "text": [
      "Loading Train Data...\n",
      "Train Data is too large! size=1124038\n",
      "Selecting Train Features...\n",
      "['L3_S32_F3854', 'L0_S0_F20', 'L0_S2_F44', 'L0_S3_F72', 'L0_S4_F104', 'L0_S4_F109', 'L0_S10_F259', 'L0_S16_F426', 'L1_S24_F867', 'L1_S24_F1102', 'L1_S24_F1494', 'L1_S24_F1498', 'L1_S24_F1575', 'L1_S24_F1723', 'L1_S24_F1846', 'L2_S26_F3073', 'L2_S26_F3106', 'L2_S27_F3166', 'L3_S29_F3339', 'L3_S29_F3351', 'L3_S29_F3376', 'L3_S29_F3407', 'L3_S29_F3479', 'L3_S30_F3534', 'L3_S30_F3544', 'L3_S30_F3704', 'L3_S30_F3744', 'L3_S30_F3754', 'L3_S30_F3759', 'L3_S30_F3769', 'L3_S30_F3774', 'L3_S30_F3804', 'L3_S30_F3809', 'L3_S30_F3829', 'L3_S33_F3857', 'L3_S35_F3896', 'L3_S38_F3952', 'L3_S38_F3960', 'L3_S33_D3856_normalized', 'L3_S38_D3953_normalized', 'min', 'max', 'min_max', 'L0_min', 'L0_max', 'L1_max', 'L2_min', 'L3_min', 'L3_max', 'L3_min_max', 'L3_S32_F3854_48']\n",
      "Reloading Train Data...\n",
      "Predicting...\n",
      "fold 0, ROC AUC: 0.721\n",
      "fold 1, ROC AUC: 0.711\n",
      "fold 2, ROC AUC: 0.699\n",
      "0.710073088944\n"
     ]
    },
    {
     "name": "stderr",
     "output_type": "stream",
     "text": [
      "/usr/local/lib/python3.5/dist-packages/sklearn/metrics/classification.py:516: RuntimeWarning: invalid value encountered in double_scalars\n",
      "  mcc = cov_ytyp / np.sqrt(var_yt * var_yp)\n"
     ]
    },
    {
     "name": "stdout",
     "output_type": "stream",
     "text": [
      "0.235517377983\n",
      "Loading Test Data...\n"
     ]
    },
    {
     "data": {
      "image/png": "[encoded data removed]",
      "text/plain": [
       "<matplotlib.figure.Figure at 0x7fa4085f8fd0>"
      ]
     },
     "metadata": {},
     "output_type": "display_data"
    }
   ],
   "source": [
    "important_columns, clf, best_threshold = xgboost_bosch(train_index_list[1])\n",
    "sub1 = predict(important_columns, test_index_list[1], clf, best_threshold)"
   ]
  },
  {
   "cell_type": "code",
   "execution_count": 8,
   "metadata": {
    "collapsed": false
   },
   "outputs": [
    {
     "name": "stdout",
     "output_type": "stream",
     "text": [
      "Loading Train Data...\n",
      "Selecting Train Features...\n",
      "['L3_S32_F3854', 'L1_S24_F1514', 'L1_S24_F1516', 'L1_S24_F1518', 'L1_S24_F1520', 'L1_S24_F1565', 'L1_S24_F1571', 'L1_S24_F1575', 'L1_S24_F1578', 'L1_S24_F1581', 'L1_S24_F1599', 'L1_S24_F1604', 'L1_S24_F1632', 'L1_S24_F1637', 'L1_S24_F1657', 'L1_S24_F1667', 'L1_S24_F1778', 'L1_S24_F1798', 'L1_S24_F1808', 'L1_S24_F1812', 'L1_S24_F1829', 'L1_S24_F1831', 'L1_S24_F1842', 'L1_S24_F1844', 'L1_S24_F1846', 'L1_S24_F1850', 'L2_S26_F3051', 'L2_S26_F3069', 'L2_S26_F3073', 'L2_S26_F3106', 'L2_S26_F3113', 'L2_S26_F3117', 'L2_S26_F3121', 'L2_S27_F3162', 'L2_S27_F3199', 'L2_S27_F3206', 'L3_S29_F3324', 'L3_S29_F3333', 'L3_S29_F3339', 'L3_S29_F3345', 'L3_S29_F3348', 'L3_S29_F3351', 'L3_S29_F3354', 'L3_S29_F3376', 'L3_S29_F3379', 'L3_S30_F3534', 'L3_S30_F3604', 'L3_S30_F3629', 'L3_S30_F3674', 'L3_S30_F3709', 'L3_S30_F3749', 'L3_S30_F3774', 'L3_S30_F3804', 'L3_S30_F3809', 'L3_S32_F3850', 'L3_S33_F3857', 'L3_S33_F3859', 'L3_S33_F3865', 'L3_S35_F3896', 'L3_S36_F3920', 'L3_S38_F3952', 'L3_S38_F3960', 'L3_S36_D3919_normalized', 'L3_S38_D3953_normalized', 'min', 'max', 'min_max', 'L1_min', 'L2_min', 'L3_min', 'L3_min_max']\n",
      "Reloading Train Data...\n",
      "Predicting...\n",
      "fold 0, ROC AUC: 0.791\n",
      "fold 1, ROC AUC: 0.783\n",
      "fold 2, ROC AUC: 0.778\n",
      "0.782809333926\n"
     ]
    },
    {
     "name": "stderr",
     "output_type": "stream",
     "text": [
      "/usr/local/lib/python3.5/dist-packages/sklearn/metrics/classification.py:516: RuntimeWarning: invalid value encountered in double_scalars\n",
      "  mcc = cov_ytyp / np.sqrt(var_yt * var_yp)\n"
     ]
    },
    {
     "name": "stdout",
     "output_type": "stream",
     "text": [
      "0.443254137042\n",
      "Loading Test Data...\n"
     ]
    },
    {
     "data": {
      "image/png": "[encoded data removed]",
      "text/plain": [
       "<matplotlib.figure.Figure at 0x7fa3d80779e8>"
      ]
     },
     "metadata": {},
     "output_type": "display_data"
    }
   ],
   "source": [
    "important_columns, clf, best_threshold = xgboost_bosch(train_index_list[0])\n",
    "sub0 = predict(important_columns, test_index_list[0], clf, best_threshold)"
   ]
  },
  {
   "cell_type": "code",
   "execution_count": null,
   "metadata": {
    "collapsed": true
   },
   "outputs": [],
   "source": []
  }
 ],
 "metadata": {
  "kernelspec": {
   "display_name": "Python 3",
   "language": "python",
   "name": "python3"
  },
  "language_info": {
   "codemirror_mode": {
    "name": "ipython",
    "version": 3
   },
   "file_extension": ".py",
   "mimetype": "text/x-python",
   "name": "python",
   "nbconvert_exporter": "python",
   "pygments_lexer": "ipython3",
   "version": "3.5.2"
  }
 },
 "nbformat": 4,
 "nbformat_minor": 1
}
