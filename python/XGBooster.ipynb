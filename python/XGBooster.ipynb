{
 "cells": [
  {
   "cell_type": "code",
   "execution_count": 1,
   "metadata": {
    "collapsed": false
   },
   "outputs": [
    {
     "name": "stderr",
     "output_type": "stream",
     "text": [
      "/usr/local/lib/python3.5/dist-packages/sklearn/cross_validation.py:44: DeprecationWarning: This module was deprecated in version 0.18 in favor of the model_selection module into which all the refactored classes and functions are moved. Also note that the interface of the new CV iterators are different from that of this module. This module will be removed in 0.20.\n",
      "  \"This module will be removed in 0.20.\", DeprecationWarning)\n"
     ]
    }
   ],
   "source": [
    "# ライブラリの皆さん\n",
    "import numpy as np\n",
    "import pandas as pd\n",
    "from xgboost import XGBClassifier\n",
    "from sklearn.metrics import matthews_corrcoef, roc_auc_score\n",
    "from sklearn.cross_validation import cross_val_score, StratifiedKFold\n",
    "import matplotlib.pyplot as plt\n",
    "import time\n",
    "import seaborn as sns\n",
    "%matplotlib inline"
   ]
  },
  {
   "cell_type": "code",
   "execution_count": 2,
   "metadata": {
    "collapsed": true
   },
   "outputs": [],
   "source": [
    "# 入力ファイルの皆さん\n",
    "T_FILES = [\n",
    "    \"../hdf/train_categorical.hdf\",\n",
    "    \"../hdf/train_numeric.hdf\",\n",
    "    \"../hdf/train_date_L0_normalized.hdf\",\n",
    "    \"../hdf/train_date_L1_normalized.hdf\",\n",
    "    \"../hdf/train_date_L2_normalized.hdf\",\n",
    "    \"../hdf/train_date_L3_normalized.hdf\",\n",
    "    \"../hdf/train_date_min_max.hdf\",\n",
    "    \"../hdf/train_date_L0_min_max.hdf\",\n",
    "    \"../hdf/train_date_L1_min_max.hdf\",\n",
    "    \"../hdf/train_date_L2_min_max.hdf\",\n",
    "    \"../hdf/train_date_L3_min_max.hdf\",\n",
    "    \"../hdf/train_categorical_L3_S32_F3854_decomposite.hdf\",\n",
    "    \"../hdf/train_numeric_L1_S24_F1844_extract.hdf\",\n",
    "    \"../hdf/train_numeric_L1_S24_F1723_-0.12.hdf\",\n",
    "    \"../hdf/train_numeric_L1_S24_F1723_extract.hdf\",\n",
    "    \"../hdf/train_mask.hdf\",\n",
    "    \"../hdf/train_S_min_max.hdf\",\n",
    "    \"../hdf/train_S_C_md5.hdf\",\n",
    "    \"../hdf/train_S_N_md5.hdf\",\n",
    "]\n",
    "RESPONSE = \"../hdf/train_response.hdf\""
   ]
  },
  {
   "cell_type": "markdown",
   "metadata": {},
   "source": [
    "index を分割する"
   ]
  },
  {
   "cell_type": "code",
   "execution_count": 11,
   "metadata": {
    "collapsed": true
   },
   "outputs": [],
   "source": [
    "def split_indices(train_df, test_df):\n",
    "    train_index_list = []\n",
    "    test_index_list = []\n",
    "    train_file_list = []\n",
    "\n",
    "    md5_sum = train_df.loc[[1250]][\"S32_C_md5\"].values[0]\n",
    "    train = train_df[train_df[\"S32_C_md5\"] == md5_sum].index\n",
    "    train_index_list.append(train)\n",
    "    train_df.drop(train, inplace=True)\n",
    "    test = test_df[test_df[\"S32_C_md5\"] == md5_sum].index\n",
    "    test_index_list.append(test)\n",
    "    test_df.drop(test, inplace=True)\n",
    "    train_file_list.append(T_FILES)\n",
    "\n",
    "    md5_sum = train_df.loc[[2400]][\"S32_C_md5\"].values[0]\n",
    "    train = train_df[train_df[\"S32_C_md5\"] == md5_sum].index\n",
    "    train_index_list.append(train)\n",
    "    train_df.drop(train, inplace=True)\n",
    "    test = test_df[test_df[\"S32_C_md5\"] == md5_sum].index\n",
    "    test_index_list.append(test)\n",
    "    test_df.drop(test, inplace=True)\n",
    "    train_file_list.append(T_FILES)\n",
    "\n",
    "    md5_sum_S24_C_md5 = train_df.loc[[137]][\"S24_C_md5\"].values[0]\n",
    "    train = train_df[train_df[\"S24_C_md5\"] == md5_sum_S24_C_md5].index\n",
    "    train_index_list.append(train)\n",
    "    train_df.drop(train, inplace=True)\n",
    "    test = test_df[test_df[\"S24_C_md5\"] == md5_sum_S24_C_md5].index\n",
    "    test_index_list.append(test)\n",
    "    test_df.drop(test, inplace=True)\n",
    "    train_file_list.append(T_FILES)\n",
    "\n",
    "    md5_sum_S24_C_md5 = train_df.loc[[16]][\"S24_C_md5\"].values[0]\n",
    "    train = train_df[train_df[\"S24_C_md5\"] == md5_sum_S24_C_md5].index\n",
    "    train_index_list.append(train)\n",
    "    train_df.drop(train, inplace=True)\n",
    "    test = test_df[test_df[\"S24_C_md5\"] == md5_sum_S24_C_md5].index\n",
    "    test_index_list.append(test)\n",
    "    test_df.drop(test, inplace=True)\n",
    "    train_file_list.append(T_FILES)\n",
    "    \n",
    "    mask = 111.0\n",
    "    train = train_df[train_df[\"mask\"] == mask].index\n",
    "    train_index_list.append(train)\n",
    "    train_df.drop(train, inplace=True)\n",
    "    test = test_df[test_df[\"mask\"] == mask].index\n",
    "    test_index_list.append(test)\n",
    "    test_df.drop(test, inplace=True)\n",
    "    train_file_list.append(T_FILES)\n",
    "    train_file_list.append([\n",
    "        \"../hdf/train_categorical.hdf\",\n",
    "        \"../hdf/train_numeric.hdf\",\n",
    "        \"../hdf/train_date_L0_normalized.hdf\",\n",
    "        \"../hdf/train_date_L1_normalized.hdf\",\n",
    "        \"../hdf/train_date_L2_normalized.hdf\",\n",
    "        \"../hdf/train_date_L3_normalized.hdf\",\n",
    "        \"../hdf/train_date_min_max.hdf\",\n",
    "        \"../hdf/train_date_L0_min_max.hdf\",\n",
    "        \"../hdf/train_date_L1_min_max.hdf\",\n",
    "        \"../hdf/train_date_L2_min_max.hdf\",\n",
    "        \"../hdf/train_date_L3_min_max.hdf\",\n",
    "        \"../hdf/train_categorical_L3_S32_F3854_decomposite.hdf\",\n",
    "        \"../hdf/train_numeric_L1_S24_F1844_extract.hdf\",\n",
    "        \"../hdf/train_numeric_L1_S24_F1723_-0.12.hdf\",\n",
    "        \"../hdf/train_numeric_L1_S24_F1723_extract.hdf\",\n",
    "    ])\n",
    "    \n",
    "    train_index_list.append(train_df.index)\n",
    "    test_index_list.append(test_df.index)\n",
    "    train_file_list.append([\n",
    "        \"../hdf/train_categorical.hdf\",\n",
    "        \"../hdf/train_numeric.hdf\",\n",
    "        \"../hdf/train_date_L0_normalized.hdf\",\n",
    "        \"../hdf/train_date_L1_normalized.hdf\",\n",
    "        \"../hdf/train_date_L2_normalized.hdf\",\n",
    "        \"../hdf/train_date_L3_normalized.hdf\",\n",
    "        \"../hdf/train_date_min_max.hdf\",\n",
    "        \"../hdf/train_date_L0_min_max.hdf\",\n",
    "        \"../hdf/train_date_L1_min_max.hdf\",\n",
    "        \"../hdf/train_date_L2_min_max.hdf\",\n",
    "        \"../hdf/train_date_L3_min_max.hdf\",\n",
    "        \"../hdf/train_categorical_L3_S32_F3854_decomposite.hdf\",\n",
    "        \"../hdf/train_S24_C_md5.hdf\",\n",
    "        \"../hdf/train_numeric_L1_S24_F1844_extract.hdf\",\n",
    "        \"../hdf/train_numeric_L1_S24_F1723_-0.12.hdf\",\n",
    "        \"../hdf/train_numeric_L1_S24_F1723_extract.hdf\",\n",
    "    ])\n",
    "    return train_index_list, test_index_list, train_file_list"
   ]
  },
  {
   "cell_type": "code",
   "execution_count": 4,
   "metadata": {
    "collapsed": true
   },
   "outputs": [],
   "source": [
    "def xgboost_bosch(train_indices, train_file_list):\n",
    "    print(\"Loading Train Data...\")\n",
    "    X = pd.concat(\n",
    "        (pd.read_hdf(filename).loc[train_indices] for filename in train_file_list),\n",
    "        axis=1)\n",
    "    columns = X.columns\n",
    "    if len(X.index) > 600000:\n",
    "        print(\"Train Data is too large! size={s}\".format(s=len(X.index)))\n",
    "        p = 600000 / len(X.index)\n",
    "        X = X.sample(frac=p)\n",
    "    y = pd.read_hdf(RESPONSE).loc[X.index].values.ravel()\n",
    "    X = X.values\n",
    "    # Feature Selection\n",
    "    print(\"Selecting Train Features...\")\n",
    "    clf = XGBClassifier(base_score=0.005)\n",
    "    clf.fit(X, y)\n",
    "    important_indices = np.where(clf.feature_importances_ > 0.005)[0]\n",
    "    important_columns = [columns[i] for i in important_indices]\n",
    "    print(important_columns)\n",
    "    # Reload Train Data\n",
    "    print(\"Reloading Train Data...\")\n",
    "    X = pd.concat(\n",
    "        (drop_columns(\n",
    "            pd.read_hdf(filename).loc[train_indices], important_columns)\n",
    "         for filename in train_file_list),\n",
    "        axis=1)\n",
    "    y = pd.read_hdf(RESPONSE)\n",
    "    y = y.loc[X.index].values.ravel()\n",
    "    X = X.values\n",
    "    # 予測して Cross Validation\n",
    "    print(\"Predicting...\")\n",
    "    clf = XGBClassifier(max_depth=6, base_score=0.005)\n",
    "    cv = StratifiedKFold(y, n_folds=3)\n",
    "    predictions = np.ones(y.shape[0])\n",
    "    for i, (train, test) in enumerate(cv):\n",
    "        predictions[test] = clf.fit(X[train],\n",
    "                                    y[train]).predict_proba(X[test])[:, 1]\n",
    "        print(\"fold {}, ROC AUC: {:.3f}\".format(i, roc_auc_score(y[\n",
    "            test], predictions[test])))\n",
    "    print(roc_auc_score(y, predictions))\n",
    "    # MCC 最適化\n",
    "    thresholds = np.linspace(0.01, 0.99, 200)\n",
    "    mcc = np.array(\n",
    "        [matthews_corrcoef(y, predictions > thr) for thr in thresholds])\n",
    "    plt.plot(thresholds, mcc)\n",
    "    best_threshold = thresholds[mcc.argmax()]\n",
    "    print(mcc.max())\n",
    "    return important_columns, clf, best_threshold\n",
    "\n",
    "def drop_columns(df, undrop_columns):\n",
    "    drop_columns = [c for c in df.columns if c not in undrop_columns]\n",
    "    df.drop(drop_columns, axis=1, inplace=True)\n",
    "    return df\n",
    "\n",
    "def predict(important_columns, test_indices, clf, best_threshold,\n",
    "            train_file_list):\n",
    "    test_file_list = []\n",
    "    for file in train_file_list:\n",
    "        test_file_list.append(file.replace(\"train\", \"test\"))\n",
    "    # テストデータ読み込み\n",
    "    print(\"Loading Test Data...\")\n",
    "    X = pd.concat(\n",
    "        (drop_columns(\n",
    "            pd.read_hdf(filename).loc[test_indices], important_columns)\n",
    "         for filename in test_file_list),\n",
    "        axis=1)\n",
    "    X = X.values\n",
    "    # 0 or 1 に正規化\n",
    "    predictions = (clf.predict_proba(X)[:, 1] > best_threshold).astype(np.int8)\n",
    "    # 提出データを生成\n",
    "    sub = pd.DataFrame(index=test_indices.astype(np.int32), columns=[])\n",
    "    sub[\"Response\"] = predictions\n",
    "    return sub"
   ]
  },
  {
   "cell_type": "code",
   "execution_count": 12,
   "metadata": {
    "collapsed": true
   },
   "outputs": [],
   "source": [
    "preload_list = [\"../hdf/train_S_C_md5.hdf\", \"../hdf/train_mask.hdf\"]\n",
    "train_df = pd.concat(\n",
    "    (pd.read_hdf(filename) for filename in preload_list), axis=1)\n",
    "test_df = pd.concat(\n",
    "    (pd.read_hdf(filename.replace(\"train\", \"test\"))\n",
    "     for filename in preload_list),\n",
    "    axis=1)"
   ]
  },
  {
   "cell_type": "code",
   "execution_count": 13,
   "metadata": {
    "collapsed": false
   },
   "outputs": [
    {
     "data": {
      "text/plain": [
       "([Float64Index([   1250.0,    1251.0,    2410.0,    4061.0,    4129.0,    5149.0,\n",
       "                   6398.0,    6586.0,    6598.0,    9014.0,\n",
       "                ...\n",
       "                2364673.0, 2364723.0, 2364844.0, 2364846.0, 2364898.0, 2364900.0,\n",
       "                2365291.0, 2365843.0, 2365996.0, 2367347.0],\n",
       "               dtype='float64', name='Id', length=4134),\n",
       "  Float64Index([   2400.0,    3316.0,    5017.0,    5018.0,    5019.0,   21212.0,\n",
       "                  21213.0,   22901.0,   24621.0,   27720.0,\n",
       "                ...\n",
       "                2354377.0, 2355310.0, 2355356.0, 2356396.0, 2356901.0, 2358181.0,\n",
       "                2358289.0, 2364867.0, 2364868.0, 2366042.0],\n",
       "               dtype='float64', name='Id', length=671),\n",
       "  Float64Index([    137.0,     232.0,     244.0,     335.0,     343.0,     379.0,\n",
       "                    383.0,     389.0,     400.0,     496.0,\n",
       "                ...\n",
       "                2367157.0, 2367195.0, 2367214.0, 2367298.0, 2367384.0, 2367408.0,\n",
       "                2367409.0, 2367439.0, 2367443.0, 2367471.0],\n",
       "               dtype='float64', name='Id', length=59382),\n",
       "  Float64Index([     16.0,      84.0,     107.0,     162.0,     166.0,     292.0,\n",
       "                    303.0,     304.0,     314.0,     425.0,\n",
       "                ...\n",
       "                2367256.0, 2367261.0, 2367345.0, 2367363.0, 2367371.0, 2367372.0,\n",
       "                2367406.0, 2367461.0, 2367464.0, 2367488.0],\n",
       "               dtype='float64', name='Id', length=59299),\n",
       "  Float64Index([     52.0,     127.0,     188.0,     249.0,     258.0,     269.0,\n",
       "                    282.0,     322.0,     323.0,     339.0,\n",
       "                ...\n",
       "                2367232.0, 2367281.0, 2367282.0, 2367344.0, 2367359.0, 2367391.0,\n",
       "                2367422.0, 2367424.0, 2367444.0, 2367460.0],\n",
       "               dtype='float64', name='Id', length=133334),\n",
       "  Float64Index([      4.0,       6.0,       7.0,       9.0,      11.0,      13.0,\n",
       "                     14.0,      18.0,      23.0,      26.0,\n",
       "                ...\n",
       "                2367476.0, 2367478.0, 2367480.0, 2367484.0, 2367487.0, 2367490.0,\n",
       "                2367491.0, 2367492.0, 2367493.0, 2367495.0],\n",
       "               dtype='float64', name='Id', length=926927)],\n",
       " [Float64Index([   1249.0,    1772.0,    1841.0,    5268.0,    5761.0,    9630.0,\n",
       "                  10714.0,   12379.0,   13284.0,   13885.0,\n",
       "                ...\n",
       "                2359278.0, 2359926.0, 2360038.0, 2361467.0, 2362054.0, 2362585.0,\n",
       "                2362587.0, 2362642.0, 2364845.0, 2364899.0],\n",
       "               dtype='float64', name='Id', length=4099),\n",
       "  Float64Index([   1175.0,    1176.0,    2399.0,    2401.0,    7902.0,   13999.0,\n",
       "                  20851.0,   21211.0,   23184.0,   28320.0,\n",
       "                ...\n",
       "                2342542.0, 2355090.0, 2355308.0, 2355309.0, 2355355.0, 2355357.0,\n",
       "                2364497.0, 2366041.0, 2367077.0, 2367078.0],\n",
       "               dtype='float64', name='Id', length=644),\n",
       "  Float64Index([    108.0,     144.0,     164.0,     193.0,     212.0,     238.0,\n",
       "                    356.0,     426.0,     453.0,     465.0,\n",
       "                ...\n",
       "                2366873.0, 2366923.0, 2366946.0, 2366993.0, 2367106.0, 2367118.0,\n",
       "                2367175.0, 2367364.0, 2367373.0, 2367447.0],\n",
       "               dtype='float64', name='Id', length=58870),\n",
       "  Float64Index([      1.0,      39.0,      67.0,     151.0,     189.0,     220.0,\n",
       "                    227.0,     340.0,     369.0,     375.0,\n",
       "                ...\n",
       "                2367181.0, 2367185.0, 2367215.0, 2367300.0, 2367317.0, 2367336.0,\n",
       "                2367349.0, 2367377.0, 2367413.0, 2367453.0],\n",
       "               dtype='float64', name='Id', length=58841),\n",
       "  Float64Index([      2.0,       3.0,       8.0,      19.0,      36.0,      43.0,\n",
       "                     46.0,      53.0,      58.0,      80.0,\n",
       "                ...\n",
       "                2367222.0, 2367223.0, 2367254.0, 2367301.0, 2367338.0, 2367353.0,\n",
       "                2367366.0, 2367392.0, 2367463.0, 2367481.0],\n",
       "               dtype='float64', name='Id', length=133495),\n",
       "  Float64Index([      5.0,      10.0,      12.0,      15.0,      17.0,      20.0,\n",
       "                     21.0,      22.0,      24.0,      25.0,\n",
       "                ...\n",
       "                2367470.0, 2367475.0, 2367477.0, 2367479.0, 2367482.0, 2367483.0,\n",
       "                2367485.0, 2367486.0, 2367489.0, 2367494.0],\n",
       "               dtype='float64', name='Id', length=927799)])"
      ]
     },
     "execution_count": 13,
     "metadata": {},
     "output_type": "execute_result"
    }
   ],
   "source": [
    "train_index_list, test_index_list, train_file_list = split_indices(train_df, test_df)\n",
    "train_index_list, test_index_list"
   ]
  },
  {
   "cell_type": "code",
   "execution_count": 7,
   "metadata": {
    "collapsed": false,
    "scrolled": true
   },
   "outputs": [
    {
     "name": "stdout",
     "output_type": "stream",
     "text": [
      "Loading Train Data...\n",
      "Selecting Train Features...\n",
      "['L0_S4_F104', 'L0_S9_F155', 'L2_S26_F3113', 'L3_S30_F3744', 'L3_S30_F3829', 'L3_S36_F3920', 'min_max', 'L2_min', 'S26_C_md5', 'S33_C_md5']\n",
      "Reloading Train Data...\n",
      "Predicting...\n",
      "fold 0, ROC AUC: 0.790\n",
      "fold 1, ROC AUC: 0.779\n",
      "fold 2, ROC AUC: 0.783\n",
      "0.782590965838\n",
      "0.346600400642\n",
      "Loading Test Data...\n"
     ]
    },
    {
     "name": "stderr",
     "output_type": "stream",
     "text": [
      "/usr/local/lib/python3.5/dist-packages/sklearn/metrics/classification.py:516: RuntimeWarning: invalid value encountered in double_scalars\n",
      "  mcc = cov_ytyp / np.sqrt(var_yt * var_yp)\n"
     ]
    },
    {
     "name": "stdout",
     "output_type": "stream",
     "text": [
      "Loading Train Data...\n",
      "Selecting Train Features...\n",
      "['L0_S1_F28', 'L0_S9_F210', 'L2_S26_F3106', 'L3_S29_F3357', 'L3_S30_F3669', 'L3_S30_F3759', 'L3_S33_F3857', 'L3_S33_F3859', 'L3_S34_F3876', 'L3_S38_F3960', 'L3_S34_D3875_normalized', 'L3_S38_D3953_normalized', 'S3_C_md5', 'S33_C_md5']\n",
      "Reloading Train Data...\n",
      "Predicting...\n",
      "fold 0, ROC AUC: 0.815\n",
      "fold 1, ROC AUC: 0.788\n",
      "fold 2, ROC AUC: 0.857\n",
      "0.816361712721\n",
      "0.486345706462\n",
      "Loading Test Data...\n"
     ]
    },
    {
     "name": "stderr",
     "output_type": "stream",
     "text": [
      "/usr/local/lib/python3.5/dist-packages/sklearn/metrics/classification.py:516: RuntimeWarning: invalid value encountered in double_scalars\n",
      "  mcc = cov_ytyp / np.sqrt(var_yt * var_yp)\n"
     ]
    },
    {
     "name": "stdout",
     "output_type": "stream",
     "text": [
      "Loading Train Data...\n",
      "Selecting Train Features...\n",
      "['L1_S24_F1578', 'L1_S24_F1581', 'L1_S24_F1604', 'L1_S24_F1632', 'L1_S24_F1808', 'L1_S24_F1812', 'L1_S24_F1842', 'L1_S24_F1844', 'L1_S24_F1846', 'L2_S26_F3051', 'L2_S26_F3106', 'L2_S26_F3113', 'L2_S26_F3117', 'L2_S27_F3199', 'L3_S29_F3324', 'L3_S29_F3330', 'L3_S29_F3339', 'L3_S29_F3376', 'L3_S30_F3674', 'L3_S30_F3774', 'L3_S30_F3809', 'L3_S32_F3850', 'L3_S33_F3857', 'L3_S38_F3952', 'L3_S38_D3953_normalized', 'min', 'max', 'L1_min', 'L2_min', 'S24_C_md5', 'S29_C_md5']\n",
      "Reloading Train Data...\n",
      "Predicting...\n",
      "fold 0, ROC AUC: 0.770\n",
      "fold 1, ROC AUC: 0.754\n",
      "fold 2, ROC AUC: 0.758\n",
      "0.758404517878\n"
     ]
    },
    {
     "name": "stderr",
     "output_type": "stream",
     "text": [
      "/usr/local/lib/python3.5/dist-packages/sklearn/metrics/classification.py:516: RuntimeWarning: invalid value encountered in double_scalars\n",
      "  mcc = cov_ytyp / np.sqrt(var_yt * var_yp)\n"
     ]
    },
    {
     "name": "stdout",
     "output_type": "stream",
     "text": [
      "0.435620988633\n",
      "Loading Test Data...\n",
      "Loading Train Data...\n",
      "Selecting Train Features...\n",
      "['L1_S24_F1578', 'L1_S24_F1718', 'L1_S24_F1723', 'L1_S24_F1842', 'L3_S29_F3351', 'L3_S33_F3865', 'L3_S38_D3953_normalized', 'max', 'L1_max', 'L3_min', 'S2_C_md5', 'S3_C_md5']\n",
      "Reloading Train Data...\n",
      "Predicting...\n",
      "fold 0, ROC AUC: 0.792\n",
      "fold 1, ROC AUC: 0.729\n",
      "fold 2, ROC AUC: 0.727\n",
      "0.727709161404\n"
     ]
    },
    {
     "name": "stderr",
     "output_type": "stream",
     "text": [
      "/usr/local/lib/python3.5/dist-packages/sklearn/metrics/classification.py:516: RuntimeWarning: invalid value encountered in double_scalars\n",
      "  mcc = cov_ytyp / np.sqrt(var_yt * var_yp)\n"
     ]
    },
    {
     "name": "stdout",
     "output_type": "stream",
     "text": [
      "0.471336225419\n",
      "Loading Test Data...\n",
      "Loading Train Data...\n",
      "Selecting Train Features...\n",
      "['L1_S24_F867', 'L1_S24_F1102', 'L1_S24_F1207', 'L1_S24_F1298', 'L1_S24_F1494', 'L1_S24_F1498', 'L1_S24_F1565', 'L1_S24_F1723', 'L1_S24_F1844', 'L1_S24_F1846', 'L1_S25_F2346', 'L1_S25_F2458', 'L1_S25_F2767', 'L2_S26_F3040', 'L2_S26_F3062', 'L2_S26_F3106', 'L2_S26_F3113', 'L3_S29_F3339', 'L3_S29_F3342', 'L3_S29_F3373', 'L3_S29_F3407', 'L3_S30_F3829', 'L3_S33_F3873', 'L3_S34_F3882', 'L3_S38_F3952', 'L3_S38_F3960', 'L3_S32_D3852_normalized', 'min', 'L1_max', 'L2_min', 'L3_min', 'L3_S32_F3854_16', 'S3_max_min', 'S2_C_md5', 'S33_C_md5']\n",
      "Reloading Train Data...\n",
      "Predicting...\n",
      "fold 0, ROC AUC: 0.712\n",
      "fold 1, ROC AUC: 0.710\n",
      "fold 2, ROC AUC: 0.749\n",
      "0.718117970336\n"
     ]
    },
    {
     "name": "stderr",
     "output_type": "stream",
     "text": [
      "/usr/local/lib/python3.5/dist-packages/sklearn/metrics/classification.py:516: RuntimeWarning: invalid value encountered in double_scalars\n",
      "  mcc = cov_ytyp / np.sqrt(var_yt * var_yp)\n"
     ]
    },
    {
     "name": "stdout",
     "output_type": "stream",
     "text": [
      "0.290930581225\n",
      "Loading Test Data...\n",
      "Loading Train Data...\n",
      "Train Data is too large! size=926927\n",
      "Selecting Train Features...\n",
      "['L3_S32_F3854', 'L0_S0_F20', 'L0_S2_F48', 'L0_S3_F84', 'L0_S4_F104', 'L0_S5_F116', 'L0_S6_F132', 'L0_S7_F138', 'L0_S11_F310', 'L0_S13_F354', 'L0_S14_F370', 'L0_S16_F426', 'L0_S22_F556', 'L0_S22_F606', 'L2_S26_F3040', 'L2_S26_F3069', 'L2_S27_F3133', 'L2_S27_F3166', 'L3_S29_F3339', 'L3_S29_F3345', 'L3_S29_F3373', 'L3_S29_F3407', 'L3_S29_F3427', 'L3_S29_F3430', 'L3_S29_F3436', 'L3_S29_F3473', 'L3_S30_F3494', 'L3_S30_F3544', 'L3_S30_F3554', 'L3_S30_F3589', 'L3_S30_F3634', 'L3_S30_F3639', 'L3_S30_F3704', 'L3_S30_F3754', 'L3_S30_F3759', 'L3_S30_F3769', 'L3_S30_F3794', 'L3_S30_F3804', 'L3_S30_F3809', 'L3_S30_F3829', 'L3_S32_F3850', 'L3_S33_F3857', 'L3_S33_F3859', 'L3_S33_F3865', 'L3_S33_F3871', 'L3_S36_F3920', 'L3_S38_F3960', 'L0_S8_D145_normalized', 'L3_S33_D3856_normalized', 'L3_S36_D3919_normalized', 'max', 'min_max', 'L0_min', 'L2_min', 'L3_min', 'L3_max', 'L3_min_max', 'L3_S32_F3854_48']\n",
      "Reloading Train Data...\n",
      "Predicting...\n",
      "fold 0, ROC AUC: 0.663\n",
      "fold 1, ROC AUC: 0.653\n",
      "fold 2, ROC AUC: 0.640\n",
      "0.652027984645\n"
     ]
    },
    {
     "name": "stderr",
     "output_type": "stream",
     "text": [
      "/usr/local/lib/python3.5/dist-packages/sklearn/metrics/classification.py:516: RuntimeWarning: invalid value encountered in double_scalars\n",
      "  mcc = cov_ytyp / np.sqrt(var_yt * var_yp)\n"
     ]
    },
    {
     "name": "stdout",
     "output_type": "stream",
     "text": [
      "0.053354632396\n",
      "Loading Test Data...\n"
     ]
    },
    {
     "data": {
      "image/png": "[encoded data removed]",
      "text/plain": [
       "<matplotlib.figure.Figure at 0x7fd8811a2780>"
      ]
     },
     "metadata": {},
     "output_type": "display_data"
    }
   ],
   "source": [
    "subs = []\n",
    "for i in range(len(train_index_list)):\n",
    "    important_columns, clf, best_threshold = xgboost_bosch(train_index_list[i], train_file_list[i])\n",
    "    sub = predict(important_columns, test_index_list[i], clf, best_threshold, train_file_list[i])\n",
    "    subs.append(sub)"
   ]
  },
  {
   "cell_type": "code",
   "execution_count": 8,
   "metadata": {
    "collapsed": false
   },
   "outputs": [],
   "source": [
    "sub = pd.concat(subs)"
   ]
  },
  {
   "cell_type": "code",
   "execution_count": 9,
   "metadata": {
    "collapsed": true
   },
   "outputs": [],
   "source": [
    "sub.to_csv(\"submission.csv.gz\", compression=\"gzip\")"
   ]
  },
  {
   "cell_type": "markdown",
   "metadata": {},
   "source": [
    "解析用"
   ]
  },
  {
   "cell_type": "code",
   "execution_count": 15,
   "metadata": {
    "collapsed": false
   },
   "outputs": [
    {
     "name": "stdout",
     "output_type": "stream",
     "text": [
      "Loading Train Data...\n",
      "Train Data is too large! size=926927\n",
      "Selecting Train Features...\n",
      "['L3_S32_F3854', 'L0_S0_F4', 'L0_S0_F20', 'L0_S1_F28', 'L0_S3_F80', 'L0_S4_F104', 'L0_S4_F109', 'L0_S5_F116', 'L0_S10_F259', 'L0_S11_F282', 'L0_S11_F326', 'L0_S12_F338', 'L0_S12_F346', 'L0_S13_F356', 'L0_S16_F426', 'L0_S18_F449', 'L1_S25_F2131', 'L2_S26_F3040', 'L2_S27_F3166', 'L3_S29_F3324', 'L3_S29_F3339', 'L3_S29_F3351', 'L3_S29_F3379', 'L3_S29_F3407', 'L3_S29_F3430', 'L3_S29_F3479', 'L3_S30_F3494', 'L3_S30_F3534', 'L3_S30_F3574', 'L3_S30_F3589', 'L3_S30_F3604', 'L3_S30_F3609', 'L3_S30_F3704', 'L3_S30_F3744', 'L3_S30_F3754', 'L3_S30_F3759', 'L3_S30_F3769', 'L3_S30_F3804', 'L3_S30_F3809', 'L3_S30_F3829', 'L3_S32_F3850', 'L3_S33_F3857', 'L3_S33_F3859', 'L3_S33_F3865', 'L3_S35_F3896', 'L3_S36_F3920', 'L3_S33_D3856_normalized', 'L3_S36_D3919_normalized', 'L3_S37_D3942_normalized', 'min', 'max', 'min_max', 'L0_min', 'L2_min', 'L3_min', 'L3_max', 'L3_min_max', 'L3_S32_F3854_48']\n",
      "Reloading Train Data...\n",
      "Predicting...\n",
      "fold 0, ROC AUC: 0.666\n",
      "fold 1, ROC AUC: 0.654\n",
      "fold 2, ROC AUC: 0.650\n",
      "0.656288184184\n"
     ]
    },
    {
     "name": "stderr",
     "output_type": "stream",
     "text": [
      "/usr/local/lib/python3.5/dist-packages/sklearn/metrics/classification.py:516: RuntimeWarning: invalid value encountered in double_scalars\n",
      "  mcc = cov_ytyp / np.sqrt(var_yt * var_yp)\n"
     ]
    },
    {
     "name": "stdout",
     "output_type": "stream",
     "text": [
      "0.0483701837657\n"
     ]
    },
    {
     "data": {
      "image/png": "[encoded data removed]",
      "text/plain": [
       "<matplotlib.figure.Figure at 0x7fd80516ab00>"
      ]
     },
     "metadata": {},
     "output_type": "display_data"
    }
   ],
   "source": [
    "important_columns, clf, best_threshold = xgboost_bosch(train_index_list[5], train_file_list[5])"
   ]
  },
  {
   "cell_type": "code",
   "execution_count": null,
   "metadata": {
    "collapsed": true
   },
   "outputs": [],
   "source": []
  }
 ],
 "metadata": {
  "kernelspec": {
   "display_name": "Python 3",
   "language": "python",
   "name": "python3"
  },
  "language_info": {
   "codemirror_mode": {
    "name": "ipython",
    "version": 3
   },
   "file_extension": ".py",
   "mimetype": "text/x-python",
   "name": "python",
   "nbconvert_exporter": "python",
   "pygments_lexer": "ipython3",
   "version": "3.5.2"
  }
 },
 "nbformat": 4,
 "nbformat_minor": 1
}
