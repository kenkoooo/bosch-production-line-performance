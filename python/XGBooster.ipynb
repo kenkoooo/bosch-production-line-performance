{
 "cells": [
  {
   "cell_type": "code",
   "execution_count": 1,
   "metadata": {
    "collapsed": false
   },
   "outputs": [
    {
     "name": "stderr",
     "output_type": "stream",
     "text": [
      "/usr/local/lib/python3.5/dist-packages/sklearn/cross_validation.py:44: DeprecationWarning: This module was deprecated in version 0.18 in favor of the model_selection module into which all the refactored classes and functions are moved. Also note that the interface of the new CV iterators are different from that of this module. This module will be removed in 0.20.\n",
      "  \"This module will be removed in 0.20.\", DeprecationWarning)\n"
     ]
    }
   ],
   "source": [
    "# ライブラリの皆さん\n",
    "import numpy as np\n",
    "import pandas as pd\n",
    "from xgboost import XGBClassifier\n",
    "from sklearn.metrics import matthews_corrcoef, roc_auc_score\n",
    "from sklearn.cross_validation import cross_val_score, StratifiedKFold\n",
    "import matplotlib.pyplot as plt\n",
    "import time\n",
    "import seaborn as sns\n",
    "%matplotlib inline"
   ]
  },
  {
   "cell_type": "code",
   "execution_count": 8,
   "metadata": {
    "collapsed": true
   },
   "outputs": [],
   "source": [
    "# 入力ファイルの皆さん\n",
    "T_FILES = [\n",
    "#     \"../hdf/train_categorical.hdf\",\n",
    "#     \"../hdf/train_numeric.hdf\",\n",
    "#     \"../hdf/train_date_L0_normalized.hdf\",\n",
    "#     \"../hdf/train_date_L1_normalized.hdf\",\n",
    "#     \"../hdf/train_date_L2_normalized.hdf\",\n",
    "#     \"../hdf/train_date_L3_normalized.hdf\",\n",
    "    \"../hdf/train_date_min_max.hdf\",\n",
    "    \"../hdf/train_date_L0_min_max.hdf\",\n",
    "    \"../hdf/train_date_L1_min_max.hdf\",\n",
    "    \"../hdf/train_date_L2_min_max.hdf\",\n",
    "    \"../hdf/train_date_L3_min_max.hdf\",\n",
    "#     \"../hdf/train_categorical_L3_S32_F3854_decomposite.hdf\",\n",
    "#     \"../hdf/train_numeric_L1_S24_F1844_extract.hdf\",\n",
    "#     \"../hdf/train_numeric_L1_S24_F1723_-0.12.hdf\",\n",
    "#     \"../hdf/train_numeric_L1_S24_F1723_extract.hdf\",\n",
    "#     \"../hdf/train_mask.hdf\",\n",
    "#     \"../hdf/train_S_min_max.hdf\",\n",
    "#     \"../hdf/train_S_C_md5.hdf\",\n",
    "#     \"../hdf/train_S_N_md5.hdf\",\n",
    "    \"../hdf/train_magic.hdf\",\n",
    "    \"../hdf/train_id.hdf\",\n",
    "]\n",
    "RESPONSE = \"../hdf/train_response.hdf\""
   ]
  },
  {
   "cell_type": "markdown",
   "metadata": {},
   "source": [
    "index を分割する"
   ]
  },
  {
   "cell_type": "code",
   "execution_count": 3,
   "metadata": {
    "collapsed": true
   },
   "outputs": [],
   "source": [
    "def split_indices(train_df, test_df):\n",
    "    train_index_list = []\n",
    "    test_index_list = []\n",
    "    train_file_list = []\n",
    "\n",
    "    md5_sum = train_df.loc[[1250]][\"S32_C_md5\"].values[0]\n",
    "    train = train_df[train_df[\"S32_C_md5\"] == md5_sum].index\n",
    "    train_index_list.append(train)\n",
    "    train_df.drop(train, inplace=True)\n",
    "    test = test_df[test_df[\"S32_C_md5\"] == md5_sum].index\n",
    "    test_index_list.append(test)\n",
    "    test_df.drop(test, inplace=True)\n",
    "    train_file_list.append(T_FILES)\n",
    "\n",
    "    md5_sum = train_df.loc[[2400]][\"S32_C_md5\"].values[0]\n",
    "    train = train_df[train_df[\"S32_C_md5\"] == md5_sum].index\n",
    "    train_index_list.append(train)\n",
    "    train_df.drop(train, inplace=True)\n",
    "    test = test_df[test_df[\"S32_C_md5\"] == md5_sum].index\n",
    "    test_index_list.append(test)\n",
    "    test_df.drop(test, inplace=True)\n",
    "    train_file_list.append(T_FILES)\n",
    "\n",
    "    md5_sum_S24_C_md5 = train_df.loc[[137]][\"S24_C_md5\"].values[0]\n",
    "    train = train_df[train_df[\"S24_C_md5\"] == md5_sum_S24_C_md5].index\n",
    "    train_index_list.append(train)\n",
    "    train_df.drop(train, inplace=True)\n",
    "    test = test_df[test_df[\"S24_C_md5\"] == md5_sum_S24_C_md5].index\n",
    "    test_index_list.append(test)\n",
    "    test_df.drop(test, inplace=True)\n",
    "    train_file_list.append(T_FILES)\n",
    "\n",
    "    md5_sum_S24_C_md5 = train_df.loc[[16]][\"S24_C_md5\"].values[0]\n",
    "    train = train_df[train_df[\"S24_C_md5\"] == md5_sum_S24_C_md5].index\n",
    "    train_index_list.append(train)\n",
    "    train_df.drop(train, inplace=True)\n",
    "    test = test_df[test_df[\"S24_C_md5\"] == md5_sum_S24_C_md5].index\n",
    "    test_index_list.append(test)\n",
    "    test_df.drop(test, inplace=True)\n",
    "    train_file_list.append(T_FILES)\n",
    "    \n",
    "    train_index_list.append(train_df.index)\n",
    "    test_index_list.append(test_df.index)\n",
    "    train_file_list.append(T_FILES)\n",
    "    return train_index_list, test_index_list, train_file_list"
   ]
  },
  {
   "cell_type": "code",
   "execution_count": 9,
   "metadata": {
    "collapsed": true
   },
   "outputs": [],
   "source": [
    "def xgboost_bosch(train_indices, train_file_list):\n",
    "    print(\"Loading Train Data...\")\n",
    "    X = pd.concat(\n",
    "        (pd.read_hdf(filename).loc[train_indices]\n",
    "         for filename in train_file_list),\n",
    "        axis=1)\n",
    "    columns = X.columns\n",
    "    if len(X.index) > 600000:\n",
    "        print(\"Train Data is too large! size={s}\".format(s=len(X.index)))\n",
    "        p = 600000 / len(X.index)\n",
    "        X = X.sample(frac=p)\n",
    "    y = pd.read_hdf(RESPONSE).loc[X.index].values.ravel()\n",
    "    X = X.values\n",
    "    # Feature Selection\n",
    "    print(\"Selecting Train Features...\")\n",
    "    clf = XGBClassifier(base_score=0.005)\n",
    "    clf.fit(X, y)\n",
    "    tmp = [(clf.feature_importances_[i], columns[i])\n",
    "           for i in range(len(columns))]\n",
    "    tmp = sorted(tmp, reverse=True)\n",
    "    important_columns = [c[1] for c in tmp[:20]]\n",
    "    print(tmp[:20])\n",
    "    # Reload Train Data\n",
    "    print(\"Reloading Train Data...\")\n",
    "    X = pd.concat(\n",
    "        (drop_columns(\n",
    "            pd.read_hdf(filename).loc[train_indices], important_columns)\n",
    "         for filename in train_file_list),\n",
    "        axis=1)\n",
    "    y = pd.read_hdf(RESPONSE)\n",
    "    y = y.loc[X.index].values.ravel()\n",
    "    X = X.values\n",
    "    # 予測して Cross Validation\n",
    "    print(\"Predicting...\")\n",
    "    clf = XGBClassifier(max_depth=6, base_score=0.005)\n",
    "    cv = StratifiedKFold(y, n_folds=3)\n",
    "    predictions = np.ones(y.shape[0])\n",
    "    for i, (train, test) in enumerate(cv):\n",
    "        predictions[test] = clf.fit(X[train],\n",
    "                                    y[train]).predict_proba(X[test])[:, 1]\n",
    "        print(\"fold {}, ROC AUC: {:.3f}\".format(i, roc_auc_score(y[\n",
    "            test], predictions[test])))\n",
    "    print(roc_auc_score(y, predictions))\n",
    "    # MCC 最適化\n",
    "    thresholds = np.linspace(0.01, 0.99, 200)\n",
    "    mcc = np.array(\n",
    "        [matthews_corrcoef(y, predictions > thr) for thr in thresholds])\n",
    "    plt.plot(thresholds, mcc)\n",
    "    best_threshold = thresholds[mcc.argmax()]\n",
    "    print(mcc.max())\n",
    "    return important_columns, clf, best_threshold\n",
    "\n",
    "def drop_columns(df, undrop_columns):\n",
    "    drop_columns = [c for c in df.columns if c not in undrop_columns]\n",
    "    df.drop(drop_columns, axis=1, inplace=True)\n",
    "    return df\n",
    "\n",
    "def predict(important_columns, test_indices, clf, best_threshold,\n",
    "            train_file_list):\n",
    "    test_file_list = []\n",
    "    for file in train_file_list:\n",
    "        test_file_list.append(file.replace(\"train\", \"test\"))\n",
    "    # テストデータ読み込み\n",
    "    print(\"Loading Test Data...\")\n",
    "    X = pd.concat(\n",
    "        (drop_columns(\n",
    "            pd.read_hdf(filename).loc[test_indices], important_columns)\n",
    "         for filename in test_file_list),\n",
    "        axis=1)\n",
    "    X = X.values\n",
    "    # 0 or 1 に正規化\n",
    "    predictions = (clf.predict_proba(X)[:, 1] > best_threshold).astype(np.int8)\n",
    "    # 提出データを生成\n",
    "    sub = pd.DataFrame(index=test_indices.astype(np.int32), columns=[])\n",
    "    sub[\"Response\"] = predictions\n",
    "    return sub"
   ]
  },
  {
   "cell_type": "code",
   "execution_count": null,
   "metadata": {
    "collapsed": true
   },
   "outputs": [],
   "source": [
    "preload_list = [\"../hdf/train_S_C_md5.hdf\", \"../hdf/train_mask.hdf\"]\n",
    "train_df = pd.concat(\n",
    "    (pd.read_hdf(filename) for filename in preload_list), axis=1)\n",
    "test_df = pd.concat(\n",
    "    (pd.read_hdf(filename.replace(\"train\", \"test\"))\n",
    "     for filename in preload_list),\n",
    "    axis=1)"
   ]
  },
  {
   "cell_type": "code",
   "execution_count": null,
   "metadata": {
    "collapsed": false
   },
   "outputs": [],
   "source": [
    "train_index_list, test_index_list, train_file_list = split_indices(train_df, test_df)\n",
    "train_index_list, test_index_list"
   ]
  },
  {
   "cell_type": "code",
   "execution_count": null,
   "metadata": {
    "collapsed": false,
    "scrolled": false
   },
   "outputs": [],
   "source": [
    "subs = []\n",
    "for i in range(len(train_index_list)):\n",
    "    important_columns, clf, best_threshold = xgboost_bosch(train_index_list[i], train_file_list[i])\n",
    "    sub = predict(important_columns, test_index_list[i], clf, best_threshold, train_file_list[i])\n",
    "    subs.append(sub)"
   ]
  },
  {
   "cell_type": "code",
   "execution_count": null,
   "metadata": {
    "collapsed": false
   },
   "outputs": [],
   "source": [
    "sub = pd.concat(subs)"
   ]
  },
  {
   "cell_type": "code",
   "execution_count": null,
   "metadata": {
    "collapsed": true
   },
   "outputs": [],
   "source": [
    "sub.to_csv(\"submission.csv.gz\", compression=\"gzip\")"
   ]
  },
  {
   "cell_type": "markdown",
   "metadata": {},
   "source": [
    "解析用"
   ]
  },
  {
   "cell_type": "code",
   "execution_count": 10,
   "metadata": {
    "collapsed": true
   },
   "outputs": [],
   "source": [
    "response = pd.read_hdf(RESPONSE)"
   ]
  },
  {
   "cell_type": "code",
   "execution_count": 11,
   "metadata": {
    "collapsed": false
   },
   "outputs": [
    {
     "name": "stdout",
     "output_type": "stream",
     "text": [
      "Loading Train Data...\n",
      "Selecting Train Features...\n",
      "[(0.12103746, 'magic4'), (0.10230547, 'magic3'), (0.099423632, 'L0_min'), (0.089337178, 'L3_min_max'), (0.076368876, 'min'), (0.076368876, 'L2_min'), (0.073487028, 'min_max'), (0.056195967, 'L3_max'), (0.056195967, 'L0_max'), (0.0518732, 'L3_min'), (0.046109509, 'max'), (0.043227665, 'L1_max'), (0.027377522, 'L0_min_max'), (0.0259366, 'L1_min'), (0.018731989, 'L2_max'), (0.014409222, 'magic1'), (0.011527377, 'L1_min_max'), (0.010086455, 'magic2'), (0.0, 'L2_min_max'), (0.0, 'Id')]\n",
      "Reloading Train Data...\n",
      "Predicting...\n",
      "fold 0, ROC AUC: 0.902\n",
      "fold 1, ROC AUC: 0.896\n",
      "fold 2, ROC AUC: 0.872\n",
      "0.741234870379\n",
      "0.135397765554\n"
     ]
    },
    {
     "data": {
      "image/png": "[encoded data removed]",
      "text/plain": [
       "<matplotlib.figure.Figure at 0x7fe7aa7af898>"
      ]
     },
     "metadata": {},
     "output_type": "display_data"
    }
   ],
   "source": [
    "important_columns, clf, best_threshold = xgboost_bosch(response.index, T_FILES)"
   ]
  },
  {
   "cell_type": "code",
   "execution_count": null,
   "metadata": {
    "collapsed": true
   },
   "outputs": [],
   "source": [
    "sub = predict(important_columns, test_index_list[i], clf, best_threshold, train_file_list[i])"
   ]
  }
 ],
 "metadata": {
  "kernelspec": {
   "display_name": "Python 3",
   "language": "python",
   "name": "python3"
  },
  "language_info": {
   "codemirror_mode": {
    "name": "ipython",
    "version": 3
   },
   "file_extension": ".py",
   "mimetype": "text/x-python",
   "name": "python",
   "nbconvert_exporter": "python",
   "pygments_lexer": "ipython3",
   "version": "3.5.2"
  }
 },
 "nbformat": 4,
 "nbformat_minor": 1
}
