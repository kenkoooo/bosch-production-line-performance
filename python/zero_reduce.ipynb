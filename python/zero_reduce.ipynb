{
 "cells": [
  {
   "cell_type": "code",
   "execution_count": 2,
   "metadata": {
    "collapsed": true
   },
   "outputs": [],
   "source": [
    "import numpy as np\n",
    "import pandas as pd\n",
    "import time"
   ]
  },
  {
   "cell_type": "code",
   "execution_count": null,
   "metadata": {
    "collapsed": false
   },
   "outputs": [],
   "source": [
    "filename = \"../output/reduced_train_categorical_binary.csv.gz_reduced.csv.gz\"\n",
    "start = time.time()\n",
    "table = pd.read_csv(filename, compression=\"gzip\", index_col=0)\n",
    "print(time.time() - start)\n",
    "table = table.replace('0', np.nan)\n",
    "start = time.time()\n",
    "table.to_csv(filename, compression=\"gzip\")\n",
    "print(time.time() - start)"
   ]
  },
  {
   "cell_type": "code",
   "execution_count": 11,
   "metadata": {
    "collapsed": true
   },
   "outputs": [],
   "source": [
    "files = [\n",
    "    \"../output/reduced_test_numeric_binary.csv.gz_reduced.csv.gz\",\n",
    "    \"../output/reduced_train_categorical_binary.csv.gz_reduced.csv.gz\",\n",
    "    \"../output/reduced_train_date_binary.csv.gz_reduced.csv.gz\",\n",
    "    \"../output/reduced_train_numeric_binary.csv.gz_reduced.csv.gz\",\n",
    "]"
   ]
  }
 ],
 "metadata": {
  "kernelspec": {
   "display_name": "Python 3",
   "language": "python",
   "name": "python3"
  },
  "language_info": {
   "codemirror_mode": {
    "name": "ipython",
    "version": 3
   },
   "file_extension": ".py",
   "mimetype": "text/x-python",
   "name": "python",
   "nbconvert_exporter": "python",
   "pygments_lexer": "ipython3",
   "version": "3.5.2"
  }
 },
 "nbformat": 4,
 "nbformat_minor": 1
}
