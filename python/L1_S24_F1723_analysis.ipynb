{
 "cells": [
  {
   "cell_type": "code",
   "execution_count": 1,
   "metadata": {
    "collapsed": true
   },
   "outputs": [],
   "source": [
    "import pandas as pd\n",
    "import numpy as np\n",
    "import matplotlib.pyplot as plt\n",
    "import seaborn as sns\n",
    "%matplotlib inline"
   ]
  },
  {
   "cell_type": "code",
   "execution_count": 2,
   "metadata": {
    "collapsed": true
   },
   "outputs": [],
   "source": [
    "train = pd.read_hdf(\"../hdf/train_numeric.hdf\")"
   ]
  },
  {
   "cell_type": "code",
   "execution_count": 3,
   "metadata": {
    "collapsed": true
   },
   "outputs": [],
   "source": [
    "response = pd.read_hdf(\"../hdf/train_response.hdf\")"
   ]
  },
  {
   "cell_type": "code",
   "execution_count": 4,
   "metadata": {
    "collapsed": true
   },
   "outputs": [],
   "source": [
    "tmp = pd.concat([train, response], axis=1)"
   ]
  },
  {
   "cell_type": "code",
   "execution_count": 19,
   "metadata": {
    "collapsed": false
   },
   "outputs": [
    {
     "name": "stderr",
     "output_type": "stream",
     "text": [
      "/usr/local/lib/python3.5/dist-packages/numpy/lib/function_base.py:583: RuntimeWarning: invalid value encountered in greater_equal\n",
      "  keep = (tmp_a >= mn)\n",
      "/usr/local/lib/python3.5/dist-packages/numpy/lib/function_base.py:584: RuntimeWarning: invalid value encountered in less_equal\n",
      "  keep &= (tmp_a <= mx)\n"
     ]
    }
   ],
   "source": [
    "hist = np.histogram(\n",
    "    tmp[tmp[\"Response\"] == 0.0][\"L1_S24_F1844\"].values,\n",
    "    range=(-1.0, 1.0),\n",
    "    bins=100)"
   ]
  },
  {
   "cell_type": "code",
   "execution_count": 20,
   "metadata": {
    "collapsed": false
   },
   "outputs": [],
   "source": [
    "df = pd.DataFrame(\n",
    "    index=hist[1][:-1])\n",
    "df[\"hoge0\"] = hist[0]"
   ]
  },
  {
   "cell_type": "code",
   "execution_count": 41,
   "metadata": {
    "collapsed": false
   },
   "outputs": [
    {
     "name": "stderr",
     "output_type": "stream",
     "text": [
      "/usr/local/lib/python3.5/dist-packages/numpy/lib/function_base.py:583: RuntimeWarning: invalid value encountered in greater_equal\n",
      "  keep = (tmp_a >= mn)\n",
      "/usr/local/lib/python3.5/dist-packages/numpy/lib/function_base.py:584: RuntimeWarning: invalid value encountered in less_equal\n",
      "  keep &= (tmp_a <= mx)\n"
     ]
    }
   ],
   "source": [
    "hist = np.histogram(\n",
    "    tmp[tmp[\"Response\"] == 1.0][\"L1_S24_F1844\"].values,\n",
    "    range=(-0.4, -0.2),\n",
    "    bins=100)"
   ]
  },
  {
   "cell_type": "code",
   "execution_count": 35,
   "metadata": {
    "collapsed": false
   },
   "outputs": [],
   "source": [
    "df[\"hoge1\"] = hist[0]"
   ]
  },
  {
   "cell_type": "code",
   "execution_count": 36,
   "metadata": {
    "collapsed": false
   },
   "outputs": [],
   "source": [
    "df[\"ratio\"] = df[\"hoge1\"] / df.T.sum()"
   ]
  },
  {
   "cell_type": "code",
   "execution_count": 42,
   "metadata": {
    "collapsed": false
   },
   "outputs": [
    {
     "data": {
      "text/plain": [
       "array([ 0,  0,  0,  0,  0,  0,  0,  0,  0,  0,  0,  0,  0,  0,  0,  3,  1,\n",
       "        1,  0,  2,  0,  1,  0,  0,  1,  0,  3,  1,  0,  2,  1,  1,  2,  0,\n",
       "        4,  4,  1,  3,  0,  4,  0,  4,  2,  0,  1,  1,  8,  3, 26, 62, 24,\n",
       "       26, 17, 12, 28, 22, 32, 14, 20, 17, 10, 11, 11,  2,  7,  7,  0, 11,\n",
       "        6,  3,  4,  4,  5,  2,  0,  3, 11,  5,  1,  3,  4,  3,  2,  2,  4,\n",
       "        1,  2,  7,  5,  0,  3,  2,  1,  3,  0,  5,  6,  1,  2,  1])"
      ]
     },
     "execution_count": 42,
     "metadata": {},
     "output_type": "execute_result"
    }
   ],
   "source": [
    "hist[0]"
   ]
  },
  {
   "cell_type": "code",
   "execution_count": 7,
   "metadata": {
    "collapsed": false
   },
   "outputs": [
    {
     "name": "stderr",
     "output_type": "stream",
     "text": [
      "/usr/local/lib/python3.5/dist-packages/numpy/lib/function_base.py:583: RuntimeWarning: invalid value encountered in greater_equal\n",
      "  keep = (tmp_a >= mn)\n",
      "/usr/local/lib/python3.5/dist-packages/numpy/lib/function_base.py:584: RuntimeWarning: invalid value encountered in less_equal\n",
      "  keep &= (tmp_a <= mx)\n"
     ]
    },
    {
     "data": {
      "image/png": "[encoded data removed]",
      "text/plain": [
       "<matplotlib.figure.Figure at 0x7fef06998da0>"
      ]
     },
     "metadata": {},
     "output_type": "display_data"
    }
   ],
   "source": [
    "plt.figure()\n",
    "x = tmp[tmp[\"Response\"] == 1.0][\"L1_S24_F1723\"].values\n",
    "plt.hist(\n",
    "    x,\n",
    "    bins=20,\n",
    "    alpha=0.3,\n",
    "    histtype='stepfilled',\n",
    "    color='b',\n",
    "    range=(-0.2, 0.2))\n",
    "plt.show()"
   ]
  },
  {
   "cell_type": "code",
   "execution_count": 12,
   "metadata": {
    "collapsed": false
   },
   "outputs": [
    {
     "name": "stderr",
     "output_type": "stream",
     "text": [
      "/usr/local/lib/python3.5/dist-packages/numpy/lib/function_base.py:583: RuntimeWarning: invalid value encountered in greater_equal\n",
      "  keep = (tmp_a >= mn)\n",
      "/usr/local/lib/python3.5/dist-packages/numpy/lib/function_base.py:584: RuntimeWarning: invalid value encountered in less_equal\n",
      "  keep &= (tmp_a <= mx)\n"
     ]
    },
    {
     "data": {
      "image/png": "[encoded data removed]",
      "text/plain": [
       "<matplotlib.figure.Figure at 0x7fef06847eb8>"
      ]
     },
     "metadata": {},
     "output_type": "display_data"
    }
   ],
   "source": [
    "plt.figure()\n",
    "x = tmp[tmp[\"Response\"] == 1.0][\"L1_S24_F1723\"].values\n",
    "plt.hist(\n",
    "    x,\n",
    "    bins=20,\n",
    "    alpha=0.3,\n",
    "    histtype='stepfilled',\n",
    "    color='r',\n",
    "    range=(-0.2, -0.12))\n",
    "x = tmp[tmp[\"Response\"] == 0.0][\"L1_S24_F1723\"].values\n",
    "plt.hist(\n",
    "    x,\n",
    "    bins=20,\n",
    "    alpha=0.3,\n",
    "    histtype='stepfilled',\n",
    "    color='b',\n",
    "    range=(-0.2, -0.12))\n",
    "plt.show()"
   ]
  },
  {
   "cell_type": "code",
   "execution_count": 19,
   "metadata": {
    "collapsed": true
   },
   "outputs": [],
   "source": [
    "train = pd.read_hdf(\"../hdf/test_numeric.hdf\")"
   ]
  },
  {
   "cell_type": "code",
   "execution_count": 20,
   "metadata": {
    "collapsed": false,
    "scrolled": true
   },
   "outputs": [],
   "source": [
    "train = train[[\"L1_S24_F1723\"]]\n",
    "train = train.where((-0.12 > train), 1.0)\n",
    "train = train.where(train == 1.0, np.nan)\n",
    "train.rename(columns={\"L1_S24_F1723\": \"L1_S24_F1723_-0.12\"}, inplace=True)\n",
    "train.to_hdf(\"../hdf/test_numeric_L1_S24_F1723_-0.12.hdf\", \"df\", mode=\"w\")"
   ]
  },
  {
   "cell_type": "code",
   "execution_count": null,
   "metadata": {
    "collapsed": true
   },
   "outputs": [],
   "source": []
  }
 ],
 "metadata": {
  "kernelspec": {
   "display_name": "Python 3",
   "language": "python",
   "name": "python3"
  },
  "language_info": {
   "codemirror_mode": {
    "name": "ipython",
    "version": 3
   },
   "file_extension": ".py",
   "mimetype": "text/x-python",
   "name": "python",
   "nbconvert_exporter": "python",
   "pygments_lexer": "ipython3",
   "version": "3.5.2"
  }
 },
 "nbformat": 4,
 "nbformat_minor": 1
}
