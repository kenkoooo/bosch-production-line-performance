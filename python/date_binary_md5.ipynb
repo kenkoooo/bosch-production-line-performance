{
 "cells": [
  {
   "cell_type": "markdown",
   "metadata": {},
   "source": [
    "date を binary で表現して、それを md5 で 1 列にまとめる"
   ]
  },
  {
   "cell_type": "code",
   "execution_count": 1,
   "metadata": {
    "collapsed": true
   },
   "outputs": [],
   "source": [
    "import pandas as pd\n",
    "import numpy as np\n",
    "import time\n",
    "import hashlib\n",
    "import os"
   ]
  },
  {
   "cell_type": "code",
   "execution_count": 2,
   "metadata": {
    "collapsed": false
   },
   "outputs": [],
   "source": [
    "def hash_date(filename):\n",
    "    print(filename, \"start!\")\n",
    "    key = filename.replace(\".hdf\", \"\")\n",
    "    df = pd.read_hdf(\"../hdf/\" + filename)\n",
    "    \n",
    "    print(filename, \"loaded!\")\n",
    "    df = df.fillna(114514)\n",
    "    df = df.where(df == 114514, 1)\n",
    "    df = df.where(df != 114514, 0)\n",
    "    md5_result = df.apply(\n",
    "        lambda x: int(hashlib.md5(\",\".join([str(y) for y in x]).encode(\"ascii\")).hexdigest(), 16),\n",
    "        axis=1)\n",
    "    df[\"MD5\"] = md5_result\n",
    "    md5_result = pd.DataFrame(df[\"MD5\"])\n",
    "    md5_result.to_hdf(\"../hdf/\" + key +\"_md5.hdf\", key + \"_md5\")\n",
    "    print(key, \"end!\")"
   ]
  },
  {
   "cell_type": "code",
   "execution_count": 3,
   "metadata": {
    "collapsed": false
   },
   "outputs": [
    {
     "name": "stdout",
     "output_type": "stream",
     "text": [
      "train_date_reduced_L0.hdf\n",
      "test_date_reduced_L3.hdf\n",
      "train_date_reduced_L2.hdf\n",
      "test_date_reduced.hdf\n",
      "test_date_reduced_L1.hdf\n",
      "train_date_reduced_L1.hdf\n",
      "train_date_reduced_L3.hdf\n",
      "test_date_reduced_L0.hdf\n",
      "train_date_reduced.hdf\n",
      "test_date_reduced_L2.hdf\n",
      "train_date_reduced_L0_md5.hdf\n"
     ]
    }
   ],
   "source": [
    "for f in os.listdir(\"../hdf/\"):\n",
    "    if \"_date_\" not in f:\n",
    "        continue\n",
    "    if \"min\" in f:\n",
    "        continue\n",
    "    print(f)"
   ]
  },
  {
   "cell_type": "code",
   "execution_count": 6,
   "metadata": {
    "collapsed": false
   },
   "outputs": [
    {
     "name": "stdout",
     "output_type": "stream",
     "text": [
      "test_date_reduced_L0.hdf start!\n",
      "test_date_reduced_L0.hdf loaded!\n",
      "test_date_reduced_L0 end!\n"
     ]
    },
    {
     "name": "stderr",
     "output_type": "stream",
     "text": [
      "/usr/local/lib/python3.5/dist-packages/pandas/core/generic.py:1138: PerformanceWarning: \n",
      "your performance may suffer as PyTables will pickle object types that it cannot\n",
      "map directly to c-types [inferred_type->integer,key->block0_values] [items->['MD5']]\n",
      "\n",
      "  return pytables.to_hdf(path_or_buf, key, self, **kwargs)\n"
     ]
    }
   ],
   "source": [
    "hash_date(\"test_date_reduced_L0.hdf\")"
   ]
  },
  {
   "cell_type": "code",
   "execution_count": null,
   "metadata": {
    "collapsed": true
   },
   "outputs": [],
   "source": []
  }
 ],
 "metadata": {
  "kernelspec": {
   "display_name": "Python 3",
   "language": "python",
   "name": "python3"
  },
  "language_info": {
   "codemirror_mode": {
    "name": "ipython",
    "version": 3
   },
   "file_extension": ".py",
   "mimetype": "text/x-python",
   "name": "python",
   "nbconvert_exporter": "python",
   "pygments_lexer": "ipython3",
   "version": "3.5.2"
  }
 },
 "nbformat": 4,
 "nbformat_minor": 1
}
