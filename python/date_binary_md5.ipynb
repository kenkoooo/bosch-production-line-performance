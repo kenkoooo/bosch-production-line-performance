{
 "cells": [
  {
   "cell_type": "markdown",
   "metadata": {},
   "source": [
    "date を binary で表現して、それを md5 で 1 列にまとめる"
   ]
  },
  {
   "cell_type": "code",
   "execution_count": 1,
   "metadata": {
    "collapsed": true
   },
   "outputs": [],
   "source": [
    "import pandas as pd\n",
    "import numpy as np\n",
    "import time\n",
    "import hashlib\n",
    "import os\n",
    "import re"
   ]
  },
  {
   "cell_type": "code",
   "execution_count": 2,
   "metadata": {
    "collapsed": false
   },
   "outputs": [],
   "source": [
    "def hash_date(filename, name):\n",
    "    print(filename, \"start!\")\n",
    "    key = filename.replace(\".hdf\", \"\")\n",
    "    df = pd.read_hdf(\"../hdf/\" + filename)\n",
    "    \n",
    "    print(filename, \"loaded!\")\n",
    "    df = df.fillna(114514)\n",
    "    df = df.where(df == 114514, 1)\n",
    "    df = df.where(df != 114514, 0)\n",
    "    md5_result = df.apply(\n",
    "        lambda x: int(hashlib.md5(\",\".join([str(y) for y in x]).encode(\"ascii\")).hexdigest(), 16),\n",
    "        axis=1)\n",
    "    df[name] = md5_result\n",
    "    md5_result = pd.DataFrame(df[name])\n",
    "    md5_result.to_hdf(\"../hdf/\" + key +\"_md5.hdf\", key + \"_md5\")\n",
    "    print(key, \"end!\")"
   ]
  },
  {
   "cell_type": "code",
   "execution_count": 3,
   "metadata": {
    "collapsed": false
   },
   "outputs": [
    {
     "name": "stdout",
     "output_type": "stream",
     "text": [
      "test_date_L0.hdf date_L0_md5\n",
      "test_date_L0.hdf start!\n",
      "test_date_L0.hdf loaded!\n"
     ]
    },
    {
     "name": "stderr",
     "output_type": "stream",
     "text": [
      "/usr/local/lib/python3.5/dist-packages/pandas/core/generic.py:1138: PerformanceWarning: \n",
      "your performance may suffer as PyTables will pickle object types that it cannot\n",
      "map directly to c-types [inferred_type->integer,key->block0_values] [items->['date_L0_md5']]\n",
      "\n",
      "  return pytables.to_hdf(path_or_buf, key, self, **kwargs)\n"
     ]
    },
    {
     "name": "stdout",
     "output_type": "stream",
     "text": [
      "test_date_L0 end!\n",
      "test_date_L2.hdf date_L2_md5\n",
      "test_date_L2.hdf start!\n",
      "test_date_L2.hdf loaded!\n"
     ]
    },
    {
     "name": "stderr",
     "output_type": "stream",
     "text": [
      "/usr/local/lib/python3.5/dist-packages/pandas/core/generic.py:1138: PerformanceWarning: \n",
      "your performance may suffer as PyTables will pickle object types that it cannot\n",
      "map directly to c-types [inferred_type->integer,key->block0_values] [items->['date_L2_md5']]\n",
      "\n",
      "  return pytables.to_hdf(path_or_buf, key, self, **kwargs)\n"
     ]
    },
    {
     "name": "stdout",
     "output_type": "stream",
     "text": [
      "test_date_L2 end!\n",
      "test_date_L3.hdf date_L3_md5\n",
      "test_date_L3.hdf start!\n",
      "test_date_L3.hdf loaded!\n"
     ]
    },
    {
     "name": "stderr",
     "output_type": "stream",
     "text": [
      "/usr/local/lib/python3.5/dist-packages/pandas/core/generic.py:1138: PerformanceWarning: \n",
      "your performance may suffer as PyTables will pickle object types that it cannot\n",
      "map directly to c-types [inferred_type->integer,key->block0_values] [items->['date_L3_md5']]\n",
      "\n",
      "  return pytables.to_hdf(path_or_buf, key, self, **kwargs)\n"
     ]
    },
    {
     "name": "stdout",
     "output_type": "stream",
     "text": [
      "test_date_L3 end!\n",
      "train_date.hdf date_md5\n",
      "train_date.hdf start!\n",
      "train_date.hdf loaded!\n"
     ]
    },
    {
     "name": "stderr",
     "output_type": "stream",
     "text": [
      "/usr/local/lib/python3.5/dist-packages/pandas/core/generic.py:1138: PerformanceWarning: \n",
      "your performance may suffer as PyTables will pickle object types that it cannot\n",
      "map directly to c-types [inferred_type->integer,key->block0_values] [items->['date_md5']]\n",
      "\n",
      "  return pytables.to_hdf(path_or_buf, key, self, **kwargs)\n"
     ]
    },
    {
     "name": "stdout",
     "output_type": "stream",
     "text": [
      "train_date end!\n",
      "train_date_L3.hdf date_L3_md5\n",
      "train_date_L3.hdf start!\n",
      "train_date_L3.hdf loaded!\n",
      "train_date_L3 end!\n",
      "train_date_L1.hdf date_L1_md5\n",
      "train_date_L1.hdf start!\n",
      "train_date_L1.hdf loaded!\n"
     ]
    },
    {
     "name": "stderr",
     "output_type": "stream",
     "text": [
      "/usr/local/lib/python3.5/dist-packages/pandas/core/generic.py:1138: PerformanceWarning: \n",
      "your performance may suffer as PyTables will pickle object types that it cannot\n",
      "map directly to c-types [inferred_type->integer,key->block0_values] [items->['date_L1_md5']]\n",
      "\n",
      "  return pytables.to_hdf(path_or_buf, key, self, **kwargs)\n"
     ]
    },
    {
     "name": "stdout",
     "output_type": "stream",
     "text": [
      "train_date_L1 end!\n",
      "train_date_L0.hdf date_L0_md5\n",
      "train_date_L0.hdf start!\n",
      "train_date_L0.hdf loaded!\n",
      "train_date_L0 end!\n",
      "train_date_L2.hdf date_L2_md5\n",
      "train_date_L2.hdf start!\n",
      "train_date_L2.hdf loaded!\n",
      "train_date_L2 end!\n",
      "test_date_L1.hdf date_L1_md5\n",
      "test_date_L1.hdf start!\n",
      "test_date_L1.hdf loaded!\n",
      "test_date_L1 end!\n",
      "test_date.hdf date_md5\n",
      "test_date.hdf start!\n",
      "test_date.hdf loaded!\n",
      "test_date end!\n"
     ]
    }
   ],
   "source": [
    "for f in os.listdir(\"../hdf/\"):\n",
    "    if \"_date\" not in f:\n",
    "        continue\n",
    "    if \"min\" in f:\n",
    "        continue\n",
    "    if \"md5\" in f:\n",
    "        continue\n",
    "    name = f.replace(\".hdf\", \"\")\n",
    "    name = re.sub(r\"^[a-z]*_\", \"\", name)\n",
    "    name = name + \"_md5\"\n",
    "    print(f, name)\n",
    "    hash_date(f, name)"
   ]
  },
  {
   "cell_type": "code",
   "execution_count": null,
   "metadata": {
    "collapsed": true
   },
   "outputs": [],
   "source": []
  }
 ],
 "metadata": {
  "kernelspec": {
   "display_name": "Python 3",
   "language": "python",
   "name": "python3"
  },
  "language_info": {
   "codemirror_mode": {
    "name": "ipython",
    "version": 3
   },
   "file_extension": ".py",
   "mimetype": "text/x-python",
   "name": "python",
   "nbconvert_exporter": "python",
   "pygments_lexer": "ipython3",
   "version": "3.5.2"
  }
 },
 "nbformat": 4,
 "nbformat_minor": 1
}
